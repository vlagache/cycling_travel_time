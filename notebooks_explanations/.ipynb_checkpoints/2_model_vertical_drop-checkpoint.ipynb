{
 "cells": [
  {
   "cell_type": "code",
   "execution_count": 1,
   "metadata": {},
   "outputs": [],
   "source": [
    "import elasticsearch\n",
    "import pandas as pd\n",
    "import numpy as np\n",
    "import seaborn as sns\n",
    "from dateutil.relativedelta import relativedelta\n",
    "\n",
    "from sklearn.linear_model import LinearRegression\n",
    "from sklearn.model_selection import train_test_split\n",
    "from sklearn.metrics import mean_absolute_error, mean_absolute_percentage_error"
   ]
  },
  {
   "cell_type": "markdown",
   "metadata": {},
   "source": [
    "###  The goal is to make a simple algorithm taking this time into account the vertical drop of the road, the performance must be better than the naive algorithm."
   ]
  },
  {
   "cell_type": "code",
   "execution_count": 2,
   "metadata": {},
   "outputs": [],
   "source": [
    "hosts = [{\"host\": 'localhost', \"port\": 9200}]\n",
    "database = elasticsearch.Elasticsearch(hosts=hosts)"
   ]
  },
  {
   "cell_type": "code",
   "execution_count": 3,
   "metadata": {},
   "outputs": [],
   "source": [
    "def get_datas(database):\n",
    "    query = {\n",
    "        \"query\": {\n",
    "            \"match_all\": {}\n",
    "        }\n",
    "    }\n",
    "\n",
    "    result = database.search(\n",
    "        index=\"index_activity\",\n",
    "        size=1000,\n",
    "        body= query\n",
    "    )\n",
    "    \n",
    "    \n",
    "    activities = result['hits']['hits']\n",
    "    activities_json = [ activity.get(\"_source\") for activity in activities]\n",
    "    activities_df = pd.DataFrame(activities_json)\n",
    "    activities_df = activities_df.drop(columns=['py/object', 'segment_efforts'])\n",
    "    \n",
    "    segments_json = [ segment for activity in activities_json for segment in activity.get(\"segment_efforts\")]\n",
    "    segments_df = pd.DataFrame(segments_json)\n",
    "    segments_df = segments_df.drop(columns=['py/object'])\n",
    "    \n",
    "    return activities_df, segments_df\n",
    "\n",
    "activities_df, segments_df = get_datas(database)"
   ]
  },
  {
   "cell_type": "code",
   "execution_count": 4,
   "metadata": {},
   "outputs": [
    {
     "name": "stdout",
     "output_type": "stream",
     "text": [
      "(211, 17)\n",
      "(1992, 16)\n"
     ]
    }
   ],
   "source": [
    "print(activities_df.shape)\n",
    "print(segments_df.shape)"
   ]
  },
  {
   "cell_type": "code",
   "execution_count": 5,
   "metadata": {},
   "outputs": [
    {
     "data": {
      "text/plain": [
       "(1910, 16)"
      ]
     },
     "execution_count": 5,
     "metadata": {},
     "output_type": "execute_result"
    }
   ],
   "source": [
    "segments_df = segments_df.loc[segments_df['distance'] <= 15000]\n",
    "segments_df.shape"
   ]
  },
  {
   "cell_type": "markdown",
   "metadata": {},
   "source": [
    "### Vertical Drop Algo"
   ]
  },
  {
   "cell_type": "code",
   "execution_count": 6,
   "metadata": {},
   "outputs": [
    {
     "data": {
      "text/html": [
       "<div>\n",
       "<style scoped>\n",
       "    .dataframe tbody tr th:only-of-type {\n",
       "        vertical-align: middle;\n",
       "    }\n",
       "\n",
       "    .dataframe tbody tr th {\n",
       "        vertical-align: top;\n",
       "    }\n",
       "\n",
       "    .dataframe thead th {\n",
       "        text-align: right;\n",
       "    }\n",
       "</style>\n",
       "<table border=\"1\" class=\"dataframe\">\n",
       "  <thead>\n",
       "    <tr style=\"text-align: right;\">\n",
       "      <th></th>\n",
       "      <th>elapsed_time</th>\n",
       "      <th>distance</th>\n",
       "      <th>average_grade</th>\n",
       "    </tr>\n",
       "  </thead>\n",
       "  <tbody>\n",
       "    <tr>\n",
       "      <th>0</th>\n",
       "      <td>176</td>\n",
       "      <td>1137.3</td>\n",
       "      <td>2.6</td>\n",
       "    </tr>\n",
       "    <tr>\n",
       "      <th>1</th>\n",
       "      <td>63</td>\n",
       "      <td>394.3</td>\n",
       "      <td>2.1</td>\n",
       "    </tr>\n",
       "    <tr>\n",
       "      <th>2</th>\n",
       "      <td>99</td>\n",
       "      <td>611.1</td>\n",
       "      <td>3.3</td>\n",
       "    </tr>\n",
       "    <tr>\n",
       "      <th>3</th>\n",
       "      <td>285</td>\n",
       "      <td>1641.6</td>\n",
       "      <td>3.4</td>\n",
       "    </tr>\n",
       "    <tr>\n",
       "      <th>4</th>\n",
       "      <td>256</td>\n",
       "      <td>2323.4</td>\n",
       "      <td>-1.1</td>\n",
       "    </tr>\n",
       "  </tbody>\n",
       "</table>\n",
       "</div>"
      ],
      "text/plain": [
       "   elapsed_time  distance  average_grade\n",
       "0           176    1137.3            2.6\n",
       "1            63     394.3            2.1\n",
       "2            99     611.1            3.3\n",
       "3           285    1641.6            3.4\n",
       "4           256    2323.4           -1.1"
      ]
     },
     "execution_count": 6,
     "metadata": {},
     "output_type": "execute_result"
    }
   ],
   "source": [
    "columns = ['elapsed_time','distance','average_grade']\n",
    "data = segments_df[columns]\n",
    "data.head(5)"
   ]
  },
  {
   "cell_type": "code",
   "execution_count": 7,
   "metadata": {},
   "outputs": [
    {
     "name": "stdout",
     "output_type": "stream",
     "text": [
      "(1719,)\n",
      "(1719, 2)\n",
      "(191,)\n",
      "(191, 2)\n"
     ]
    }
   ],
   "source": [
    "train_set , test_set = train_test_split(data, test_size=0.1, random_state=42)\n",
    "\n",
    "y_train = train_set[\"elapsed_time\"]\n",
    "X_train = train_set.drop(\"elapsed_time\", axis=1)\n",
    "y_test  = test_set[\"elapsed_time\"]\n",
    "X_test = test_set.drop(\"elapsed_time\", axis=1)\n",
    "\n",
    "\n",
    "print(y_train.shape)\n",
    "print(X_train.shape)\n",
    "print(y_test.shape)\n",
    "print(X_test.shape)"
   ]
  },
  {
   "cell_type": "code",
   "execution_count": 8,
   "metadata": {},
   "outputs": [
    {
     "data": {
      "text/html": [
       "<div>\n",
       "<style scoped>\n",
       "    .dataframe tbody tr th:only-of-type {\n",
       "        vertical-align: middle;\n",
       "    }\n",
       "\n",
       "    .dataframe tbody tr th {\n",
       "        vertical-align: top;\n",
       "    }\n",
       "\n",
       "    .dataframe thead th {\n",
       "        text-align: right;\n",
       "    }\n",
       "</style>\n",
       "<table border=\"1\" class=\"dataframe\">\n",
       "  <thead>\n",
       "    <tr style=\"text-align: right;\">\n",
       "      <th></th>\n",
       "      <th>distance</th>\n",
       "      <th>average_grade</th>\n",
       "    </tr>\n",
       "  </thead>\n",
       "  <tbody>\n",
       "    <tr>\n",
       "      <th>1537</th>\n",
       "      <td>1596.25</td>\n",
       "      <td>5.0</td>\n",
       "    </tr>\n",
       "    <tr>\n",
       "      <th>511</th>\n",
       "      <td>1399.10</td>\n",
       "      <td>0.5</td>\n",
       "    </tr>\n",
       "    <tr>\n",
       "      <th>838</th>\n",
       "      <td>3753.70</td>\n",
       "      <td>3.2</td>\n",
       "    </tr>\n",
       "    <tr>\n",
       "      <th>1274</th>\n",
       "      <td>657.60</td>\n",
       "      <td>7.8</td>\n",
       "    </tr>\n",
       "    <tr>\n",
       "      <th>1081</th>\n",
       "      <td>67.10</td>\n",
       "      <td>22.5</td>\n",
       "    </tr>\n",
       "    <tr>\n",
       "      <th>...</th>\n",
       "      <td>...</td>\n",
       "      <td>...</td>\n",
       "    </tr>\n",
       "    <tr>\n",
       "      <th>1211</th>\n",
       "      <td>6976.50</td>\n",
       "      <td>-0.0</td>\n",
       "    </tr>\n",
       "    <tr>\n",
       "      <th>1376</th>\n",
       "      <td>1054.50</td>\n",
       "      <td>-3.3</td>\n",
       "    </tr>\n",
       "    <tr>\n",
       "      <th>929</th>\n",
       "      <td>2323.40</td>\n",
       "      <td>-1.1</td>\n",
       "    </tr>\n",
       "    <tr>\n",
       "      <th>1541</th>\n",
       "      <td>1262.30</td>\n",
       "      <td>6.2</td>\n",
       "    </tr>\n",
       "    <tr>\n",
       "      <th>1207</th>\n",
       "      <td>6976.50</td>\n",
       "      <td>-0.0</td>\n",
       "    </tr>\n",
       "  </tbody>\n",
       "</table>\n",
       "<p>1719 rows × 2 columns</p>\n",
       "</div>"
      ],
      "text/plain": [
       "      distance  average_grade\n",
       "1537   1596.25            5.0\n",
       "511    1399.10            0.5\n",
       "838    3753.70            3.2\n",
       "1274    657.60            7.8\n",
       "1081     67.10           22.5\n",
       "...        ...            ...\n",
       "1211   6976.50           -0.0\n",
       "1376   1054.50           -3.3\n",
       "929    2323.40           -1.1\n",
       "1541   1262.30            6.2\n",
       "1207   6976.50           -0.0\n",
       "\n",
       "[1719 rows x 2 columns]"
      ]
     },
     "execution_count": 8,
     "metadata": {},
     "output_type": "execute_result"
    }
   ],
   "source": [
    "X_train"
   ]
  },
  {
   "cell_type": "code",
   "execution_count": 9,
   "metadata": {},
   "outputs": [
    {
     "data": {
      "text/plain": [
       "<seaborn.axisgrid.FacetGrid at 0x2146362f898>"
      ]
     },
     "execution_count": 9,
     "metadata": {},
     "output_type": "execute_result"
    },
    {
     "data": {
      "image/png": "[encoded data removed]",
      "text/plain": [
       "<Figure size 360x360 with 1 Axes>"
      ]
     },
     "metadata": {
      "needs_background": "light"
     },
     "output_type": "display_data"
    }
   ],
   "source": [
    "sns.displot(y_train)"
   ]
  },
  {
   "cell_type": "code",
   "execution_count": 10,
   "metadata": {},
   "outputs": [
    {
     "data": {
      "text/plain": [
       "<seaborn.axisgrid.FacetGrid at 0x21463b0fbe0>"
      ]
     },
     "execution_count": 10,
     "metadata": {},
     "output_type": "execute_result"
    },
    {
     "data": {
      "image/png": "[encoded data removed]",
      "text/plain": [
       "<Figure size 360x360 with 1 Axes>"
      ]
     },
     "metadata": {
      "needs_background": "light"
     },
     "output_type": "display_data"
    }
   ],
   "source": [
    "sns.displot(np.log(y_train))"
   ]
  },
  {
   "cell_type": "code",
   "execution_count": 11,
   "metadata": {},
   "outputs": [
    {
     "data": {
      "text/plain": [
       "1537    6.340359\n",
       "511     5.209486\n",
       "838     6.371612\n",
       "1274    4.875197\n",
       "1081    3.583519\n",
       "          ...   \n",
       "1211    6.533789\n",
       "1376    5.129899\n",
       "929     5.556828\n",
       "1541    6.222576\n",
       "1207    6.626718\n",
       "Name: elapsed_time, Length: 1719, dtype: float64"
      ]
     },
     "execution_count": 11,
     "metadata": {},
     "output_type": "execute_result"
    }
   ],
   "source": [
    "y_train_log = np.log(y_train)\n",
    "y_train_log"
   ]
  },
  {
   "cell_type": "code",
   "execution_count": 12,
   "metadata": {},
   "outputs": [],
   "source": [
    "reg = LinearRegression().fit(X_train,y_train_log)\n",
    "y_pred_log = reg.predict(X_test)"
   ]
  },
  {
   "cell_type": "code",
   "execution_count": 13,
   "metadata": {},
   "outputs": [
    {
     "name": "stdout",
     "output_type": "stream",
     "text": [
      "naive_mae : 262.41820092255347\n",
      "naive_mape: 0.5153343222817864\n"
     ]
    }
   ],
   "source": [
    "naive_mae = mean_absolute_error(y_test,np.exp(y_pred_log))\n",
    "naive_mape = mean_absolute_percentage_error(y_test, np.exp(y_pred_log))\n",
    "print(f'naive_mae : {naive_mae}')\n",
    "print(f'naive_mape: {naive_mape}')"
   ]
  },
  {
   "cell_type": "code",
   "execution_count": 14,
   "metadata": {},
   "outputs": [
    {
     "data": {
      "text/html": [
       "<div>\n",
       "<style scoped>\n",
       "    .dataframe tbody tr th:only-of-type {\n",
       "        vertical-align: middle;\n",
       "    }\n",
       "\n",
       "    .dataframe tbody tr th {\n",
       "        vertical-align: top;\n",
       "    }\n",
       "\n",
       "    .dataframe thead th {\n",
       "        text-align: right;\n",
       "    }\n",
       "</style>\n",
       "<table border=\"1\" class=\"dataframe\">\n",
       "  <thead>\n",
       "    <tr style=\"text-align: right;\">\n",
       "      <th></th>\n",
       "      <th>distance</th>\n",
       "      <th>altitude_gain</th>\n",
       "      <th>vertical_drop</th>\n",
       "      <th>all_points</th>\n",
       "    </tr>\n",
       "  </thead>\n",
       "  <tbody>\n",
       "    <tr>\n",
       "      <th>0</th>\n",
       "      <td>270.55</td>\n",
       "      <td>-0.80</td>\n",
       "      <td>-0.30</td>\n",
       "      <td>[[45.05476, 6.031770000000001], [45.0547500000...</td>\n",
       "    </tr>\n",
       "    <tr>\n",
       "      <th>1</th>\n",
       "      <td>422.22</td>\n",
       "      <td>4.33</td>\n",
       "      <td>1.03</td>\n",
       "      <td>[[45.056370001328915, 6.034199995890939], [45....</td>\n",
       "    </tr>\n",
       "    <tr>\n",
       "      <th>2</th>\n",
       "      <td>427.89</td>\n",
       "      <td>-5.51</td>\n",
       "      <td>-1.29</td>\n",
       "      <td>[[45.059050000000006, 6.0379000000000005], [45...</td>\n",
       "    </tr>\n",
       "    <tr>\n",
       "      <th>3</th>\n",
       "      <td>12615.51</td>\n",
       "      <td>1063.27</td>\n",
       "      <td>8.43</td>\n",
       "      <td>[[45.062720000000006, 6.03701], [45.0628500000...</td>\n",
       "    </tr>\n",
       "  </tbody>\n",
       "</table>\n",
       "</div>"
      ],
      "text/plain": [
       "   distance  altitude_gain  vertical_drop  \\\n",
       "0    270.55          -0.80          -0.30   \n",
       "1    422.22           4.33           1.03   \n",
       "2    427.89          -5.51          -1.29   \n",
       "3  12615.51        1063.27           8.43   \n",
       "\n",
       "                                          all_points  \n",
       "0  [[45.05476, 6.031770000000001], [45.0547500000...  \n",
       "1  [[45.056370001328915, 6.034199995890939], [45....  \n",
       "2  [[45.059050000000006, 6.0379000000000005], [45...  \n",
       "3  [[45.062720000000006, 6.03701], [45.0628500000...  "
      ]
     },
     "execution_count": 14,
     "metadata": {},
     "output_type": "execute_result"
    }
   ],
   "source": [
    "query = {\n",
    "    \"query\": {\n",
    "        \"match\": {\n",
    "            \"_id\": 2787335981548134218\n",
    "        }\n",
    "    }\n",
    "}\n",
    "\n",
    "result = database.search(\n",
    "    index=\"index_route\",\n",
    "    size=1000,\n",
    "    body= query\n",
    ")\n",
    "\n",
    "route_alpe = result['hits']['hits'][0]['_source']\n",
    "segments_alpe = route_alpe.get(\"segmentation\")\n",
    "segments_alpe_df = pd.DataFrame(segments_alpe)\n",
    "segments_alpe_df"
   ]
  },
  {
   "cell_type": "code",
   "execution_count": 15,
   "metadata": {},
   "outputs": [
    {
     "data": {
      "text/html": [
       "<div>\n",
       "<style scoped>\n",
       "    .dataframe tbody tr th:only-of-type {\n",
       "        vertical-align: middle;\n",
       "    }\n",
       "\n",
       "    .dataframe tbody tr th {\n",
       "        vertical-align: top;\n",
       "    }\n",
       "\n",
       "    .dataframe thead th {\n",
       "        text-align: right;\n",
       "    }\n",
       "</style>\n",
       "<table border=\"1\" class=\"dataframe\">\n",
       "  <thead>\n",
       "    <tr style=\"text-align: right;\">\n",
       "      <th></th>\n",
       "      <th>distance</th>\n",
       "      <th>altitude_gain</th>\n",
       "      <th>average_grade</th>\n",
       "      <th>all_points</th>\n",
       "    </tr>\n",
       "  </thead>\n",
       "  <tbody>\n",
       "    <tr>\n",
       "      <th>0</th>\n",
       "      <td>270.55</td>\n",
       "      <td>-0.80</td>\n",
       "      <td>-0.30</td>\n",
       "      <td>[[45.05476, 6.031770000000001], [45.0547500000...</td>\n",
       "    </tr>\n",
       "    <tr>\n",
       "      <th>1</th>\n",
       "      <td>422.22</td>\n",
       "      <td>4.33</td>\n",
       "      <td>1.03</td>\n",
       "      <td>[[45.056370001328915, 6.034199995890939], [45....</td>\n",
       "    </tr>\n",
       "    <tr>\n",
       "      <th>2</th>\n",
       "      <td>427.89</td>\n",
       "      <td>-5.51</td>\n",
       "      <td>-1.29</td>\n",
       "      <td>[[45.059050000000006, 6.0379000000000005], [45...</td>\n",
       "    </tr>\n",
       "    <tr>\n",
       "      <th>3</th>\n",
       "      <td>12615.51</td>\n",
       "      <td>1063.27</td>\n",
       "      <td>8.43</td>\n",
       "      <td>[[45.062720000000006, 6.03701], [45.0628500000...</td>\n",
       "    </tr>\n",
       "  </tbody>\n",
       "</table>\n",
       "</div>"
      ],
      "text/plain": [
       "   distance  altitude_gain  average_grade  \\\n",
       "0    270.55          -0.80          -0.30   \n",
       "1    422.22           4.33           1.03   \n",
       "2    427.89          -5.51          -1.29   \n",
       "3  12615.51        1063.27           8.43   \n",
       "\n",
       "                                          all_points  \n",
       "0  [[45.05476, 6.031770000000001], [45.0547500000...  \n",
       "1  [[45.056370001328915, 6.034199995890939], [45....  \n",
       "2  [[45.059050000000006, 6.0379000000000005], [45...  \n",
       "3  [[45.062720000000006, 6.03701], [45.0628500000...  "
      ]
     },
     "execution_count": 15,
     "metadata": {},
     "output_type": "execute_result"
    }
   ],
   "source": [
    "segments_alpe_df = segments_alpe_df.rename(columns={'vertical_drop':'average_grade'})\n",
    "segments_alpe_df"
   ]
  },
  {
   "cell_type": "code",
   "execution_count": 16,
   "metadata": {},
   "outputs": [
    {
     "data": {
      "text/html": [
       "<div>\n",
       "<style scoped>\n",
       "    .dataframe tbody tr th:only-of-type {\n",
       "        vertical-align: middle;\n",
       "    }\n",
       "\n",
       "    .dataframe tbody tr th {\n",
       "        vertical-align: top;\n",
       "    }\n",
       "\n",
       "    .dataframe thead th {\n",
       "        text-align: right;\n",
       "    }\n",
       "</style>\n",
       "<table border=\"1\" class=\"dataframe\">\n",
       "  <thead>\n",
       "    <tr style=\"text-align: right;\">\n",
       "      <th></th>\n",
       "      <th>distance</th>\n",
       "      <th>average_grade</th>\n",
       "    </tr>\n",
       "  </thead>\n",
       "  <tbody>\n",
       "    <tr>\n",
       "      <th>0</th>\n",
       "      <td>270.55</td>\n",
       "      <td>-0.30</td>\n",
       "    </tr>\n",
       "    <tr>\n",
       "      <th>1</th>\n",
       "      <td>422.22</td>\n",
       "      <td>1.03</td>\n",
       "    </tr>\n",
       "    <tr>\n",
       "      <th>2</th>\n",
       "      <td>427.89</td>\n",
       "      <td>-1.29</td>\n",
       "    </tr>\n",
       "    <tr>\n",
       "      <th>3</th>\n",
       "      <td>12615.51</td>\n",
       "      <td>8.43</td>\n",
       "    </tr>\n",
       "  </tbody>\n",
       "</table>\n",
       "</div>"
      ],
      "text/plain": [
       "   distance  average_grade\n",
       "0    270.55          -0.30\n",
       "1    422.22           1.03\n",
       "2    427.89          -1.29\n",
       "3  12615.51           8.43"
      ]
     },
     "execution_count": 16,
     "metadata": {},
     "output_type": "execute_result"
    }
   ],
   "source": [
    "segments_alpe_df[['distance','average_grade']]"
   ]
  },
  {
   "cell_type": "code",
   "execution_count": 17,
   "metadata": {},
   "outputs": [],
   "source": [
    "alpe_pred = reg.predict(segments_alpe_df[['distance','average_grade']])\n",
    "elapsed_time = relativedelta(seconds=(np.exp(alpe_pred)).sum())"
   ]
  },
  {
   "cell_type": "code",
   "execution_count": 19,
   "metadata": {},
   "outputs": [
    {
     "name": "stdout",
     "output_type": "stream",
     "text": [
      "Prediction 2h46m0sec\n"
     ]
    }
   ],
   "source": [
    "hour = int(elapsed_time.hours)\n",
    "minutes = int(elapsed_time.minutes)\n",
    "seconds = int(elapsed_time.seconds)\n",
    "print(f'Prediction {hour}h{minutes}m{seconds}sec')"
   ]
  },
  {
   "cell_type": "code",
   "execution_count": 21,
   "metadata": {},
   "outputs": [
    {
     "data": {
      "text/plain": [
       "array([  94.59862773,  109.82672084,   92.33008759, 9663.445343  ])"
      ]
     },
     "execution_count": 21,
     "metadata": {},
     "output_type": "execute_result"
    }
   ],
   "source": [
    "np.exp(alpe_pred)"
   ]
  },
  {
   "cell_type": "code",
   "execution_count": null,
   "metadata": {},
   "outputs": [],
   "source": []
  }
 ],
 "metadata": {
  "kernelspec": {
   "display_name": "cycling_travel_time",
   "language": "python",
   "name": "cycling_travel_time"
  },
  "language_info": {
   "codemirror_mode": {
    "name": "ipython",
    "version": 3
   },
   "file_extension": ".py",
   "mimetype": "text/x-python",
   "name": "python",
   "nbconvert_exporter": "python",
   "pygments_lexer": "ipython3",
   "version": "3.6.11"
  }
 },
 "nbformat": 4,
 "nbformat_minor": 4
}
