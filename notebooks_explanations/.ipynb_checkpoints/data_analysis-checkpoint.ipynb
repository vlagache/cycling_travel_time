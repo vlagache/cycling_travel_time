{
 "cells": [
  {
   "cell_type": "code",
   "execution_count": 1,
   "metadata": {},
   "outputs": [],
   "source": [
    "import elasticsearch\n",
    "import pandas as pd\n",
    "import numpy as np\n",
    "%matplotlib inline \n",
    "import matplotlib.pyplot as plt "
   ]
  },
  {
   "cell_type": "markdown",
   "metadata": {},
   "source": [
    "#### Recuperation des données"
   ]
  },
  {
   "cell_type": "code",
   "execution_count": 2,
   "metadata": {},
   "outputs": [],
   "source": [
    "hosts = [{\"host\": 'localhost', \"port\": 9200}]\n",
    "database = elasticsearch.Elasticsearch(hosts=hosts)"
   ]
  },
  {
   "cell_type": "code",
   "execution_count": 3,
   "metadata": {},
   "outputs": [],
   "source": [
    "def get_datas(database):\n",
    "    query = {\n",
    "        \"query\": {\n",
    "            \"match_all\": {}\n",
    "        }\n",
    "    }\n",
    "\n",
    "    result = database.search(\n",
    "        index=\"index_activity\",\n",
    "        size=1000,\n",
    "        body= query\n",
    "    )\n",
    "    \n",
    "    \n",
    "    activities = result['hits']['hits']\n",
    "    activities_json = [ activity.get(\"_source\") for activity in activities]\n",
    "    activities_df = pd.DataFrame(activities_json)\n",
    "    activities_df = activities_df.drop(columns=['py/object', 'segment_efforts'])\n",
    "    \n",
    "    segments_json = [ segment for activity in activities_json for segment in activity.get(\"segment_efforts\")]\n",
    "    segments_df = pd.DataFrame(segments_json)\n",
    "    segments_df = segments_df.drop(columns=['py/object'])\n",
    "    \n",
    "    return activities_df, segments_df\n",
    "\n",
    "activities_df, segments_df = get_datas(database)"
   ]
  },
  {
   "cell_type": "code",
   "execution_count": 4,
   "metadata": {},
   "outputs": [
    {
     "name": "stdout",
     "output_type": "stream",
     "text": [
      "(214, 17)\n",
      "(2020, 16)\n"
     ]
    }
   ],
   "source": [
    "print(activities_df.shape)\n",
    "print(segments_df.shape)"
   ]
  },
  {
   "cell_type": "markdown",
   "metadata": {},
   "source": [
    "**Modification des du format des dates pour la suite**"
   ]
  },
  {
   "cell_type": "code",
   "execution_count": 5,
   "metadata": {},
   "outputs": [],
   "source": [
    "def format_date_column(dataframe):\n",
    "    dataframe['start_date_local'] = pd.to_datetime(dataframe['start_date_local'])\n",
    "    dataframe['start_time'] = dataframe['start_date_local'].dt.time\n",
    "    dataframe['start_date'] = dataframe['start_date_local'].dt.date\n",
    "    dataframe = dataframe.drop(columns=['start_date_local'])\n",
    "    return dataframe"
   ]
  },
  {
   "cell_type": "code",
   "execution_count": 6,
   "metadata": {},
   "outputs": [],
   "source": [
    "segments_df = format_date_column(segments_df)\n",
    "activities_df = format_date_column(activities_df)"
   ]
  },
  {
   "cell_type": "markdown",
   "metadata": {},
   "source": [
    "#### Activités ainsi que les segments Strava composant chacune de ces activitées\n",
    "\n",
    "\n",
    "Certaines activités ne semblent pas avoir de segments => Refonte de segments Strava , cela semble OK \n"
   ]
  },
  {
   "cell_type": "code",
   "execution_count": 7,
   "metadata": {},
   "outputs": [
    {
     "data": {
      "text/plain": [
       "205"
      ]
     },
     "execution_count": 7,
     "metadata": {},
     "output_type": "execute_result"
    }
   ],
   "source": [
    "len(segments_df['activity_id'].unique())"
   ]
  },
  {
   "cell_type": "code",
   "execution_count": 8,
   "metadata": {},
   "outputs": [
    {
     "data": {
      "text/plain": [
       "214"
      ]
     },
     "execution_count": 8,
     "metadata": {},
     "output_type": "execute_result"
    }
   ],
   "source": [
    "len(activities_df['id'].unique())"
   ]
  },
  {
   "cell_type": "code",
   "execution_count": 9,
   "metadata": {},
   "outputs": [
    {
     "name": "stdout",
     "output_type": "stream",
     "text": [
      "3867618242\n",
      "3793647041\n",
      "3791009530\n",
      "2923534509\n",
      "2749334701\n",
      "2545454637\n",
      "2526054334\n",
      "2215374863\n",
      "2104915553\n"
     ]
    }
   ],
   "source": [
    "for id_activity in activities_df['id'].unique():\n",
    "    if id_activity not in segments_df['activity_id'].unique():\n",
    "        print(id_activity)"
   ]
  },
  {
   "cell_type": "markdown",
   "metadata": {},
   "source": [
    "###  Analyse des données"
   ]
  },
  {
   "cell_type": "code",
   "execution_count": 10,
   "metadata": {},
   "outputs": [
    {
     "data": {
      "text/html": [
       "<div>\n",
       "<style scoped>\n",
       "    .dataframe tbody tr th:only-of-type {\n",
       "        vertical-align: middle;\n",
       "    }\n",
       "\n",
       "    .dataframe tbody tr th {\n",
       "        vertical-align: top;\n",
       "    }\n",
       "\n",
       "    .dataframe thead th {\n",
       "        text-align: right;\n",
       "    }\n",
       "</style>\n",
       "<table border=\"1\" class=\"dataframe\">\n",
       "  <thead>\n",
       "    <tr style=\"text-align: right;\">\n",
       "      <th></th>\n",
       "      <th>id</th>\n",
       "      <th>activity_id</th>\n",
       "      <th>athlete_id</th>\n",
       "      <th>name</th>\n",
       "      <th>type</th>\n",
       "      <th>elapsed_time</th>\n",
       "      <th>moving_time</th>\n",
       "      <th>distance</th>\n",
       "      <th>average_cadence</th>\n",
       "      <th>average_watts</th>\n",
       "      <th>average_grade</th>\n",
       "      <th>maximum_grade</th>\n",
       "      <th>climb_category</th>\n",
       "      <th>average_heart_rate</th>\n",
       "      <th>max_heart_rate</th>\n",
       "      <th>start_time</th>\n",
       "      <th>start_date</th>\n",
       "    </tr>\n",
       "  </thead>\n",
       "  <tbody>\n",
       "    <tr>\n",
       "      <th>0</th>\n",
       "      <td>24674235</td>\n",
       "      <td>4831255939</td>\n",
       "      <td>10944546</td>\n",
       "      <td>Champs-Élysées</td>\n",
       "      <td>VirtualRide</td>\n",
       "      <td>653</td>\n",
       "      <td>653</td>\n",
       "      <td>6623.10</td>\n",
       "      <td>82.3</td>\n",
       "      <td>202.8</td>\n",
       "      <td>0.0</td>\n",
       "      <td>4.6</td>\n",
       "      <td>0</td>\n",
       "      <td>161.2</td>\n",
       "      <td>170.0</td>\n",
       "      <td>18:46:25</td>\n",
       "      <td>2021-02-22</td>\n",
       "    </tr>\n",
       "    <tr>\n",
       "      <th>1</th>\n",
       "      <td>27141377</td>\n",
       "      <td>4831057316</td>\n",
       "      <td>10944546</td>\n",
       "      <td>Epic KOM - Start to Bypass Intersection (Zwift...</td>\n",
       "      <td>VirtualRide</td>\n",
       "      <td>424</td>\n",
       "      <td>424</td>\n",
       "      <td>1882.50</td>\n",
       "      <td>77.3</td>\n",
       "      <td>201.2</td>\n",
       "      <td>3.8</td>\n",
       "      <td>47.8</td>\n",
       "      <td>0</td>\n",
       "      <td>157.9</td>\n",
       "      <td>164.0</td>\n",
       "      <td>18:19:40</td>\n",
       "      <td>2021-02-22</td>\n",
       "    </tr>\n",
       "    <tr>\n",
       "      <th>2</th>\n",
       "      <td>22501195</td>\n",
       "      <td>4818094466</td>\n",
       "      <td>10944546</td>\n",
       "      <td>Villenave-Technopole</td>\n",
       "      <td>Ride</td>\n",
       "      <td>789</td>\n",
       "      <td>789</td>\n",
       "      <td>5100.50</td>\n",
       "      <td>NaN</td>\n",
       "      <td>108.0</td>\n",
       "      <td>0.5</td>\n",
       "      <td>6.4</td>\n",
       "      <td>0</td>\n",
       "      <td>169.0</td>\n",
       "      <td>184.0</td>\n",
       "      <td>14:39:32</td>\n",
       "      <td>2021-02-20</td>\n",
       "    </tr>\n",
       "    <tr>\n",
       "      <th>3</th>\n",
       "      <td>3566434</td>\n",
       "      <td>4818094466</td>\n",
       "      <td>10944546</td>\n",
       "      <td>Col du Chateau d'eau</td>\n",
       "      <td>Ride</td>\n",
       "      <td>217</td>\n",
       "      <td>217</td>\n",
       "      <td>1190.37</td>\n",
       "      <td>NaN</td>\n",
       "      <td>141.8</td>\n",
       "      <td>2.1</td>\n",
       "      <td>7.3</td>\n",
       "      <td>0</td>\n",
       "      <td>170.7</td>\n",
       "      <td>183.0</td>\n",
       "      <td>14:40:47</td>\n",
       "      <td>2021-02-20</td>\n",
       "    </tr>\n",
       "    <tr>\n",
       "      <th>4</th>\n",
       "      <td>20598228</td>\n",
       "      <td>4818094466</td>\n",
       "      <td>10944546</td>\n",
       "      <td>Col du chateau d'eau court</td>\n",
       "      <td>Ride</td>\n",
       "      <td>151</td>\n",
       "      <td>151</td>\n",
       "      <td>745.40</td>\n",
       "      <td>NaN</td>\n",
       "      <td>165.4</td>\n",
       "      <td>2.8</td>\n",
       "      <td>5.5</td>\n",
       "      <td>0</td>\n",
       "      <td>177.5</td>\n",
       "      <td>183.0</td>\n",
       "      <td>14:42:02</td>\n",
       "      <td>2021-02-20</td>\n",
       "    </tr>\n",
       "  </tbody>\n",
       "</table>\n",
       "</div>"
      ],
      "text/plain": [
       "         id  activity_id  athlete_id  \\\n",
       "0  24674235   4831255939    10944546   \n",
       "1  27141377   4831057316    10944546   \n",
       "2  22501195   4818094466    10944546   \n",
       "3   3566434   4818094466    10944546   \n",
       "4  20598228   4818094466    10944546   \n",
       "\n",
       "                                                name         type  \\\n",
       "0                                     Champs-Élysées  VirtualRide   \n",
       "1  Epic KOM - Start to Bypass Intersection (Zwift...  VirtualRide   \n",
       "2                              Villenave-Technopole          Ride   \n",
       "3                               Col du Chateau d'eau         Ride   \n",
       "4                         Col du chateau d'eau court         Ride   \n",
       "\n",
       "   elapsed_time  moving_time  distance  average_cadence  average_watts  \\\n",
       "0           653          653   6623.10             82.3          202.8   \n",
       "1           424          424   1882.50             77.3          201.2   \n",
       "2           789          789   5100.50              NaN          108.0   \n",
       "3           217          217   1190.37              NaN          141.8   \n",
       "4           151          151    745.40              NaN          165.4   \n",
       "\n",
       "   average_grade  maximum_grade  climb_category  average_heart_rate  \\\n",
       "0            0.0            4.6               0               161.2   \n",
       "1            3.8           47.8               0               157.9   \n",
       "2            0.5            6.4               0               169.0   \n",
       "3            2.1            7.3               0               170.7   \n",
       "4            2.8            5.5               0               177.5   \n",
       "\n",
       "   max_heart_rate start_time  start_date  \n",
       "0           170.0   18:46:25  2021-02-22  \n",
       "1           164.0   18:19:40  2021-02-22  \n",
       "2           184.0   14:39:32  2021-02-20  \n",
       "3           183.0   14:40:47  2021-02-20  \n",
       "4           183.0   14:42:02  2021-02-20  "
      ]
     },
     "execution_count": 10,
     "metadata": {},
     "output_type": "execute_result"
    }
   ],
   "source": [
    "segments_df.head()"
   ]
  },
  {
   "cell_type": "code",
   "execution_count": 11,
   "metadata": {},
   "outputs": [
    {
     "name": "stdout",
     "output_type": "stream",
     "text": [
      "<class 'pandas.core.frame.DataFrame'>\n",
      "RangeIndex: 2020 entries, 0 to 2019\n",
      "Data columns (total 17 columns):\n",
      " #   Column              Non-Null Count  Dtype  \n",
      "---  ------              --------------  -----  \n",
      " 0   id                  2020 non-null   int64  \n",
      " 1   activity_id         2020 non-null   int64  \n",
      " 2   athlete_id          2020 non-null   int64  \n",
      " 3   name                2020 non-null   object \n",
      " 4   type                2020 non-null   object \n",
      " 5   elapsed_time        2020 non-null   int64  \n",
      " 6   moving_time         2020 non-null   int64  \n",
      " 7   distance            2020 non-null   float64\n",
      " 8   average_cadence     1105 non-null   float64\n",
      " 9   average_watts       2020 non-null   float64\n",
      " 10  average_grade       2020 non-null   float64\n",
      " 11  maximum_grade       2020 non-null   float64\n",
      " 12  climb_category      2020 non-null   int64  \n",
      " 13  average_heart_rate  1179 non-null   float64\n",
      " 14  max_heart_rate      1179 non-null   float64\n",
      " 15  start_time          2020 non-null   object \n",
      " 16  start_date          2020 non-null   object \n",
      "dtypes: float64(7), int64(6), object(4)\n",
      "memory usage: 268.4+ KB\n"
     ]
    }
   ],
   "source": [
    "segments_df.info()"
   ]
  },
  {
   "cell_type": "markdown",
   "metadata": {},
   "source": [
    "* Variables numériques hormis **name , type et start_date_local** \n",
    "* **average_heart_rate, max_heart_rate et average_cadence** comportent de nombreuses infos manquantes , activités réalisés sans capteur cardiaque et capteur de puissance"
   ]
  },
  {
   "cell_type": "code",
   "execution_count": 12,
   "metadata": {},
   "outputs": [
    {
     "data": {
      "text/plain": [
       "VirtualRide    1080\n",
       "Ride            940\n",
       "Name: type, dtype: int64"
      ]
     },
     "execution_count": 12,
     "metadata": {},
     "output_type": "execute_result"
    }
   ],
   "source": [
    "segments_df['type'].value_counts()"
   ]
  },
  {
   "cell_type": "code",
   "execution_count": 13,
   "metadata": {},
   "outputs": [
    {
     "data": {
      "text/plain": [
       "Col du Chateau d'eau                         31\n",
       "Col du chateau d'eau court                   31\n",
       "Champs-Élysées                               30\n",
       "Arrivée course de Villenave Chambéry         29\n",
       "Rien à foutre                                29\n",
       "                                             ..\n",
       "Jungle Circuit Reverse Lead-In                1\n",
       "5 to 4                                        1\n",
       "Pot Bank Descent (Zwift Insider verified)     1\n",
       "First 3,5 km                                  1\n",
       "Côte de Pied du chateau                       1\n",
       "Name: name, Length: 488, dtype: int64"
      ]
     },
     "execution_count": 13,
     "metadata": {},
     "output_type": "execute_result"
    }
   ],
   "source": [
    "segments_df['name'].value_counts()"
   ]
  },
  {
   "cell_type": "code",
   "execution_count": 14,
   "metadata": {},
   "outputs": [
    {
     "data": {
      "text/html": [
       "<div>\n",
       "<style scoped>\n",
       "    .dataframe tbody tr th:only-of-type {\n",
       "        vertical-align: middle;\n",
       "    }\n",
       "\n",
       "    .dataframe tbody tr th {\n",
       "        vertical-align: top;\n",
       "    }\n",
       "\n",
       "    .dataframe thead th {\n",
       "        text-align: right;\n",
       "    }\n",
       "</style>\n",
       "<table border=\"1\" class=\"dataframe\">\n",
       "  <thead>\n",
       "    <tr style=\"text-align: right;\">\n",
       "      <th></th>\n",
       "      <th>id</th>\n",
       "      <th>activity_id</th>\n",
       "      <th>athlete_id</th>\n",
       "      <th>elapsed_time</th>\n",
       "      <th>moving_time</th>\n",
       "      <th>distance</th>\n",
       "      <th>average_cadence</th>\n",
       "      <th>average_watts</th>\n",
       "      <th>average_grade</th>\n",
       "      <th>maximum_grade</th>\n",
       "      <th>climb_category</th>\n",
       "      <th>average_heart_rate</th>\n",
       "      <th>max_heart_rate</th>\n",
       "    </tr>\n",
       "  </thead>\n",
       "  <tbody>\n",
       "    <tr>\n",
       "      <th>count</th>\n",
       "      <td>2.020000e+03</td>\n",
       "      <td>2.020000e+03</td>\n",
       "      <td>2020.0</td>\n",
       "      <td>2020.000000</td>\n",
       "      <td>2020.000000</td>\n",
       "      <td>2020.000000</td>\n",
       "      <td>1105.000000</td>\n",
       "      <td>2020.000000</td>\n",
       "      <td>2020.000000</td>\n",
       "      <td>2020.000000</td>\n",
       "      <td>2020.000000</td>\n",
       "      <td>1179.000000</td>\n",
       "      <td>1179.000000</td>\n",
       "    </tr>\n",
       "    <tr>\n",
       "      <th>mean</th>\n",
       "      <td>1.559881e+07</td>\n",
       "      <td>3.225139e+09</td>\n",
       "      <td>10944546.0</td>\n",
       "      <td>658.448020</td>\n",
       "      <td>643.550495</td>\n",
       "      <td>3357.715120</td>\n",
       "      <td>80.491493</td>\n",
       "      <td>175.253960</td>\n",
       "      <td>3.128119</td>\n",
       "      <td>9.934554</td>\n",
       "      <td>0.425743</td>\n",
       "      <td>155.440204</td>\n",
       "      <td>165.182358</td>\n",
       "    </tr>\n",
       "    <tr>\n",
       "      <th>std</th>\n",
       "      <td>6.388848e+06</td>\n",
       "      <td>8.920412e+08</td>\n",
       "      <td>0.0</td>\n",
       "      <td>1112.782497</td>\n",
       "      <td>1107.306754</td>\n",
       "      <td>5464.363157</td>\n",
       "      <td>8.092157</td>\n",
       "      <td>58.103286</td>\n",
       "      <td>3.859993</td>\n",
       "      <td>10.398895</td>\n",
       "      <td>1.139124</td>\n",
       "      <td>22.229241</td>\n",
       "      <td>23.820883</td>\n",
       "    </tr>\n",
       "    <tr>\n",
       "      <th>min</th>\n",
       "      <td>1.731538e+06</td>\n",
       "      <td>1.597381e+09</td>\n",
       "      <td>10944546.0</td>\n",
       "      <td>14.000000</td>\n",
       "      <td>14.000000</td>\n",
       "      <td>64.000000</td>\n",
       "      <td>43.000000</td>\n",
       "      <td>18.100000</td>\n",
       "      <td>-8.500000</td>\n",
       "      <td>-2.900000</td>\n",
       "      <td>0.000000</td>\n",
       "      <td>45.500000</td>\n",
       "      <td>81.000000</td>\n",
       "    </tr>\n",
       "    <tr>\n",
       "      <th>25%</th>\n",
       "      <td>1.126408e+07</td>\n",
       "      <td>2.509084e+09</td>\n",
       "      <td>10944546.0</td>\n",
       "      <td>131.750000</td>\n",
       "      <td>125.000000</td>\n",
       "      <td>580.000000</td>\n",
       "      <td>75.200000</td>\n",
       "      <td>136.375000</td>\n",
       "      <td>0.000000</td>\n",
       "      <td>4.200000</td>\n",
       "      <td>0.000000</td>\n",
       "      <td>149.850000</td>\n",
       "      <td>161.000000</td>\n",
       "    </tr>\n",
       "    <tr>\n",
       "      <th>50%</th>\n",
       "      <td>1.732948e+07</td>\n",
       "      <td>3.259841e+09</td>\n",
       "      <td>10944546.0</td>\n",
       "      <td>241.000000</td>\n",
       "      <td>227.000000</td>\n",
       "      <td>1190.370000</td>\n",
       "      <td>81.100000</td>\n",
       "      <td>182.100000</td>\n",
       "      <td>1.900000</td>\n",
       "      <td>8.300000</td>\n",
       "      <td>0.000000</td>\n",
       "      <td>160.500000</td>\n",
       "      <td>171.000000</td>\n",
       "    </tr>\n",
       "    <tr>\n",
       "      <th>75%</th>\n",
       "      <td>2.058558e+07</td>\n",
       "      <td>4.078939e+09</td>\n",
       "      <td>10944546.0</td>\n",
       "      <td>659.250000</td>\n",
       "      <td>640.250000</td>\n",
       "      <td>4137.525000</td>\n",
       "      <td>86.100000</td>\n",
       "      <td>204.900000</td>\n",
       "      <td>6.600000</td>\n",
       "      <td>12.500000</td>\n",
       "      <td>0.000000</td>\n",
       "      <td>168.600000</td>\n",
       "      <td>179.000000</td>\n",
       "    </tr>\n",
       "    <tr>\n",
       "      <th>max</th>\n",
       "      <td>2.740001e+07</td>\n",
       "      <td>4.831256e+09</td>\n",
       "      <td>10944546.0</td>\n",
       "      <td>15378.000000</td>\n",
       "      <td>15372.000000</td>\n",
       "      <td>89053.700000</td>\n",
       "      <td>111.600000</td>\n",
       "      <td>741.400000</td>\n",
       "      <td>22.500000</td>\n",
       "      <td>193.800000</td>\n",
       "      <td>5.000000</td>\n",
       "      <td>187.900000</td>\n",
       "      <td>196.000000</td>\n",
       "    </tr>\n",
       "  </tbody>\n",
       "</table>\n",
       "</div>"
      ],
      "text/plain": [
       "                 id   activity_id  athlete_id  elapsed_time   moving_time  \\\n",
       "count  2.020000e+03  2.020000e+03      2020.0   2020.000000   2020.000000   \n",
       "mean   1.559881e+07  3.225139e+09  10944546.0    658.448020    643.550495   \n",
       "std    6.388848e+06  8.920412e+08         0.0   1112.782497   1107.306754   \n",
       "min    1.731538e+06  1.597381e+09  10944546.0     14.000000     14.000000   \n",
       "25%    1.126408e+07  2.509084e+09  10944546.0    131.750000    125.000000   \n",
       "50%    1.732948e+07  3.259841e+09  10944546.0    241.000000    227.000000   \n",
       "75%    2.058558e+07  4.078939e+09  10944546.0    659.250000    640.250000   \n",
       "max    2.740001e+07  4.831256e+09  10944546.0  15378.000000  15372.000000   \n",
       "\n",
       "           distance  average_cadence  average_watts  average_grade  \\\n",
       "count   2020.000000      1105.000000    2020.000000    2020.000000   \n",
       "mean    3357.715120        80.491493     175.253960       3.128119   \n",
       "std     5464.363157         8.092157      58.103286       3.859993   \n",
       "min       64.000000        43.000000      18.100000      -8.500000   \n",
       "25%      580.000000        75.200000     136.375000       0.000000   \n",
       "50%     1190.370000        81.100000     182.100000       1.900000   \n",
       "75%     4137.525000        86.100000     204.900000       6.600000   \n",
       "max    89053.700000       111.600000     741.400000      22.500000   \n",
       "\n",
       "       maximum_grade  climb_category  average_heart_rate  max_heart_rate  \n",
       "count    2020.000000     2020.000000         1179.000000     1179.000000  \n",
       "mean        9.934554        0.425743          155.440204      165.182358  \n",
       "std        10.398895        1.139124           22.229241       23.820883  \n",
       "min        -2.900000        0.000000           45.500000       81.000000  \n",
       "25%         4.200000        0.000000          149.850000      161.000000  \n",
       "50%         8.300000        0.000000          160.500000      171.000000  \n",
       "75%        12.500000        0.000000          168.600000      179.000000  \n",
       "max       193.800000        5.000000          187.900000      196.000000  "
      ]
     },
     "execution_count": 14,
     "metadata": {},
     "output_type": "execute_result"
    }
   ],
   "source": [
    "segments_df.describe()"
   ]
  },
  {
   "cell_type": "code",
   "execution_count": 15,
   "metadata": {},
   "outputs": [
    {
     "data": {
      "image/png": "[encoded data removed]",
      "text/plain": [
       "<Figure size 1440x1080 with 16 Axes>"
      ]
     },
     "metadata": {
      "needs_background": "light"
     },
     "output_type": "display_data"
    }
   ],
   "source": [
    "segments_df.hist(bins=50, figsize=(20,15))\n",
    "plt.show()"
   ]
  },
  {
   "cell_type": "markdown",
   "metadata": {},
   "source": [
    "* elapsed_time / distance , beaucoup de valeurs abérantes\n",
    "* Pareil pour maximum_grade avec des % moyen de plus de 30% est ce que toute la donnée est corrompue ?\n",
    "* Voir aussi pour le heart_rate avec des valeurs a moins de 50..."
   ]
  },
  {
   "cell_type": "markdown",
   "metadata": {},
   "source": [
    "####  Maximum_grade\n",
    "\n",
    "Bien que l'information sur le denivelé maximum ne soit pas forcement utile dans le modele , on regarde quand meme ces valeurs extremes..."
   ]
  },
  {
   "cell_type": "code",
   "execution_count": 16,
   "metadata": {},
   "outputs": [
    {
     "data": {
      "image/png": "[encoded data removed]",
      "text/plain": [
       "<Figure size 360x180 with 1 Axes>"
      ]
     },
     "metadata": {
      "needs_background": "light"
     },
     "output_type": "display_data"
    }
   ],
   "source": [
    "segments_df['maximum_grade'].hist(bins=50, figsize=(5,2.5))\n",
    "plt.show()"
   ]
  },
  {
   "cell_type": "code",
   "execution_count": 17,
   "metadata": {},
   "outputs": [
    {
     "data": {
      "text/plain": [
       "(5, 17)"
      ]
     },
     "execution_count": 17,
     "metadata": {},
     "output_type": "execute_result"
    }
   ],
   "source": [
    "huge_max_grade = segments_df.loc[segments_df['maximum_grade'] > 50]\n",
    "huge_max_grade.shape"
   ]
  },
  {
   "cell_type": "code",
   "execution_count": 18,
   "metadata": {},
   "outputs": [
    {
     "data": {
      "text/plain": [
       "179      50.3\n",
       "873      56.6\n",
       "881     193.8\n",
       "992      50.3\n",
       "1029     50.3\n",
       "Name: maximum_grade, dtype: float64"
      ]
     },
     "execution_count": 18,
     "metadata": {},
     "output_type": "execute_result"
    }
   ],
   "source": [
    "huge_max_grade['maximum_grade']"
   ]
  },
  {
   "cell_type": "markdown",
   "metadata": {},
   "source": [
    "On peut imaginer que sur 1m , bien que cela semble énorme , il est possible d'avoir 50% de denivelé , par contre on enleve celui avec 193% de maximum grade"
   ]
  },
  {
   "cell_type": "code",
   "execution_count": 19,
   "metadata": {},
   "outputs": [
    {
     "data": {
      "text/plain": [
       "881"
      ]
     },
     "execution_count": 19,
     "metadata": {},
     "output_type": "execute_result"
    }
   ],
   "source": [
    "index_to_remove = huge_max_grade.loc[huge_max_grade['maximum_grade'] == 193.8].index[0]\n",
    "index_to_remove"
   ]
  },
  {
   "cell_type": "code",
   "execution_count": 20,
   "metadata": {},
   "outputs": [
    {
     "data": {
      "image/png": "[encoded data removed]",
      "text/plain": [
       "<Figure size 360x180 with 1 Axes>"
      ]
     },
     "metadata": {
      "needs_background": "light"
     },
     "output_type": "display_data"
    }
   ],
   "source": [
    "segments_df = segments_df.drop(index_to_remove)\n",
    "segments_df['maximum_grade'].hist(bins=50, figsize=(5,2.5))\n",
    "plt.show()\n"
   ]
  },
  {
   "cell_type": "code",
   "execution_count": 21,
   "metadata": {},
   "outputs": [
    {
     "data": {
      "text/plain": [
       "(2019, 17)"
      ]
     },
     "execution_count": 21,
     "metadata": {},
     "output_type": "execute_result"
    }
   ],
   "source": [
    "segments_df.shape"
   ]
  },
  {
   "cell_type": "markdown",
   "metadata": {},
   "source": [
    "####  Segments en double dans la meme activité\n",
    "\n",
    "* segments en double dans la meme activité... ( ex : https://www.strava.com/activities/3198007867) **BUG STRAVA**"
   ]
  },
  {
   "cell_type": "code",
   "execution_count": 22,
   "metadata": {},
   "outputs": [
    {
     "data": {
      "text/plain": [
       "(9, 17)"
      ]
     },
     "execution_count": 22,
     "metadata": {},
     "output_type": "execute_result"
    }
   ],
   "source": [
    "segments_double = segments_df[segments_df.duplicated()]\n",
    "segments_double.shape"
   ]
  },
  {
   "cell_type": "code",
   "execution_count": 23,
   "metadata": {},
   "outputs": [
    {
     "data": {
      "text/html": [
       "<div>\n",
       "<style scoped>\n",
       "    .dataframe tbody tr th:only-of-type {\n",
       "        vertical-align: middle;\n",
       "    }\n",
       "\n",
       "    .dataframe tbody tr th {\n",
       "        vertical-align: top;\n",
       "    }\n",
       "\n",
       "    .dataframe thead th {\n",
       "        text-align: right;\n",
       "    }\n",
       "</style>\n",
       "<table border=\"1\" class=\"dataframe\">\n",
       "  <thead>\n",
       "    <tr style=\"text-align: right;\">\n",
       "      <th></th>\n",
       "      <th>id</th>\n",
       "      <th>activity_id</th>\n",
       "      <th>athlete_id</th>\n",
       "      <th>name</th>\n",
       "      <th>type</th>\n",
       "      <th>elapsed_time</th>\n",
       "      <th>moving_time</th>\n",
       "      <th>distance</th>\n",
       "      <th>average_cadence</th>\n",
       "      <th>average_watts</th>\n",
       "      <th>average_grade</th>\n",
       "      <th>maximum_grade</th>\n",
       "      <th>climb_category</th>\n",
       "      <th>average_heart_rate</th>\n",
       "      <th>max_heart_rate</th>\n",
       "      <th>start_time</th>\n",
       "      <th>start_date</th>\n",
       "    </tr>\n",
       "  </thead>\n",
       "  <tbody>\n",
       "    <tr>\n",
       "      <th>983</th>\n",
       "      <td>16784833</td>\n",
       "      <td>3259834962</td>\n",
       "      <td>10944546</td>\n",
       "      <td>Epic KOM</td>\n",
       "      <td>VirtualRide</td>\n",
       "      <td>1831</td>\n",
       "      <td>1831</td>\n",
       "      <td>9410.5</td>\n",
       "      <td>84.2</td>\n",
       "      <td>216.1</td>\n",
       "      <td>3.9</td>\n",
       "      <td>9.0</td>\n",
       "      <td>3</td>\n",
       "      <td>NaN</td>\n",
       "      <td>NaN</td>\n",
       "      <td>18:54:45</td>\n",
       "      <td>2020-04-05</td>\n",
       "    </tr>\n",
       "    <tr>\n",
       "      <th>1043</th>\n",
       "      <td>19171748</td>\n",
       "      <td>3198007867</td>\n",
       "      <td>10944546</td>\n",
       "      <td>Rising Empire</td>\n",
       "      <td>VirtualRide</td>\n",
       "      <td>3115</td>\n",
       "      <td>2981</td>\n",
       "      <td>20768.1</td>\n",
       "      <td>76.3</td>\n",
       "      <td>157.6</td>\n",
       "      <td>0.0</td>\n",
       "      <td>16.9</td>\n",
       "      <td>0</td>\n",
       "      <td>NaN</td>\n",
       "      <td>NaN</td>\n",
       "      <td>17:38:53</td>\n",
       "      <td>2020-03-19</td>\n",
       "    </tr>\n",
       "    <tr>\n",
       "      <th>1045</th>\n",
       "      <td>19171695</td>\n",
       "      <td>3198007867</td>\n",
       "      <td>10944546</td>\n",
       "      <td>Rising Empire Pens to Banner</td>\n",
       "      <td>VirtualRide</td>\n",
       "      <td>3065</td>\n",
       "      <td>2931</td>\n",
       "      <td>20546.5</td>\n",
       "      <td>76.4</td>\n",
       "      <td>158.1</td>\n",
       "      <td>-0.0</td>\n",
       "      <td>16.6</td>\n",
       "      <td>0</td>\n",
       "      <td>NaN</td>\n",
       "      <td>NaN</td>\n",
       "      <td>17:39:42</td>\n",
       "      <td>2020-03-19</td>\n",
       "    </tr>\n",
       "    <tr>\n",
       "      <th>1047</th>\n",
       "      <td>19141090</td>\n",
       "      <td>3198007867</td>\n",
       "      <td>10944546</td>\n",
       "      <td>NYC KOM</td>\n",
       "      <td>VirtualRide</td>\n",
       "      <td>386</td>\n",
       "      <td>386</td>\n",
       "      <td>1367.3</td>\n",
       "      <td>80.7</td>\n",
       "      <td>209.8</td>\n",
       "      <td>6.4</td>\n",
       "      <td>17.9</td>\n",
       "      <td>1</td>\n",
       "      <td>NaN</td>\n",
       "      <td>NaN</td>\n",
       "      <td>17:56:33</td>\n",
       "      <td>2020-03-19</td>\n",
       "    </tr>\n",
       "    <tr>\n",
       "      <th>1049</th>\n",
       "      <td>19141092</td>\n",
       "      <td>3198007867</td>\n",
       "      <td>10944546</td>\n",
       "      <td>NYC KOM Reverse</td>\n",
       "      <td>VirtualRide</td>\n",
       "      <td>319</td>\n",
       "      <td>319</td>\n",
       "      <td>1145.1</td>\n",
       "      <td>80.0</td>\n",
       "      <td>195.3</td>\n",
       "      <td>5.9</td>\n",
       "      <td>15.6</td>\n",
       "      <td>0</td>\n",
       "      <td>NaN</td>\n",
       "      <td>NaN</td>\n",
       "      <td>18:17:21</td>\n",
       "      <td>2020-03-19</td>\n",
       "    </tr>\n",
       "  </tbody>\n",
       "</table>\n",
       "</div>"
      ],
      "text/plain": [
       "            id  activity_id  athlete_id                          name  \\\n",
       "983   16784833   3259834962    10944546                      Epic KOM   \n",
       "1043  19171748   3198007867    10944546                 Rising Empire   \n",
       "1045  19171695   3198007867    10944546  Rising Empire Pens to Banner   \n",
       "1047  19141090   3198007867    10944546                       NYC KOM   \n",
       "1049  19141092   3198007867    10944546               NYC KOM Reverse   \n",
       "\n",
       "             type  elapsed_time  moving_time  distance  average_cadence  \\\n",
       "983   VirtualRide          1831         1831    9410.5             84.2   \n",
       "1043  VirtualRide          3115         2981   20768.1             76.3   \n",
       "1045  VirtualRide          3065         2931   20546.5             76.4   \n",
       "1047  VirtualRide           386          386    1367.3             80.7   \n",
       "1049  VirtualRide           319          319    1145.1             80.0   \n",
       "\n",
       "      average_watts  average_grade  maximum_grade  climb_category  \\\n",
       "983           216.1            3.9            9.0               3   \n",
       "1043          157.6            0.0           16.9               0   \n",
       "1045          158.1           -0.0           16.6               0   \n",
       "1047          209.8            6.4           17.9               1   \n",
       "1049          195.3            5.9           15.6               0   \n",
       "\n",
       "      average_heart_rate  max_heart_rate start_time  start_date  \n",
       "983                  NaN             NaN   18:54:45  2020-04-05  \n",
       "1043                 NaN             NaN   17:38:53  2020-03-19  \n",
       "1045                 NaN             NaN   17:39:42  2020-03-19  \n",
       "1047                 NaN             NaN   17:56:33  2020-03-19  \n",
       "1049                 NaN             NaN   18:17:21  2020-03-19  "
      ]
     },
     "execution_count": 23,
     "metadata": {},
     "output_type": "execute_result"
    }
   ],
   "source": [
    "segments_double.head()"
   ]
  },
  {
   "cell_type": "code",
   "execution_count": 24,
   "metadata": {},
   "outputs": [
    {
     "data": {
      "text/plain": [
       "Int64Index([983, 1043, 1045, 1047, 1049, 1056, 1064, 1066, 1068], dtype='int64')"
      ]
     },
     "execution_count": 24,
     "metadata": {},
     "output_type": "execute_result"
    }
   ],
   "source": [
    "segments_double_index = segments_double.index\n",
    "segments_double_index"
   ]
  },
  {
   "cell_type": "code",
   "execution_count": 25,
   "metadata": {},
   "outputs": [
    {
     "data": {
      "text/plain": [
       "(2010, 17)"
      ]
     },
     "execution_count": 25,
     "metadata": {},
     "output_type": "execute_result"
    }
   ],
   "source": [
    "segments_df = segments_df.drop(segments_double_index)\n",
    "segments_df.shape"
   ]
  },
  {
   "cell_type": "code",
   "execution_count": 26,
   "metadata": {},
   "outputs": [],
   "source": [
    "segments_df =  segments_df.reset_index(drop=True)"
   ]
  },
  {
   "cell_type": "code",
   "execution_count": 27,
   "metadata": {},
   "outputs": [
    {
     "data": {
      "text/html": [
       "<div>\n",
       "<style scoped>\n",
       "    .dataframe tbody tr th:only-of-type {\n",
       "        vertical-align: middle;\n",
       "    }\n",
       "\n",
       "    .dataframe tbody tr th {\n",
       "        vertical-align: top;\n",
       "    }\n",
       "\n",
       "    .dataframe thead th {\n",
       "        text-align: right;\n",
       "    }\n",
       "</style>\n",
       "<table border=\"1\" class=\"dataframe\">\n",
       "  <thead>\n",
       "    <tr style=\"text-align: right;\">\n",
       "      <th></th>\n",
       "      <th>id</th>\n",
       "      <th>activity_id</th>\n",
       "      <th>athlete_id</th>\n",
       "      <th>name</th>\n",
       "      <th>type</th>\n",
       "      <th>elapsed_time</th>\n",
       "      <th>moving_time</th>\n",
       "      <th>distance</th>\n",
       "      <th>average_cadence</th>\n",
       "      <th>average_watts</th>\n",
       "      <th>average_grade</th>\n",
       "      <th>maximum_grade</th>\n",
       "      <th>climb_category</th>\n",
       "      <th>average_heart_rate</th>\n",
       "      <th>max_heart_rate</th>\n",
       "      <th>start_time</th>\n",
       "      <th>start_date</th>\n",
       "    </tr>\n",
       "  </thead>\n",
       "  <tbody>\n",
       "    <tr>\n",
       "      <th>0</th>\n",
       "      <td>24674235</td>\n",
       "      <td>4831255939</td>\n",
       "      <td>10944546</td>\n",
       "      <td>Champs-Élysées</td>\n",
       "      <td>VirtualRide</td>\n",
       "      <td>653</td>\n",
       "      <td>653</td>\n",
       "      <td>6623.100</td>\n",
       "      <td>82.3</td>\n",
       "      <td>202.8</td>\n",
       "      <td>0.0</td>\n",
       "      <td>4.6</td>\n",
       "      <td>0</td>\n",
       "      <td>161.2</td>\n",
       "      <td>170.0</td>\n",
       "      <td>18:46:25</td>\n",
       "      <td>2021-02-22</td>\n",
       "    </tr>\n",
       "    <tr>\n",
       "      <th>1</th>\n",
       "      <td>27141377</td>\n",
       "      <td>4831057316</td>\n",
       "      <td>10944546</td>\n",
       "      <td>Epic KOM - Start to Bypass Intersection (Zwift...</td>\n",
       "      <td>VirtualRide</td>\n",
       "      <td>424</td>\n",
       "      <td>424</td>\n",
       "      <td>1882.500</td>\n",
       "      <td>77.3</td>\n",
       "      <td>201.2</td>\n",
       "      <td>3.8</td>\n",
       "      <td>47.8</td>\n",
       "      <td>0</td>\n",
       "      <td>157.9</td>\n",
       "      <td>164.0</td>\n",
       "      <td>18:19:40</td>\n",
       "      <td>2021-02-22</td>\n",
       "    </tr>\n",
       "    <tr>\n",
       "      <th>2</th>\n",
       "      <td>22501195</td>\n",
       "      <td>4818094466</td>\n",
       "      <td>10944546</td>\n",
       "      <td>Villenave-Technopole</td>\n",
       "      <td>Ride</td>\n",
       "      <td>789</td>\n",
       "      <td>789</td>\n",
       "      <td>5100.500</td>\n",
       "      <td>NaN</td>\n",
       "      <td>108.0</td>\n",
       "      <td>0.5</td>\n",
       "      <td>6.4</td>\n",
       "      <td>0</td>\n",
       "      <td>169.0</td>\n",
       "      <td>184.0</td>\n",
       "      <td>14:39:32</td>\n",
       "      <td>2021-02-20</td>\n",
       "    </tr>\n",
       "    <tr>\n",
       "      <th>3</th>\n",
       "      <td>3566434</td>\n",
       "      <td>4818094466</td>\n",
       "      <td>10944546</td>\n",
       "      <td>Col du Chateau d'eau</td>\n",
       "      <td>Ride</td>\n",
       "      <td>217</td>\n",
       "      <td>217</td>\n",
       "      <td>1190.370</td>\n",
       "      <td>NaN</td>\n",
       "      <td>141.8</td>\n",
       "      <td>2.1</td>\n",
       "      <td>7.3</td>\n",
       "      <td>0</td>\n",
       "      <td>170.7</td>\n",
       "      <td>183.0</td>\n",
       "      <td>14:40:47</td>\n",
       "      <td>2021-02-20</td>\n",
       "    </tr>\n",
       "    <tr>\n",
       "      <th>4</th>\n",
       "      <td>20598228</td>\n",
       "      <td>4818094466</td>\n",
       "      <td>10944546</td>\n",
       "      <td>Col du chateau d'eau court</td>\n",
       "      <td>Ride</td>\n",
       "      <td>151</td>\n",
       "      <td>151</td>\n",
       "      <td>745.400</td>\n",
       "      <td>NaN</td>\n",
       "      <td>165.4</td>\n",
       "      <td>2.8</td>\n",
       "      <td>5.5</td>\n",
       "      <td>0</td>\n",
       "      <td>177.5</td>\n",
       "      <td>183.0</td>\n",
       "      <td>14:42:02</td>\n",
       "      <td>2021-02-20</td>\n",
       "    </tr>\n",
       "    <tr>\n",
       "      <th>...</th>\n",
       "      <td>...</td>\n",
       "      <td>...</td>\n",
       "      <td>...</td>\n",
       "      <td>...</td>\n",
       "      <td>...</td>\n",
       "      <td>...</td>\n",
       "      <td>...</td>\n",
       "      <td>...</td>\n",
       "      <td>...</td>\n",
       "      <td>...</td>\n",
       "      <td>...</td>\n",
       "      <td>...</td>\n",
       "      <td>...</td>\n",
       "      <td>...</td>\n",
       "      <td>...</td>\n",
       "      <td>...</td>\n",
       "      <td>...</td>\n",
       "    </tr>\n",
       "    <tr>\n",
       "      <th>2005</th>\n",
       "      <td>17782861</td>\n",
       "      <td>1597380847</td>\n",
       "      <td>10944546</td>\n",
       "      <td>RadarStadeMartillac</td>\n",
       "      <td>Ride</td>\n",
       "      <td>40</td>\n",
       "      <td>40</td>\n",
       "      <td>303.400</td>\n",
       "      <td>NaN</td>\n",
       "      <td>189.4</td>\n",
       "      <td>1.4</td>\n",
       "      <td>1.6</td>\n",
       "      <td>0</td>\n",
       "      <td>176.8</td>\n",
       "      <td>182.0</td>\n",
       "      <td>12:42:52</td>\n",
       "      <td>2018-05-26</td>\n",
       "    </tr>\n",
       "    <tr>\n",
       "      <th>2006</th>\n",
       "      <td>3654728</td>\n",
       "      <td>1597380847</td>\n",
       "      <td>10944546</td>\n",
       "      <td>Faux plat chemin de Rochemorin</td>\n",
       "      <td>Ride</td>\n",
       "      <td>90</td>\n",
       "      <td>90</td>\n",
       "      <td>541.374</td>\n",
       "      <td>NaN</td>\n",
       "      <td>158.9</td>\n",
       "      <td>2.0</td>\n",
       "      <td>5.5</td>\n",
       "      <td>0</td>\n",
       "      <td>183.6</td>\n",
       "      <td>188.0</td>\n",
       "      <td>12:47:30</td>\n",
       "      <td>2018-05-26</td>\n",
       "    </tr>\n",
       "    <tr>\n",
       "      <th>2007</th>\n",
       "      <td>3752963</td>\n",
       "      <td>1597380847</td>\n",
       "      <td>10944546</td>\n",
       "      <td>Imitationberg</td>\n",
       "      <td>Ride</td>\n",
       "      <td>141</td>\n",
       "      <td>141</td>\n",
       "      <td>872.000</td>\n",
       "      <td>NaN</td>\n",
       "      <td>82.3</td>\n",
       "      <td>-0.0</td>\n",
       "      <td>5.6</td>\n",
       "      <td>0</td>\n",
       "      <td>168.2</td>\n",
       "      <td>184.0</td>\n",
       "      <td>12:53:34</td>\n",
       "      <td>2018-05-26</td>\n",
       "    </tr>\n",
       "    <tr>\n",
       "      <th>2008</th>\n",
       "      <td>14775448</td>\n",
       "      <td>1597380847</td>\n",
       "      <td>10944546</td>\n",
       "      <td>Château Vignau - Chemin de Couhins</td>\n",
       "      <td>Ride</td>\n",
       "      <td>226</td>\n",
       "      <td>226</td>\n",
       "      <td>1431.800</td>\n",
       "      <td>NaN</td>\n",
       "      <td>84.4</td>\n",
       "      <td>-0.6</td>\n",
       "      <td>21.7</td>\n",
       "      <td>0</td>\n",
       "      <td>155.2</td>\n",
       "      <td>186.0</td>\n",
       "      <td>12:56:14</td>\n",
       "      <td>2018-05-26</td>\n",
       "    </tr>\n",
       "    <tr>\n",
       "      <th>2009</th>\n",
       "      <td>3997309</td>\n",
       "      <td>1597380847</td>\n",
       "      <td>10944546</td>\n",
       "      <td>CouhinsBerg</td>\n",
       "      <td>Ride</td>\n",
       "      <td>55</td>\n",
       "      <td>55</td>\n",
       "      <td>278.000</td>\n",
       "      <td>NaN</td>\n",
       "      <td>235.7</td>\n",
       "      <td>4.7</td>\n",
       "      <td>6.1</td>\n",
       "      <td>0</td>\n",
       "      <td>174.9</td>\n",
       "      <td>186.0</td>\n",
       "      <td>12:58:59</td>\n",
       "      <td>2018-05-26</td>\n",
       "    </tr>\n",
       "  </tbody>\n",
       "</table>\n",
       "<p>2010 rows × 17 columns</p>\n",
       "</div>"
      ],
      "text/plain": [
       "            id  activity_id  athlete_id  \\\n",
       "0     24674235   4831255939    10944546   \n",
       "1     27141377   4831057316    10944546   \n",
       "2     22501195   4818094466    10944546   \n",
       "3      3566434   4818094466    10944546   \n",
       "4     20598228   4818094466    10944546   \n",
       "...        ...          ...         ...   \n",
       "2005  17782861   1597380847    10944546   \n",
       "2006   3654728   1597380847    10944546   \n",
       "2007   3752963   1597380847    10944546   \n",
       "2008  14775448   1597380847    10944546   \n",
       "2009   3997309   1597380847    10944546   \n",
       "\n",
       "                                                   name         type  \\\n",
       "0                                        Champs-Élysées  VirtualRide   \n",
       "1     Epic KOM - Start to Bypass Intersection (Zwift...  VirtualRide   \n",
       "2                                 Villenave-Technopole          Ride   \n",
       "3                                  Col du Chateau d'eau         Ride   \n",
       "4                            Col du chateau d'eau court         Ride   \n",
       "...                                                 ...          ...   \n",
       "2005                                RadarStadeMartillac         Ride   \n",
       "2006                     Faux plat chemin de Rochemorin         Ride   \n",
       "2007                                      Imitationberg         Ride   \n",
       "2008                 Château Vignau - Chemin de Couhins         Ride   \n",
       "2009                                        CouhinsBerg         Ride   \n",
       "\n",
       "      elapsed_time  moving_time  distance  average_cadence  average_watts  \\\n",
       "0              653          653  6623.100             82.3          202.8   \n",
       "1              424          424  1882.500             77.3          201.2   \n",
       "2              789          789  5100.500              NaN          108.0   \n",
       "3              217          217  1190.370              NaN          141.8   \n",
       "4              151          151   745.400              NaN          165.4   \n",
       "...            ...          ...       ...              ...            ...   \n",
       "2005            40           40   303.400              NaN          189.4   \n",
       "2006            90           90   541.374              NaN          158.9   \n",
       "2007           141          141   872.000              NaN           82.3   \n",
       "2008           226          226  1431.800              NaN           84.4   \n",
       "2009            55           55   278.000              NaN          235.7   \n",
       "\n",
       "      average_grade  maximum_grade  climb_category  average_heart_rate  \\\n",
       "0               0.0            4.6               0               161.2   \n",
       "1               3.8           47.8               0               157.9   \n",
       "2               0.5            6.4               0               169.0   \n",
       "3               2.1            7.3               0               170.7   \n",
       "4               2.8            5.5               0               177.5   \n",
       "...             ...            ...             ...                 ...   \n",
       "2005            1.4            1.6               0               176.8   \n",
       "2006            2.0            5.5               0               183.6   \n",
       "2007           -0.0            5.6               0               168.2   \n",
       "2008           -0.6           21.7               0               155.2   \n",
       "2009            4.7            6.1               0               174.9   \n",
       "\n",
       "      max_heart_rate start_time  start_date  \n",
       "0              170.0   18:46:25  2021-02-22  \n",
       "1              164.0   18:19:40  2021-02-22  \n",
       "2              184.0   14:39:32  2021-02-20  \n",
       "3              183.0   14:40:47  2021-02-20  \n",
       "4              183.0   14:42:02  2021-02-20  \n",
       "...              ...        ...         ...  \n",
       "2005           182.0   12:42:52  2018-05-26  \n",
       "2006           188.0   12:47:30  2018-05-26  \n",
       "2007           184.0   12:53:34  2018-05-26  \n",
       "2008           186.0   12:56:14  2018-05-26  \n",
       "2009           186.0   12:58:59  2018-05-26  \n",
       "\n",
       "[2010 rows x 17 columns]"
      ]
     },
     "execution_count": 27,
     "metadata": {},
     "output_type": "execute_result"
    }
   ],
   "source": [
    "segments_df"
   ]
  },
  {
   "cell_type": "markdown",
   "metadata": {},
   "source": [
    "### Comment traiter le cas ou un segment est un ensemble de plusieurs autres segments ? \n",
    "\n",
    "- ne pas mettre dans le train et le test des segments avec la meme date"
   ]
  },
  {
   "cell_type": "markdown",
   "metadata": {},
   "source": [
    "### Segments trop longs ( totalité du parcours... )"
   ]
  },
  {
   "cell_type": "code",
   "execution_count": 28,
   "metadata": {},
   "outputs": [
    {
     "data": {
      "text/plain": [
       "Int64Index([189, 190, 195, 218, 225, 226, 416, 494, 524, 647, 696, 1843, 1846,\n",
       "            1851],\n",
       "           dtype='int64')"
      ]
     },
     "execution_count": 28,
     "metadata": {},
     "output_type": "execute_result"
    }
   ],
   "source": [
    "too_long_index = segments_df.loc[(segments_df['distance'] > 25000)].index\n",
    "too_long_index"
   ]
  },
  {
   "cell_type": "code",
   "execution_count": 29,
   "metadata": {},
   "outputs": [],
   "source": [
    "segments_df = segments_df.drop(too_long_index)\n",
    "segments_df =  segments_df.reset_index(drop=True)"
   ]
  },
  {
   "cell_type": "code",
   "execution_count": 30,
   "metadata": {},
   "outputs": [
    {
     "data": {
      "image/png": "[encoded data removed]",
      "text/plain": [
       "<Figure size 360x180 with 1 Axes>"
      ]
     },
     "metadata": {
      "needs_background": "light"
     },
     "output_type": "display_data"
    }
   ],
   "source": [
    "segments_df['distance'].hist(bins=50, figsize=(5,2.5))\n",
    "plt.show()"
   ]
  },
  {
   "cell_type": "markdown",
   "metadata": {},
   "source": [
    "## Heart rate"
   ]
  },
  {
   "cell_type": "code",
   "execution_count": 31,
   "metadata": {
    "scrolled": false
   },
   "outputs": [],
   "source": [
    "wrong_heartrate_index = segments_df.loc[(segments_df['average_heart_rate'] <= 100)].index\n"
   ]
  },
  {
   "cell_type": "code",
   "execution_count": 32,
   "metadata": {},
   "outputs": [],
   "source": [
    "segments_df = segments_df.drop(wrong_heartrate_index)\n",
    "segments_df =  segments_df.reset_index(drop=True)"
   ]
  },
  {
   "cell_type": "code",
   "execution_count": 33,
   "metadata": {
    "scrolled": true
   },
   "outputs": [
    {
     "data": {
      "image/png": "[encoded data removed]",
      "text/plain": [
       "<Figure size 360x180 with 1 Axes>"
      ]
     },
     "metadata": {
      "needs_background": "light"
     },
     "output_type": "display_data"
    }
   ],
   "source": [
    "segments_df['average_heart_rate'].hist(bins=50, figsize=(5,2.5))\n",
    "plt.show()"
   ]
  },
  {
   "cell_type": "code",
   "execution_count": 34,
   "metadata": {
    "scrolled": true
   },
   "outputs": [
    {
     "data": {
      "image/png": "[encoded data removed]",
      "text/plain": [
       "<Figure size 1440x1080 with 16 Axes>"
      ]
     },
     "metadata": {
      "needs_background": "light"
     },
     "output_type": "display_data"
    }
   ],
   "source": [
    "segments_df.hist(bins=50, figsize=(20,15))\n",
    "plt.show()"
   ]
  },
  {
   "cell_type": "code",
   "execution_count": null,
   "metadata": {},
   "outputs": [],
   "source": []
  }
 ],
 "metadata": {
  "kernelspec": {
   "display_name": "cycling_travel_time",
   "language": "python",
   "name": "cycling_travel_time"
  },
  "language_info": {
   "codemirror_mode": {
    "name": "ipython",
    "version": 3
   },
   "file_extension": ".py",
   "mimetype": "text/x-python",
   "name": "python",
   "nbconvert_exporter": "python",
   "pygments_lexer": "ipython3",
   "version": "3.6.11"
  }
 },
 "nbformat": 4,
 "nbformat_minor": 4
}
