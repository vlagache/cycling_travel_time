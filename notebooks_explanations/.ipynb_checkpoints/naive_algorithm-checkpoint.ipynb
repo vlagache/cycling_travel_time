{
 "cells": [
  {
   "cell_type": "code",
   "execution_count": 1,
   "metadata": {},
   "outputs": [],
   "source": [
    "import elasticsearch\n",
    "import pandas as pd\n",
    "import numpy as np\n",
    "from dateutil.relativedelta import relativedelta\n",
    "\n",
    "from sklearn.model_selection import train_test_split\n",
    "from sklearn.metrics import mean_absolute_error, mean_absolute_percentage_error, mean_squared_error"
   ]
  },
  {
   "cell_type": "markdown",
   "metadata": {},
   "source": [
    "### The goal is to make an algorithm that will serve as a baseline . The performance of the future models will have to be superior to this one."
   ]
  },
  {
   "cell_type": "code",
   "execution_count": 2,
   "metadata": {},
   "outputs": [],
   "source": [
    "hosts = [{\"host\": 'localhost', \"port\": 9200}]\n",
    "database = elasticsearch.Elasticsearch(hosts=hosts)"
   ]
  },
  {
   "cell_type": "code",
   "execution_count": 3,
   "metadata": {},
   "outputs": [],
   "source": [
    "def get_datas(database):\n",
    "    query = {\n",
    "        \"query\": {\n",
    "            \"match_all\": {}\n",
    "        }\n",
    "    }\n",
    "\n",
    "    result = database.search(\n",
    "        index=\"index_activity\",\n",
    "        size=1000,\n",
    "        body= query\n",
    "    )\n",
    "    \n",
    "    \n",
    "    activities = result['hits']['hits']\n",
    "    activities_json = [ activity.get(\"_source\") for activity in activities]\n",
    "    activities_df = pd.DataFrame(activities_json)\n",
    "    activities_df = activities_df.drop(columns=['py/object', 'segment_efforts'])\n",
    "    \n",
    "    segments_json = [ segment for activity in activities_json for segment in activity.get(\"segment_efforts\")]\n",
    "    segments_df = pd.DataFrame(segments_json)\n",
    "    segments_df = segments_df.drop(columns=['py/object'])\n",
    "    \n",
    "    return activities_df, segments_df\n",
    "\n",
    "activities_df, segments_df = get_datas(database)"
   ]
  },
  {
   "cell_type": "markdown",
   "metadata": {},
   "source": [
    "### Addition of the average speed for each of the segments"
   ]
  },
  {
   "cell_type": "code",
   "execution_count": 4,
   "metadata": {},
   "outputs": [],
   "source": [
    "segments_df['average_speed'] = segments_df['distance'] / segments_df['elapsed_time']"
   ]
  },
  {
   "cell_type": "code",
   "execution_count": 5,
   "metadata": {},
   "outputs": [
    {
     "data": {
      "text/html": [
       "<div>\n",
       "<style scoped>\n",
       "    .dataframe tbody tr th:only-of-type {\n",
       "        vertical-align: middle;\n",
       "    }\n",
       "\n",
       "    .dataframe tbody tr th {\n",
       "        vertical-align: top;\n",
       "    }\n",
       "\n",
       "    .dataframe thead th {\n",
       "        text-align: right;\n",
       "    }\n",
       "</style>\n",
       "<table border=\"1\" class=\"dataframe\">\n",
       "  <thead>\n",
       "    <tr style=\"text-align: right;\">\n",
       "      <th></th>\n",
       "      <th>id</th>\n",
       "      <th>athlete_id</th>\n",
       "      <th>name</th>\n",
       "      <th>distance</th>\n",
       "      <th>moving_time</th>\n",
       "      <th>elapsed_time</th>\n",
       "      <th>total_elevation_gain</th>\n",
       "      <th>type</th>\n",
       "      <th>start_date_local</th>\n",
       "      <th>average_speed</th>\n",
       "      <th>average_cadence</th>\n",
       "      <th>average_watts</th>\n",
       "      <th>max_watts</th>\n",
       "      <th>suffer_score</th>\n",
       "      <th>calories</th>\n",
       "      <th>average_heart_rate</th>\n",
       "      <th>max_heart_rate</th>\n",
       "    </tr>\n",
       "  </thead>\n",
       "  <tbody>\n",
       "    <tr>\n",
       "      <th>0</th>\n",
       "      <td>4831255939</td>\n",
       "      <td>10944546</td>\n",
       "      <td>Paris</td>\n",
       "      <td>13971.5</td>\n",
       "      <td>1414</td>\n",
       "      <td>1414</td>\n",
       "      <td>79.0</td>\n",
       "      <td>VirtualRide</td>\n",
       "      <td>2021-02-22T18:40:32Z</td>\n",
       "      <td>9.881</td>\n",
       "      <td>80.4</td>\n",
       "      <td>192.0</td>\n",
       "      <td>382.0</td>\n",
       "      <td>45.0</td>\n",
       "      <td>259.0</td>\n",
       "      <td>157.7</td>\n",
       "      <td>176.0</td>\n",
       "    </tr>\n",
       "    <tr>\n",
       "      <th>1</th>\n",
       "      <td>4831057316</td>\n",
       "      <td>10944546</td>\n",
       "      <td>Watopia</td>\n",
       "      <td>7086.5</td>\n",
       "      <td>1097</td>\n",
       "      <td>1097</td>\n",
       "      <td>135.0</td>\n",
       "      <td>VirtualRide</td>\n",
       "      <td>2021-02-22T18:10:34Z</td>\n",
       "      <td>6.460</td>\n",
       "      <td>79.1</td>\n",
       "      <td>177.4</td>\n",
       "      <td>230.0</td>\n",
       "      <td>20.0</td>\n",
       "      <td>186.0</td>\n",
       "      <td>145.6</td>\n",
       "      <td>165.0</td>\n",
       "    </tr>\n",
       "    <tr>\n",
       "      <th>2</th>\n",
       "      <td>4818094466</td>\n",
       "      <td>10944546</td>\n",
       "      <td>Sortie à vélo l'après-midi</td>\n",
       "      <td>44007.7</td>\n",
       "      <td>6084</td>\n",
       "      <td>6084</td>\n",
       "      <td>157.0</td>\n",
       "      <td>Ride</td>\n",
       "      <td>2021-02-20T14:31:34Z</td>\n",
       "      <td>7.233</td>\n",
       "      <td>NaN</td>\n",
       "      <td>110.9</td>\n",
       "      <td>NaN</td>\n",
       "      <td>275.0</td>\n",
       "      <td>1758.0</td>\n",
       "      <td>167.5</td>\n",
       "      <td>189.0</td>\n",
       "    </tr>\n",
       "    <tr>\n",
       "      <th>3</th>\n",
       "      <td>4801436758</td>\n",
       "      <td>10944546</td>\n",
       "      <td>Yorkshire</td>\n",
       "      <td>23068.3</td>\n",
       "      <td>2931</td>\n",
       "      <td>2931</td>\n",
       "      <td>435.0</td>\n",
       "      <td>VirtualRide</td>\n",
       "      <td>2021-02-17T13:32:49Z</td>\n",
       "      <td>7.870</td>\n",
       "      <td>77.3</td>\n",
       "      <td>179.8</td>\n",
       "      <td>440.0</td>\n",
       "      <td>112.0</td>\n",
       "      <td>502.0</td>\n",
       "      <td>162.9</td>\n",
       "      <td>193.0</td>\n",
       "    </tr>\n",
       "    <tr>\n",
       "      <th>4</th>\n",
       "      <td>4776486085</td>\n",
       "      <td>10944546</td>\n",
       "      <td>NYC</td>\n",
       "      <td>20694.8</td>\n",
       "      <td>2740</td>\n",
       "      <td>2740</td>\n",
       "      <td>377.0</td>\n",
       "      <td>VirtualRide</td>\n",
       "      <td>2021-02-12T18:36:15Z</td>\n",
       "      <td>7.553</td>\n",
       "      <td>77.6</td>\n",
       "      <td>171.0</td>\n",
       "      <td>335.0</td>\n",
       "      <td>128.0</td>\n",
       "      <td>447.0</td>\n",
       "      <td>169.0</td>\n",
       "      <td>194.0</td>\n",
       "    </tr>\n",
       "  </tbody>\n",
       "</table>\n",
       "</div>"
      ],
      "text/plain": [
       "           id  athlete_id                        name  distance  moving_time  \\\n",
       "0  4831255939    10944546                       Paris   13971.5         1414   \n",
       "1  4831057316    10944546                     Watopia    7086.5         1097   \n",
       "2  4818094466    10944546  Sortie à vélo l'après-midi   44007.7         6084   \n",
       "3  4801436758    10944546                   Yorkshire   23068.3         2931   \n",
       "4  4776486085    10944546                         NYC   20694.8         2740   \n",
       "\n",
       "   elapsed_time  total_elevation_gain         type      start_date_local  \\\n",
       "0          1414                  79.0  VirtualRide  2021-02-22T18:40:32Z   \n",
       "1          1097                 135.0  VirtualRide  2021-02-22T18:10:34Z   \n",
       "2          6084                 157.0         Ride  2021-02-20T14:31:34Z   \n",
       "3          2931                 435.0  VirtualRide  2021-02-17T13:32:49Z   \n",
       "4          2740                 377.0  VirtualRide  2021-02-12T18:36:15Z   \n",
       "\n",
       "   average_speed  average_cadence  average_watts  max_watts  suffer_score  \\\n",
       "0          9.881             80.4          192.0      382.0          45.0   \n",
       "1          6.460             79.1          177.4      230.0          20.0   \n",
       "2          7.233              NaN          110.9        NaN         275.0   \n",
       "3          7.870             77.3          179.8      440.0         112.0   \n",
       "4          7.553             77.6          171.0      335.0         128.0   \n",
       "\n",
       "   calories  average_heart_rate  max_heart_rate  \n",
       "0     259.0               157.7           176.0  \n",
       "1     186.0               145.6           165.0  \n",
       "2    1758.0               167.5           189.0  \n",
       "3     502.0               162.9           193.0  \n",
       "4     447.0               169.0           194.0  "
      ]
     },
     "execution_count": 5,
     "metadata": {},
     "output_type": "execute_result"
    }
   ],
   "source": [
    "activities_df.head(5)"
   ]
  },
  {
   "cell_type": "code",
   "execution_count": 6,
   "metadata": {},
   "outputs": [
    {
     "data": {
      "text/html": [
       "<div>\n",
       "<style scoped>\n",
       "    .dataframe tbody tr th:only-of-type {\n",
       "        vertical-align: middle;\n",
       "    }\n",
       "\n",
       "    .dataframe tbody tr th {\n",
       "        vertical-align: top;\n",
       "    }\n",
       "\n",
       "    .dataframe thead th {\n",
       "        text-align: right;\n",
       "    }\n",
       "</style>\n",
       "<table border=\"1\" class=\"dataframe\">\n",
       "  <thead>\n",
       "    <tr style=\"text-align: right;\">\n",
       "      <th></th>\n",
       "      <th>id</th>\n",
       "      <th>activity_id</th>\n",
       "      <th>athlete_id</th>\n",
       "      <th>name</th>\n",
       "      <th>type</th>\n",
       "      <th>elapsed_time</th>\n",
       "      <th>moving_time</th>\n",
       "      <th>start_date_local</th>\n",
       "      <th>distance</th>\n",
       "      <th>average_cadence</th>\n",
       "      <th>average_watts</th>\n",
       "      <th>average_grade</th>\n",
       "      <th>maximum_grade</th>\n",
       "      <th>climb_category</th>\n",
       "      <th>average_heart_rate</th>\n",
       "      <th>max_heart_rate</th>\n",
       "      <th>average_speed</th>\n",
       "    </tr>\n",
       "  </thead>\n",
       "  <tbody>\n",
       "    <tr>\n",
       "      <th>0</th>\n",
       "      <td>24674235</td>\n",
       "      <td>4831255939</td>\n",
       "      <td>10944546</td>\n",
       "      <td>Champs-Élysées</td>\n",
       "      <td>VirtualRide</td>\n",
       "      <td>653</td>\n",
       "      <td>653</td>\n",
       "      <td>2021-02-22T18:46:25Z</td>\n",
       "      <td>6623.10</td>\n",
       "      <td>82.3</td>\n",
       "      <td>202.8</td>\n",
       "      <td>0.0</td>\n",
       "      <td>4.6</td>\n",
       "      <td>0</td>\n",
       "      <td>161.2</td>\n",
       "      <td>170.0</td>\n",
       "      <td>10.142573</td>\n",
       "    </tr>\n",
       "    <tr>\n",
       "      <th>1</th>\n",
       "      <td>27141377</td>\n",
       "      <td>4831057316</td>\n",
       "      <td>10944546</td>\n",
       "      <td>Epic KOM - Start to Bypass Intersection (Zwift...</td>\n",
       "      <td>VirtualRide</td>\n",
       "      <td>424</td>\n",
       "      <td>424</td>\n",
       "      <td>2021-02-22T18:19:40Z</td>\n",
       "      <td>1882.50</td>\n",
       "      <td>77.3</td>\n",
       "      <td>201.2</td>\n",
       "      <td>3.8</td>\n",
       "      <td>47.8</td>\n",
       "      <td>0</td>\n",
       "      <td>157.9</td>\n",
       "      <td>164.0</td>\n",
       "      <td>4.439858</td>\n",
       "    </tr>\n",
       "    <tr>\n",
       "      <th>2</th>\n",
       "      <td>22501195</td>\n",
       "      <td>4818094466</td>\n",
       "      <td>10944546</td>\n",
       "      <td>Villenave-Technopole</td>\n",
       "      <td>Ride</td>\n",
       "      <td>789</td>\n",
       "      <td>789</td>\n",
       "      <td>2021-02-20T14:39:32Z</td>\n",
       "      <td>5100.50</td>\n",
       "      <td>NaN</td>\n",
       "      <td>108.0</td>\n",
       "      <td>0.5</td>\n",
       "      <td>6.4</td>\n",
       "      <td>0</td>\n",
       "      <td>169.0</td>\n",
       "      <td>184.0</td>\n",
       "      <td>6.464512</td>\n",
       "    </tr>\n",
       "    <tr>\n",
       "      <th>3</th>\n",
       "      <td>3566434</td>\n",
       "      <td>4818094466</td>\n",
       "      <td>10944546</td>\n",
       "      <td>Col du Chateau d'eau</td>\n",
       "      <td>Ride</td>\n",
       "      <td>217</td>\n",
       "      <td>217</td>\n",
       "      <td>2021-02-20T14:40:47Z</td>\n",
       "      <td>1190.37</td>\n",
       "      <td>NaN</td>\n",
       "      <td>141.8</td>\n",
       "      <td>2.1</td>\n",
       "      <td>7.3</td>\n",
       "      <td>0</td>\n",
       "      <td>170.7</td>\n",
       "      <td>183.0</td>\n",
       "      <td>5.485576</td>\n",
       "    </tr>\n",
       "    <tr>\n",
       "      <th>4</th>\n",
       "      <td>20598228</td>\n",
       "      <td>4818094466</td>\n",
       "      <td>10944546</td>\n",
       "      <td>Col du chateau d'eau court</td>\n",
       "      <td>Ride</td>\n",
       "      <td>151</td>\n",
       "      <td>151</td>\n",
       "      <td>2021-02-20T14:42:02Z</td>\n",
       "      <td>745.40</td>\n",
       "      <td>NaN</td>\n",
       "      <td>165.4</td>\n",
       "      <td>2.8</td>\n",
       "      <td>5.5</td>\n",
       "      <td>0</td>\n",
       "      <td>177.5</td>\n",
       "      <td>183.0</td>\n",
       "      <td>4.936424</td>\n",
       "    </tr>\n",
       "  </tbody>\n",
       "</table>\n",
       "</div>"
      ],
      "text/plain": [
       "         id  activity_id  athlete_id  \\\n",
       "0  24674235   4831255939    10944546   \n",
       "1  27141377   4831057316    10944546   \n",
       "2  22501195   4818094466    10944546   \n",
       "3   3566434   4818094466    10944546   \n",
       "4  20598228   4818094466    10944546   \n",
       "\n",
       "                                                name         type  \\\n",
       "0                                     Champs-Élysées  VirtualRide   \n",
       "1  Epic KOM - Start to Bypass Intersection (Zwift...  VirtualRide   \n",
       "2                              Villenave-Technopole          Ride   \n",
       "3                               Col du Chateau d'eau         Ride   \n",
       "4                         Col du chateau d'eau court         Ride   \n",
       "\n",
       "   elapsed_time  moving_time      start_date_local  distance  average_cadence  \\\n",
       "0           653          653  2021-02-22T18:46:25Z   6623.10             82.3   \n",
       "1           424          424  2021-02-22T18:19:40Z   1882.50             77.3   \n",
       "2           789          789  2021-02-20T14:39:32Z   5100.50              NaN   \n",
       "3           217          217  2021-02-20T14:40:47Z   1190.37              NaN   \n",
       "4           151          151  2021-02-20T14:42:02Z    745.40              NaN   \n",
       "\n",
       "   average_watts  average_grade  maximum_grade  climb_category  \\\n",
       "0          202.8            0.0            4.6               0   \n",
       "1          201.2            3.8           47.8               0   \n",
       "2          108.0            0.5            6.4               0   \n",
       "3          141.8            2.1            7.3               0   \n",
       "4          165.4            2.8            5.5               0   \n",
       "\n",
       "   average_heart_rate  max_heart_rate  average_speed  \n",
       "0               161.2           170.0      10.142573  \n",
       "1               157.9           164.0       4.439858  \n",
       "2               169.0           184.0       6.464512  \n",
       "3               170.7           183.0       5.485576  \n",
       "4               177.5           183.0       4.936424  "
      ]
     },
     "execution_count": 6,
     "metadata": {},
     "output_type": "execute_result"
    }
   ],
   "source": [
    "segments_df.head(5)"
   ]
  },
  {
   "cell_type": "code",
   "execution_count": 7,
   "metadata": {},
   "outputs": [
    {
     "name": "stdout",
     "output_type": "stream",
     "text": [
      "(214, 17)\n",
      "(2020, 17)\n"
     ]
    }
   ],
   "source": [
    "print(activities_df.shape)\n",
    "print(segments_df.shape)"
   ]
  },
  {
   "cell_type": "code",
   "execution_count": 8,
   "metadata": {},
   "outputs": [
    {
     "data": {
      "text/plain": [
       "id                        int64\n",
       "athlete_id                int64\n",
       "name                     object\n",
       "distance                float64\n",
       "moving_time               int64\n",
       "elapsed_time              int64\n",
       "total_elevation_gain    float64\n",
       "type                     object\n",
       "start_date_local         object\n",
       "average_speed           float64\n",
       "average_cadence         float64\n",
       "average_watts           float64\n",
       "max_watts               float64\n",
       "suffer_score            float64\n",
       "calories                float64\n",
       "average_heart_rate      float64\n",
       "max_heart_rate          float64\n",
       "dtype: object"
      ]
     },
     "execution_count": 8,
     "metadata": {},
     "output_type": "execute_result"
    }
   ],
   "source": [
    "activities_df.dtypes"
   ]
  },
  {
   "cell_type": "code",
   "execution_count": 9,
   "metadata": {},
   "outputs": [
    {
     "data": {
      "text/plain": [
       "id                      int64\n",
       "activity_id             int64\n",
       "athlete_id              int64\n",
       "name                   object\n",
       "type                   object\n",
       "elapsed_time            int64\n",
       "moving_time             int64\n",
       "start_date_local       object\n",
       "distance              float64\n",
       "average_cadence       float64\n",
       "average_watts         float64\n",
       "average_grade         float64\n",
       "maximum_grade         float64\n",
       "climb_category          int64\n",
       "average_heart_rate    float64\n",
       "max_heart_rate        float64\n",
       "average_speed         float64\n",
       "dtype: object"
      ]
     },
     "execution_count": 9,
     "metadata": {},
     "output_type": "execute_result"
    }
   ],
   "source": [
    "segments_df.dtypes"
   ]
  },
  {
   "cell_type": "markdown",
   "metadata": {},
   "source": [
    "## Naive Algo\n",
    "\n",
    "Algo, which predicts travel time over a given distance based on the average speed of all segments of the train."
   ]
  },
  {
   "cell_type": "code",
   "execution_count": 10,
   "metadata": {},
   "outputs": [
    {
     "data": {
      "text/html": [
       "<div>\n",
       "<style scoped>\n",
       "    .dataframe tbody tr th:only-of-type {\n",
       "        vertical-align: middle;\n",
       "    }\n",
       "\n",
       "    .dataframe tbody tr th {\n",
       "        vertical-align: top;\n",
       "    }\n",
       "\n",
       "    .dataframe thead th {\n",
       "        text-align: right;\n",
       "    }\n",
       "</style>\n",
       "<table border=\"1\" class=\"dataframe\">\n",
       "  <thead>\n",
       "    <tr style=\"text-align: right;\">\n",
       "      <th></th>\n",
       "      <th>elapsed_time</th>\n",
       "      <th>distance</th>\n",
       "      <th>average_speed</th>\n",
       "    </tr>\n",
       "  </thead>\n",
       "  <tbody>\n",
       "    <tr>\n",
       "      <th>0</th>\n",
       "      <td>653</td>\n",
       "      <td>6623.10</td>\n",
       "      <td>10.142573</td>\n",
       "    </tr>\n",
       "    <tr>\n",
       "      <th>1</th>\n",
       "      <td>424</td>\n",
       "      <td>1882.50</td>\n",
       "      <td>4.439858</td>\n",
       "    </tr>\n",
       "    <tr>\n",
       "      <th>2</th>\n",
       "      <td>789</td>\n",
       "      <td>5100.50</td>\n",
       "      <td>6.464512</td>\n",
       "    </tr>\n",
       "    <tr>\n",
       "      <th>3</th>\n",
       "      <td>217</td>\n",
       "      <td>1190.37</td>\n",
       "      <td>5.485576</td>\n",
       "    </tr>\n",
       "    <tr>\n",
       "      <th>4</th>\n",
       "      <td>151</td>\n",
       "      <td>745.40</td>\n",
       "      <td>4.936424</td>\n",
       "    </tr>\n",
       "  </tbody>\n",
       "</table>\n",
       "</div>"
      ],
      "text/plain": [
       "   elapsed_time  distance  average_speed\n",
       "0           653   6623.10      10.142573\n",
       "1           424   1882.50       4.439858\n",
       "2           789   5100.50       6.464512\n",
       "3           217   1190.37       5.485576\n",
       "4           151    745.40       4.936424"
      ]
     },
     "execution_count": 10,
     "metadata": {},
     "output_type": "execute_result"
    }
   ],
   "source": [
    "columns = ['elapsed_time','distance','average_speed']\n",
    "data = segments_df[columns]\n",
    "data.head(5)"
   ]
  },
  {
   "cell_type": "code",
   "execution_count": 11,
   "metadata": {},
   "outputs": [
    {
     "name": "stdout",
     "output_type": "stream",
     "text": [
      "(1818,)\n",
      "(1818, 2)\n",
      "(202,)\n",
      "(202, 2)\n"
     ]
    }
   ],
   "source": [
    "train_set , test_set = train_test_split(data, test_size=0.1, random_state=42)\n",
    "\n",
    "y_train = train_set[\"elapsed_time\"]\n",
    "X_train = train_set.drop(\"elapsed_time\", axis=1)\n",
    "y_test  = test_set[\"elapsed_time\"]\n",
    "X_test = test_set.drop(\"elapsed_time\", axis=1)\n",
    "\n",
    "\n",
    "print(y_train.shape)\n",
    "print(X_train.shape)\n",
    "print(y_test.shape)\n",
    "print(X_test.shape)"
   ]
  },
  {
   "cell_type": "markdown",
   "metadata": {},
   "source": [
    "### Calculation of the average speed of the train segments"
   ]
  },
  {
   "cell_type": "code",
   "execution_count": 12,
   "metadata": {},
   "outputs": [
    {
     "data": {
      "text/plain": [
       "5.940770310610693"
      ]
     },
     "execution_count": 12,
     "metadata": {},
     "output_type": "execute_result"
    }
   ],
   "source": [
    "mean_speed_train = X_train['average_speed'].mean()\n",
    "mean_speed_train"
   ]
  },
  {
   "cell_type": "markdown",
   "metadata": {},
   "source": [
    "### Prédiction "
   ]
  },
  {
   "cell_type": "code",
   "execution_count": 13,
   "metadata": {
    "scrolled": true
   },
   "outputs": [],
   "source": [
    "X_test['elapsed_time_pred'] = X_test['distance'] / mean_speed_train\n",
    "y_pred = X_test['elapsed_time_pred'].values"
   ]
  },
  {
   "cell_type": "code",
   "execution_count": 14,
   "metadata": {},
   "outputs": [
    {
     "name": "stdout",
     "output_type": "stream",
     "text": [
      "naive_mae : 202.2597019674092\n",
      "naive_mape: 0.37233910966761735\n",
      "naive_rmse: 464.70500544327587\n"
     ]
    }
   ],
   "source": [
    "mae_naive = mean_absolute_error(y_test,y_pred)\n",
    "mape_naive = mean_absolute_percentage_error(y_test, y_pred)\n",
    "rmse_naive = np.sqrt(mean_squared_error(y_test,y_pred))\n",
    "print(f'naive_mae : {mae_naive}')\n",
    "print(f'naive_mape: {mape_naive}')\n",
    "print(f'naive_rmse: {rmse_naive}')"
   ]
  },
  {
   "cell_type": "markdown",
   "metadata": {},
   "source": [
    "### Prediction of the naive algorithm on the alpe d'huez"
   ]
  },
  {
   "cell_type": "code",
   "execution_count": 15,
   "metadata": {},
   "outputs": [
    {
     "data": {
      "text/html": [
       "<div>\n",
       "<style scoped>\n",
       "    .dataframe tbody tr th:only-of-type {\n",
       "        vertical-align: middle;\n",
       "    }\n",
       "\n",
       "    .dataframe tbody tr th {\n",
       "        vertical-align: top;\n",
       "    }\n",
       "\n",
       "    .dataframe thead th {\n",
       "        text-align: right;\n",
       "    }\n",
       "</style>\n",
       "<table border=\"1\" class=\"dataframe\">\n",
       "  <thead>\n",
       "    <tr style=\"text-align: right;\">\n",
       "      <th></th>\n",
       "      <th>distance</th>\n",
       "      <th>altitude_gain</th>\n",
       "      <th>average_grade</th>\n",
       "      <th>all_points</th>\n",
       "    </tr>\n",
       "  </thead>\n",
       "  <tbody>\n",
       "    <tr>\n",
       "      <th>0</th>\n",
       "      <td>270.55</td>\n",
       "      <td>-0.80</td>\n",
       "      <td>-0.30</td>\n",
       "      <td>[[45.05476, 6.031770000000001], [45.0547500000...</td>\n",
       "    </tr>\n",
       "    <tr>\n",
       "      <th>1</th>\n",
       "      <td>422.22</td>\n",
       "      <td>4.33</td>\n",
       "      <td>1.03</td>\n",
       "      <td>[[45.056370001328915, 6.034199995890939], [45....</td>\n",
       "    </tr>\n",
       "    <tr>\n",
       "      <th>2</th>\n",
       "      <td>427.89</td>\n",
       "      <td>-5.51</td>\n",
       "      <td>-1.29</td>\n",
       "      <td>[[45.059050000000006, 6.0379000000000005], [45...</td>\n",
       "    </tr>\n",
       "    <tr>\n",
       "      <th>3</th>\n",
       "      <td>12615.51</td>\n",
       "      <td>1063.27</td>\n",
       "      <td>8.43</td>\n",
       "      <td>[[45.062720000000006, 6.03701], [45.0628500000...</td>\n",
       "    </tr>\n",
       "  </tbody>\n",
       "</table>\n",
       "</div>"
      ],
      "text/plain": [
       "   distance  altitude_gain  average_grade  \\\n",
       "0    270.55          -0.80          -0.30   \n",
       "1    422.22           4.33           1.03   \n",
       "2    427.89          -5.51          -1.29   \n",
       "3  12615.51        1063.27           8.43   \n",
       "\n",
       "                                          all_points  \n",
       "0  [[45.05476, 6.031770000000001], [45.0547500000...  \n",
       "1  [[45.056370001328915, 6.034199995890939], [45....  \n",
       "2  [[45.059050000000006, 6.0379000000000005], [45...  \n",
       "3  [[45.062720000000006, 6.03701], [45.0628500000...  "
      ]
     },
     "execution_count": 15,
     "metadata": {},
     "output_type": "execute_result"
    }
   ],
   "source": [
    "query = {\n",
    "    \"query\": {\n",
    "        \"match\": {\n",
    "            \"_id\": 2787335981548134218\n",
    "        }\n",
    "    }\n",
    "}\n",
    "\n",
    "result = database.search(\n",
    "    index=\"index_route\",\n",
    "    size=1000,\n",
    "    body= query\n",
    ")\n",
    "\n",
    "route_alpe = result['hits']['hits'][0]['_source']\n",
    "segments_alpe = route_alpe.get(\"segmentation\")\n",
    "segments_alpe_df = pd.DataFrame(segments_alpe)\n",
    "segments_alpe_df"
   ]
  },
  {
   "cell_type": "code",
   "execution_count": 16,
   "metadata": {},
   "outputs": [
    {
     "data": {
      "text/html": [
       "<div>\n",
       "<style scoped>\n",
       "    .dataframe tbody tr th:only-of-type {\n",
       "        vertical-align: middle;\n",
       "    }\n",
       "\n",
       "    .dataframe tbody tr th {\n",
       "        vertical-align: top;\n",
       "    }\n",
       "\n",
       "    .dataframe thead th {\n",
       "        text-align: right;\n",
       "    }\n",
       "</style>\n",
       "<table border=\"1\" class=\"dataframe\">\n",
       "  <thead>\n",
       "    <tr style=\"text-align: right;\">\n",
       "      <th></th>\n",
       "      <th>distance</th>\n",
       "      <th>altitude_gain</th>\n",
       "      <th>average_grade</th>\n",
       "      <th>all_points</th>\n",
       "      <th>elapsed_time_pred</th>\n",
       "    </tr>\n",
       "  </thead>\n",
       "  <tbody>\n",
       "    <tr>\n",
       "      <th>0</th>\n",
       "      <td>270.55</td>\n",
       "      <td>-0.80</td>\n",
       "      <td>-0.30</td>\n",
       "      <td>[[45.05476, 6.031770000000001], [45.0547500000...</td>\n",
       "      <td>45.541232</td>\n",
       "    </tr>\n",
       "    <tr>\n",
       "      <th>1</th>\n",
       "      <td>422.22</td>\n",
       "      <td>4.33</td>\n",
       "      <td>1.03</td>\n",
       "      <td>[[45.056370001328915, 6.034199995890939], [45....</td>\n",
       "      <td>71.071591</td>\n",
       "    </tr>\n",
       "    <tr>\n",
       "      <th>2</th>\n",
       "      <td>427.89</td>\n",
       "      <td>-5.51</td>\n",
       "      <td>-1.29</td>\n",
       "      <td>[[45.059050000000006, 6.0379000000000005], [45...</td>\n",
       "      <td>72.026013</td>\n",
       "    </tr>\n",
       "    <tr>\n",
       "      <th>3</th>\n",
       "      <td>12615.51</td>\n",
       "      <td>1063.27</td>\n",
       "      <td>8.43</td>\n",
       "      <td>[[45.062720000000006, 6.03701], [45.0628500000...</td>\n",
       "      <td>2123.547847</td>\n",
       "    </tr>\n",
       "  </tbody>\n",
       "</table>\n",
       "</div>"
      ],
      "text/plain": [
       "   distance  altitude_gain  average_grade  \\\n",
       "0    270.55          -0.80          -0.30   \n",
       "1    422.22           4.33           1.03   \n",
       "2    427.89          -5.51          -1.29   \n",
       "3  12615.51        1063.27           8.43   \n",
       "\n",
       "                                          all_points  elapsed_time_pred  \n",
       "0  [[45.05476, 6.031770000000001], [45.0547500000...          45.541232  \n",
       "1  [[45.056370001328915, 6.034199995890939], [45....          71.071591  \n",
       "2  [[45.059050000000006, 6.0379000000000005], [45...          72.026013  \n",
       "3  [[45.062720000000006, 6.03701], [45.0628500000...        2123.547847  "
      ]
     },
     "execution_count": 16,
     "metadata": {},
     "output_type": "execute_result"
    }
   ],
   "source": [
    "segments_alpe_df['elapsed_time_pred'] = segments_alpe_df['distance'] / mean_speed_train\n",
    "segments_alpe_df"
   ]
  },
  {
   "cell_type": "code",
   "execution_count": 17,
   "metadata": {},
   "outputs": [
    {
     "data": {
      "text/plain": [
       "2312.186683175765"
      ]
     },
     "execution_count": 17,
     "metadata": {},
     "output_type": "execute_result"
    }
   ],
   "source": [
    "segments_alpe_df['elapsed_time_pred'].sum()"
   ]
  },
  {
   "cell_type": "code",
   "execution_count": 18,
   "metadata": {},
   "outputs": [
    {
     "data": {
      "text/plain": [
       "21.386773118198498"
      ]
     },
     "execution_count": 18,
     "metadata": {},
     "output_type": "execute_result"
    }
   ],
   "source": [
    "mean_speed_train*3.6"
   ]
  },
  {
   "cell_type": "code",
   "execution_count": 19,
   "metadata": {},
   "outputs": [],
   "source": [
    "elapsed_time_naive = relativedelta(seconds=segments_alpe_df['elapsed_time_pred'].sum())"
   ]
  },
  {
   "cell_type": "code",
   "execution_count": 20,
   "metadata": {},
   "outputs": [
    {
     "name": "stdout",
     "output_type": "stream",
     "text": [
      "Prediction 0h38m32sec\n"
     ]
    }
   ],
   "source": [
    "hour = elapsed_time_naive.hours\n",
    "minutes = int(elapsed_time_naive.minutes)\n",
    "seconds = int(elapsed_time_naive.seconds)\n",
    "print(f'Prediction {hour}h{minutes}m{seconds}sec')"
   ]
  },
  {
   "cell_type": "code",
   "execution_count": 22,
   "metadata": {},
   "outputs": [
    {
     "data": {
      "text/plain": [
       "2312.186683175765"
      ]
     },
     "execution_count": 22,
     "metadata": {},
     "output_type": "execute_result"
    }
   ],
   "source": [
    "elapsed_time_pred_naive_sec = segments_alpe_df['elapsed_time_pred'].sum()\n",
    "elapsed_time_pred_naive_sec"
   ]
  },
  {
   "cell_type": "markdown",
   "metadata": {},
   "source": [
    "### The prediction of our naive algorithm looks just as wrong as the prediction we got from Strava (31:39)... The goal will be to train a model making more realistic predictions."
   ]
  },
  {
   "cell_type": "code",
   "execution_count": null,
   "metadata": {},
   "outputs": [],
   "source": []
  }
 ],
 "metadata": {
  "kernelspec": {
   "display_name": "cycling_travel_time",
   "language": "python",
   "name": "cycling_travel_time"
  },
  "language_info": {
   "codemirror_mode": {
    "name": "ipython",
    "version": 3
   },
   "file_extension": ".py",
   "mimetype": "text/x-python",
   "name": "python",
   "nbconvert_exporter": "python",
   "pygments_lexer": "ipython3",
   "version": "3.6.11"
  }
 },
 "nbformat": 4,
 "nbformat_minor": 4
}
