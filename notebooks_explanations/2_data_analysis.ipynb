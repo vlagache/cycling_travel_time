{
 "cells": [
  {
   "cell_type": "code",
   "execution_count": 1,
   "metadata": {},
   "outputs": [],
   "source": [
    "import elasticsearch\n",
    "import pandas as pd\n",
    "import numpy as np\n",
    "import seaborn as sns\n",
    "from dateutil.relativedelta import relativedelta\n",
    "%matplotlib inline \n",
    "import matplotlib.pyplot as plt \n",
    "\n",
    "from sklearn.linear_model import LinearRegression\n",
    "from sklearn.model_selection import train_test_split\n",
    "from sklearn.metrics import mean_absolute_error, mean_absolute_percentage_error"
   ]
  },
  {
   "cell_type": "markdown",
   "metadata": {},
   "source": [
    "#### Recuperation des données"
   ]
  },
  {
   "cell_type": "code",
   "execution_count": 2,
   "metadata": {},
   "outputs": [],
   "source": [
    "hosts = [{\"host\": 'localhost', \"port\": 9200}]\n",
    "database = elasticsearch.Elasticsearch(hosts=hosts)"
   ]
  },
  {
   "cell_type": "code",
   "execution_count": 3,
   "metadata": {},
   "outputs": [],
   "source": [
    "def get_datas(database):\n",
    "    query = {\n",
    "        \"query\": {\n",
    "            \"match_all\": {}\n",
    "        }\n",
    "    }\n",
    "\n",
    "    result = database.search(\n",
    "        index=\"index_activity\",\n",
    "        size=1000,\n",
    "        body= query\n",
    "    )\n",
    "    \n",
    "    \n",
    "    activities = result['hits']['hits']\n",
    "    activities_json = [ activity.get(\"_source\") for activity in activities]\n",
    "    activities_df = pd.DataFrame(activities_json)\n",
    "    activities_df = activities_df.drop(columns=['py/object', 'segment_efforts'])\n",
    "    \n",
    "    segments_json = [ segment for activity in activities_json for segment in activity.get(\"segment_efforts\")]\n",
    "    segments_df = pd.DataFrame(segments_json)\n",
    "    segments_df = segments_df.drop(columns=['py/object'])\n",
    "    \n",
    "    return activities_df, segments_df\n",
    "\n",
    "activities_df, segments_df = get_datas(database)"
   ]
  },
  {
   "cell_type": "code",
   "execution_count": 4,
   "metadata": {},
   "outputs": [
    {
     "name": "stdout",
     "output_type": "stream",
     "text": [
      "(211, 17)\n",
      "(1992, 16)\n"
     ]
    }
   ],
   "source": [
    "print(activities_df.shape)\n",
    "print(segments_df.shape)"
   ]
  },
  {
   "cell_type": "markdown",
   "metadata": {},
   "source": [
    "#### Activités ainsi que les segments Strava composant chacune de ces activitées\n",
    "\n",
    "\n",
    "Certaines activités ne semblent pas avoir de segments => Refonte de segments Strava , cela semble OK \n"
   ]
  },
  {
   "cell_type": "code",
   "execution_count": 5,
   "metadata": {},
   "outputs": [
    {
     "data": {
      "text/plain": [
       "202"
      ]
     },
     "execution_count": 5,
     "metadata": {},
     "output_type": "execute_result"
    }
   ],
   "source": [
    "len(segments_df['activity_id'].unique())"
   ]
  },
  {
   "cell_type": "code",
   "execution_count": 6,
   "metadata": {},
   "outputs": [
    {
     "data": {
      "text/plain": [
       "211"
      ]
     },
     "execution_count": 6,
     "metadata": {},
     "output_type": "execute_result"
    }
   ],
   "source": [
    "len(activities_df['id'].unique())"
   ]
  },
  {
   "cell_type": "code",
   "execution_count": 7,
   "metadata": {},
   "outputs": [
    {
     "name": "stdout",
     "output_type": "stream",
     "text": [
      "2104915553\n",
      "3867618242\n",
      "3793647041\n",
      "3791009530\n",
      "2923534509\n",
      "2749334701\n",
      "2545454637\n",
      "2526054334\n",
      "2215374863\n"
     ]
    }
   ],
   "source": [
    "for id_activity in activities_df['id'].unique():\n",
    "    if id_activity not in segments_df['activity_id'].unique():\n",
    "        print(id_activity)"
   ]
  },
  {
   "cell_type": "markdown",
   "metadata": {},
   "source": [
    "###  Analyse des données"
   ]
  },
  {
   "cell_type": "code",
   "execution_count": 8,
   "metadata": {},
   "outputs": [
    {
     "data": {
      "text/html": [
       "<div>\n",
       "<style scoped>\n",
       "    .dataframe tbody tr th:only-of-type {\n",
       "        vertical-align: middle;\n",
       "    }\n",
       "\n",
       "    .dataframe tbody tr th {\n",
       "        vertical-align: top;\n",
       "    }\n",
       "\n",
       "    .dataframe thead th {\n",
       "        text-align: right;\n",
       "    }\n",
       "</style>\n",
       "<table border=\"1\" class=\"dataframe\">\n",
       "  <thead>\n",
       "    <tr style=\"text-align: right;\">\n",
       "      <th></th>\n",
       "      <th>id</th>\n",
       "      <th>activity_id</th>\n",
       "      <th>athlete_id</th>\n",
       "      <th>name</th>\n",
       "      <th>type</th>\n",
       "      <th>elapsed_time</th>\n",
       "      <th>moving_time</th>\n",
       "      <th>start_date_local</th>\n",
       "      <th>distance</th>\n",
       "      <th>average_cadence</th>\n",
       "      <th>average_watts</th>\n",
       "      <th>average_grade</th>\n",
       "      <th>maximum_grade</th>\n",
       "      <th>climb_category</th>\n",
       "      <th>average_heart_rate</th>\n",
       "      <th>max_heart_rate</th>\n",
       "    </tr>\n",
       "  </thead>\n",
       "  <tbody>\n",
       "    <tr>\n",
       "      <th>0</th>\n",
       "      <td>27180136</td>\n",
       "      <td>4801436758</td>\n",
       "      <td>10944546</td>\n",
       "      <td>Kent Rd Climb to Sprint Banner (Zwift Insider ...</td>\n",
       "      <td>VirtualRide</td>\n",
       "      <td>176</td>\n",
       "      <td>176</td>\n",
       "      <td>2021-02-17T13:36:00Z</td>\n",
       "      <td>1137.3</td>\n",
       "      <td>81.4</td>\n",
       "      <td>183.4</td>\n",
       "      <td>2.6</td>\n",
       "      <td>7.0</td>\n",
       "      <td>0</td>\n",
       "      <td>149.4</td>\n",
       "      <td>156.0</td>\n",
       "    </tr>\n",
       "    <tr>\n",
       "      <th>1</th>\n",
       "      <td>21748007</td>\n",
       "      <td>4801436758</td>\n",
       "      <td>10944546</td>\n",
       "      <td>Yorkshire Sprint Reverse</td>\n",
       "      <td>VirtualRide</td>\n",
       "      <td>63</td>\n",
       "      <td>63</td>\n",
       "      <td>2021-02-17T13:37:53Z</td>\n",
       "      <td>394.3</td>\n",
       "      <td>79.9</td>\n",
       "      <td>182.9</td>\n",
       "      <td>2.1</td>\n",
       "      <td>5.7</td>\n",
       "      <td>0</td>\n",
       "      <td>153.4</td>\n",
       "      <td>156.0</td>\n",
       "    </tr>\n",
       "    <tr>\n",
       "      <th>2</th>\n",
       "      <td>27207377</td>\n",
       "      <td>4801436758</td>\n",
       "      <td>10944546</td>\n",
       "      <td>Finishing Straightaway (Zwift Insider verified)</td>\n",
       "      <td>VirtualRide</td>\n",
       "      <td>99</td>\n",
       "      <td>99</td>\n",
       "      <td>2021-02-17T13:40:47Z</td>\n",
       "      <td>611.1</td>\n",
       "      <td>78.4</td>\n",
       "      <td>192.3</td>\n",
       "      <td>3.3</td>\n",
       "      <td>10.2</td>\n",
       "      <td>0</td>\n",
       "      <td>156.7</td>\n",
       "      <td>162.0</td>\n",
       "    </tr>\n",
       "    <tr>\n",
       "      <th>3</th>\n",
       "      <td>27180001</td>\n",
       "      <td>4801436758</td>\n",
       "      <td>10944546</td>\n",
       "      <td>Otley Rd Climb (Zwift Insider verified)</td>\n",
       "      <td>VirtualRide</td>\n",
       "      <td>285</td>\n",
       "      <td>285</td>\n",
       "      <td>2021-02-17T13:43:02Z</td>\n",
       "      <td>1641.6</td>\n",
       "      <td>75.5</td>\n",
       "      <td>204.1</td>\n",
       "      <td>3.4</td>\n",
       "      <td>6.6</td>\n",
       "      <td>0</td>\n",
       "      <td>164.7</td>\n",
       "      <td>172.0</td>\n",
       "    </tr>\n",
       "    <tr>\n",
       "      <th>4</th>\n",
       "      <td>20837686</td>\n",
       "      <td>4801436758</td>\n",
       "      <td>10944546</td>\n",
       "      <td>Beckwithshaw to Penny Pot - Fulgaz</td>\n",
       "      <td>VirtualRide</td>\n",
       "      <td>256</td>\n",
       "      <td>256</td>\n",
       "      <td>2021-02-17T13:51:25Z</td>\n",
       "      <td>2323.4</td>\n",
       "      <td>75.5</td>\n",
       "      <td>189.3</td>\n",
       "      <td>-1.1</td>\n",
       "      <td>10.9</td>\n",
       "      <td>0</td>\n",
       "      <td>167.3</td>\n",
       "      <td>177.0</td>\n",
       "    </tr>\n",
       "  </tbody>\n",
       "</table>\n",
       "</div>"
      ],
      "text/plain": [
       "         id  activity_id  athlete_id  \\\n",
       "0  27180136   4801436758    10944546   \n",
       "1  21748007   4801436758    10944546   \n",
       "2  27207377   4801436758    10944546   \n",
       "3  27180001   4801436758    10944546   \n",
       "4  20837686   4801436758    10944546   \n",
       "\n",
       "                                                name         type  \\\n",
       "0  Kent Rd Climb to Sprint Banner (Zwift Insider ...  VirtualRide   \n",
       "1                           Yorkshire Sprint Reverse  VirtualRide   \n",
       "2    Finishing Straightaway (Zwift Insider verified)  VirtualRide   \n",
       "3            Otley Rd Climb (Zwift Insider verified)  VirtualRide   \n",
       "4                 Beckwithshaw to Penny Pot - Fulgaz  VirtualRide   \n",
       "\n",
       "   elapsed_time  moving_time      start_date_local  distance  average_cadence  \\\n",
       "0           176          176  2021-02-17T13:36:00Z    1137.3             81.4   \n",
       "1            63           63  2021-02-17T13:37:53Z     394.3             79.9   \n",
       "2            99           99  2021-02-17T13:40:47Z     611.1             78.4   \n",
       "3           285          285  2021-02-17T13:43:02Z    1641.6             75.5   \n",
       "4           256          256  2021-02-17T13:51:25Z    2323.4             75.5   \n",
       "\n",
       "   average_watts  average_grade  maximum_grade  climb_category  \\\n",
       "0          183.4            2.6            7.0               0   \n",
       "1          182.9            2.1            5.7               0   \n",
       "2          192.3            3.3           10.2               0   \n",
       "3          204.1            3.4            6.6               0   \n",
       "4          189.3           -1.1           10.9               0   \n",
       "\n",
       "   average_heart_rate  max_heart_rate  \n",
       "0               149.4           156.0  \n",
       "1               153.4           156.0  \n",
       "2               156.7           162.0  \n",
       "3               164.7           172.0  \n",
       "4               167.3           177.0  "
      ]
     },
     "execution_count": 8,
     "metadata": {},
     "output_type": "execute_result"
    }
   ],
   "source": [
    "segments_df.head()"
   ]
  },
  {
   "cell_type": "code",
   "execution_count": 9,
   "metadata": {},
   "outputs": [
    {
     "name": "stdout",
     "output_type": "stream",
     "text": [
      "<class 'pandas.core.frame.DataFrame'>\n",
      "RangeIndex: 1992 entries, 0 to 1991\n",
      "Data columns (total 16 columns):\n",
      " #   Column              Non-Null Count  Dtype  \n",
      "---  ------              --------------  -----  \n",
      " 0   id                  1992 non-null   int64  \n",
      " 1   activity_id         1992 non-null   int64  \n",
      " 2   athlete_id          1992 non-null   int64  \n",
      " 3   name                1992 non-null   object \n",
      " 4   type                1992 non-null   object \n",
      " 5   elapsed_time        1992 non-null   int64  \n",
      " 6   moving_time         1992 non-null   int64  \n",
      " 7   start_date_local    1992 non-null   object \n",
      " 8   distance            1992 non-null   float64\n",
      " 9   average_cadence     1103 non-null   float64\n",
      " 10  average_watts       1992 non-null   float64\n",
      " 11  average_grade       1992 non-null   float64\n",
      " 12  maximum_grade       1992 non-null   float64\n",
      " 13  climb_category      1992 non-null   int64  \n",
      " 14  average_heart_rate  1151 non-null   float64\n",
      " 15  max_heart_rate      1151 non-null   float64\n",
      "dtypes: float64(7), int64(6), object(3)\n",
      "memory usage: 249.1+ KB\n"
     ]
    }
   ],
   "source": [
    "segments_df.info()"
   ]
  },
  {
   "cell_type": "markdown",
   "metadata": {},
   "source": [
    "* Variables numériques hormis **name , type et start_date_local** \n",
    "* **average_heart_rate et max_heart_rate** comportent de nombreuses infos manquantes , activités réalisés sans capteur cardiaque"
   ]
  },
  {
   "cell_type": "code",
   "execution_count": 10,
   "metadata": {},
   "outputs": [
    {
     "data": {
      "text/plain": [
       "VirtualRide    1078\n",
       "Ride            914\n",
       "Name: type, dtype: int64"
      ]
     },
     "execution_count": 10,
     "metadata": {},
     "output_type": "execute_result"
    }
   ],
   "source": [
    "segments_df['type'].value_counts()"
   ]
  },
  {
   "cell_type": "code",
   "execution_count": 11,
   "metadata": {},
   "outputs": [
    {
     "data": {
      "text/plain": [
       "Col du Chateau d'eau          30\n",
       "Col du chateau d'eau court    30\n",
       "Champs-Élysées                29\n",
       "Rien à foutre                 28\n",
       "À fond jusqu'au poteau        28\n",
       "                              ..\n",
       "2 bend 2                       1\n",
       "alpe d'huez                    1\n",
       "la pancarte                    1\n",
       "Start to bend 21               1\n",
       "route de Lartigue vers 113     1\n",
       "Name: name, Length: 486, dtype: int64"
      ]
     },
     "execution_count": 11,
     "metadata": {},
     "output_type": "execute_result"
    }
   ],
   "source": [
    "segments_df['name'].value_counts()"
   ]
  },
  {
   "cell_type": "code",
   "execution_count": 12,
   "metadata": {},
   "outputs": [],
   "source": [
    "segments_df['start_date_local'] = pd.to_datetime(segments_df['start_date_local'])"
   ]
  },
  {
   "cell_type": "code",
   "execution_count": 13,
   "metadata": {},
   "outputs": [
    {
     "data": {
      "text/html": [
       "<div>\n",
       "<style scoped>\n",
       "    .dataframe tbody tr th:only-of-type {\n",
       "        vertical-align: middle;\n",
       "    }\n",
       "\n",
       "    .dataframe tbody tr th {\n",
       "        vertical-align: top;\n",
       "    }\n",
       "\n",
       "    .dataframe thead th {\n",
       "        text-align: right;\n",
       "    }\n",
       "</style>\n",
       "<table border=\"1\" class=\"dataframe\">\n",
       "  <thead>\n",
       "    <tr style=\"text-align: right;\">\n",
       "      <th></th>\n",
       "      <th>id</th>\n",
       "      <th>activity_id</th>\n",
       "      <th>athlete_id</th>\n",
       "      <th>elapsed_time</th>\n",
       "      <th>moving_time</th>\n",
       "      <th>distance</th>\n",
       "      <th>average_cadence</th>\n",
       "      <th>average_watts</th>\n",
       "      <th>average_grade</th>\n",
       "      <th>maximum_grade</th>\n",
       "      <th>climb_category</th>\n",
       "      <th>average_heart_rate</th>\n",
       "      <th>max_heart_rate</th>\n",
       "    </tr>\n",
       "  </thead>\n",
       "  <tbody>\n",
       "    <tr>\n",
       "      <th>count</th>\n",
       "      <td>1.992000e+03</td>\n",
       "      <td>1.992000e+03</td>\n",
       "      <td>1992.0</td>\n",
       "      <td>1992.000000</td>\n",
       "      <td>1992.000000</td>\n",
       "      <td>1992.000000</td>\n",
       "      <td>1103.000000</td>\n",
       "      <td>1992.000000</td>\n",
       "      <td>1992.000000</td>\n",
       "      <td>1992.000000</td>\n",
       "      <td>1992.000000</td>\n",
       "      <td>1151.000000</td>\n",
       "      <td>1151.000000</td>\n",
       "    </tr>\n",
       "    <tr>\n",
       "      <th>mean</th>\n",
       "      <td>1.561883e+07</td>\n",
       "      <td>3.204345e+09</td>\n",
       "      <td>10944546.0</td>\n",
       "      <td>663.692269</td>\n",
       "      <td>648.585341</td>\n",
       "      <td>3375.957264</td>\n",
       "      <td>80.492747</td>\n",
       "      <td>175.777410</td>\n",
       "      <td>3.158534</td>\n",
       "      <td>9.989608</td>\n",
       "      <td>0.431727</td>\n",
       "      <td>155.118766</td>\n",
       "      <td>164.880104</td>\n",
       "    </tr>\n",
       "    <tr>\n",
       "      <th>std</th>\n",
       "      <td>6.362145e+06</td>\n",
       "      <td>8.779137e+08</td>\n",
       "      <td>0.0</td>\n",
       "      <td>1119.309824</td>\n",
       "      <td>1113.859167</td>\n",
       "      <td>5495.900131</td>\n",
       "      <td>8.098743</td>\n",
       "      <td>58.110394</td>\n",
       "      <td>3.873976</td>\n",
       "      <td>10.414700</td>\n",
       "      <td>1.145979</td>\n",
       "      <td>22.364925</td>\n",
       "      <td>23.986943</td>\n",
       "    </tr>\n",
       "    <tr>\n",
       "      <th>min</th>\n",
       "      <td>1.731538e+06</td>\n",
       "      <td>1.597381e+09</td>\n",
       "      <td>10944546.0</td>\n",
       "      <td>14.000000</td>\n",
       "      <td>14.000000</td>\n",
       "      <td>64.000000</td>\n",
       "      <td>43.000000</td>\n",
       "      <td>18.100000</td>\n",
       "      <td>-8.500000</td>\n",
       "      <td>-2.900000</td>\n",
       "      <td>0.000000</td>\n",
       "      <td>45.500000</td>\n",
       "      <td>81.000000</td>\n",
       "    </tr>\n",
       "    <tr>\n",
       "      <th>25%</th>\n",
       "      <td>1.126710e+07</td>\n",
       "      <td>2.509084e+09</td>\n",
       "      <td>10944546.0</td>\n",
       "      <td>131.750000</td>\n",
       "      <td>125.000000</td>\n",
       "      <td>580.000000</td>\n",
       "      <td>75.200000</td>\n",
       "      <td>136.900000</td>\n",
       "      <td>0.000000</td>\n",
       "      <td>4.275000</td>\n",
       "      <td>0.000000</td>\n",
       "      <td>149.550000</td>\n",
       "      <td>161.000000</td>\n",
       "    </tr>\n",
       "    <tr>\n",
       "      <th>50%</th>\n",
       "      <td>1.732952e+07</td>\n",
       "      <td>3.259840e+09</td>\n",
       "      <td>10944546.0</td>\n",
       "      <td>243.000000</td>\n",
       "      <td>228.500000</td>\n",
       "      <td>1190.370000</td>\n",
       "      <td>81.100000</td>\n",
       "      <td>182.600000</td>\n",
       "      <td>2.000000</td>\n",
       "      <td>8.300000</td>\n",
       "      <td>0.000000</td>\n",
       "      <td>159.900000</td>\n",
       "      <td>171.000000</td>\n",
       "    </tr>\n",
       "    <tr>\n",
       "      <th>75%</th>\n",
       "      <td>2.058558e+07</td>\n",
       "      <td>4.055624e+09</td>\n",
       "      <td>10944546.0</td>\n",
       "      <td>664.000000</td>\n",
       "      <td>642.250000</td>\n",
       "      <td>4248.025000</td>\n",
       "      <td>86.100000</td>\n",
       "      <td>205.125000</td>\n",
       "      <td>6.600000</td>\n",
       "      <td>12.500000</td>\n",
       "      <td>0.000000</td>\n",
       "      <td>168.200000</td>\n",
       "      <td>179.000000</td>\n",
       "    </tr>\n",
       "    <tr>\n",
       "      <th>max</th>\n",
       "      <td>2.720786e+07</td>\n",
       "      <td>4.801437e+09</td>\n",
       "      <td>10944546.0</td>\n",
       "      <td>15378.000000</td>\n",
       "      <td>15372.000000</td>\n",
       "      <td>89053.700000</td>\n",
       "      <td>111.600000</td>\n",
       "      <td>741.400000</td>\n",
       "      <td>22.500000</td>\n",
       "      <td>193.800000</td>\n",
       "      <td>5.000000</td>\n",
       "      <td>187.900000</td>\n",
       "      <td>196.000000</td>\n",
       "    </tr>\n",
       "  </tbody>\n",
       "</table>\n",
       "</div>"
      ],
      "text/plain": [
       "                 id   activity_id  athlete_id  elapsed_time   moving_time  \\\n",
       "count  1.992000e+03  1.992000e+03      1992.0   1992.000000   1992.000000   \n",
       "mean   1.561883e+07  3.204345e+09  10944546.0    663.692269    648.585341   \n",
       "std    6.362145e+06  8.779137e+08         0.0   1119.309824   1113.859167   \n",
       "min    1.731538e+06  1.597381e+09  10944546.0     14.000000     14.000000   \n",
       "25%    1.126710e+07  2.509084e+09  10944546.0    131.750000    125.000000   \n",
       "50%    1.732952e+07  3.259840e+09  10944546.0    243.000000    228.500000   \n",
       "75%    2.058558e+07  4.055624e+09  10944546.0    664.000000    642.250000   \n",
       "max    2.720786e+07  4.801437e+09  10944546.0  15378.000000  15372.000000   \n",
       "\n",
       "           distance  average_cadence  average_watts  average_grade  \\\n",
       "count   1992.000000      1103.000000    1992.000000    1992.000000   \n",
       "mean    3375.957264        80.492747     175.777410       3.158534   \n",
       "std     5495.900131         8.098743      58.110394       3.873976   \n",
       "min       64.000000        43.000000      18.100000      -8.500000   \n",
       "25%      580.000000        75.200000     136.900000       0.000000   \n",
       "50%     1190.370000        81.100000     182.600000       2.000000   \n",
       "75%     4248.025000        86.100000     205.125000       6.600000   \n",
       "max    89053.700000       111.600000     741.400000      22.500000   \n",
       "\n",
       "       maximum_grade  climb_category  average_heart_rate  max_heart_rate  \n",
       "count    1992.000000     1992.000000         1151.000000     1151.000000  \n",
       "mean        9.989608        0.431727          155.118766      164.880104  \n",
       "std        10.414700        1.145979           22.364925       23.986943  \n",
       "min        -2.900000        0.000000           45.500000       81.000000  \n",
       "25%         4.275000        0.000000          149.550000      161.000000  \n",
       "50%         8.300000        0.000000          159.900000      171.000000  \n",
       "75%        12.500000        0.000000          168.200000      179.000000  \n",
       "max       193.800000        5.000000          187.900000      196.000000  "
      ]
     },
     "execution_count": 13,
     "metadata": {},
     "output_type": "execute_result"
    }
   ],
   "source": [
    "segments_df.describe()"
   ]
  },
  {
   "cell_type": "code",
   "execution_count": 14,
   "metadata": {},
   "outputs": [
    {
     "data": {
      "image/png": "[encoded data removed]",
      "text/plain": [
       "<Figure size 1440x1080 with 16 Axes>"
      ]
     },
     "metadata": {
      "needs_background": "light"
     },
     "output_type": "display_data"
    }
   ],
   "source": [
    "segments_df.hist(bins=50, figsize=(20,15))\n",
    "plt.show()"
   ]
  },
  {
   "cell_type": "markdown",
   "metadata": {},
   "source": [
    "* elapsed_time / distance , beaucoup de valeurs abérantes\n",
    "* Pareil pour maximum_grade avec des % moyen de plus de 30% est ce que toute la donnée est corrompue ?\n",
    "* Voir aussi pour le heart_rate avec des valeurs a moins de 50..."
   ]
  },
  {
   "cell_type": "markdown",
   "metadata": {},
   "source": [
    "####  Maximum_grade\n",
    "\n",
    "Bien que l'information sur le denivelé maximum ne soit pas forcement utile dans le modele , on regarde quand meme ces valeurs extremes..."
   ]
  },
  {
   "cell_type": "code",
   "execution_count": 15,
   "metadata": {},
   "outputs": [
    {
     "data": {
      "image/png": "[encoded data removed]",
      "text/plain": [
       "<Figure size 360x180 with 1 Axes>"
      ]
     },
     "metadata": {
      "needs_background": "light"
     },
     "output_type": "display_data"
    }
   ],
   "source": [
    "segments_df['maximum_grade'].hist(bins=50, figsize=(5,2.5))\n",
    "plt.show()"
   ]
  },
  {
   "cell_type": "code",
   "execution_count": 16,
   "metadata": {},
   "outputs": [
    {
     "data": {
      "text/plain": [
       "(5, 16)"
      ]
     },
     "execution_count": 16,
     "metadata": {},
     "output_type": "execute_result"
    }
   ],
   "source": [
    "huge_max_grade = segments_df.loc[segments_df['maximum_grade'] > 50]\n",
    "huge_max_grade.shape"
   ]
  },
  {
   "cell_type": "code",
   "execution_count": 17,
   "metadata": {},
   "outputs": [
    {
     "data": {
      "text/plain": [
       "333      50.3\n",
       "1027     56.6\n",
       "1035    193.8\n",
       "1146     50.3\n",
       "1183     50.3\n",
       "Name: maximum_grade, dtype: float64"
      ]
     },
     "execution_count": 17,
     "metadata": {},
     "output_type": "execute_result"
    }
   ],
   "source": [
    "huge_max_grade['maximum_grade']"
   ]
  },
  {
   "cell_type": "markdown",
   "metadata": {},
   "source": [
    "On peut imaginer que sur 1m , bien que cela semble énorme , il est possible d'avoir 50% de denivelé , par contre on enleve celui avec 193% de maximum grade"
   ]
  },
  {
   "cell_type": "code",
   "execution_count": 18,
   "metadata": {},
   "outputs": [
    {
     "data": {
      "text/plain": [
       "1035"
      ]
     },
     "execution_count": 18,
     "metadata": {},
     "output_type": "execute_result"
    }
   ],
   "source": [
    "index_to_remove = huge_max_grade.loc[huge_max_grade['maximum_grade'] == 193.8].index[0]\n",
    "index_to_remove"
   ]
  },
  {
   "cell_type": "code",
   "execution_count": 19,
   "metadata": {},
   "outputs": [
    {
     "data": {
      "image/png": "[encoded data removed]",
      "text/plain": [
       "<Figure size 360x180 with 1 Axes>"
      ]
     },
     "metadata": {
      "needs_background": "light"
     },
     "output_type": "display_data"
    }
   ],
   "source": [
    "segments_df = segments_df.drop(index_to_remove)\n",
    "segments_df['maximum_grade'].hist(bins=50, figsize=(5,2.5))\n",
    "plt.show()\n"
   ]
  },
  {
   "cell_type": "code",
   "execution_count": 20,
   "metadata": {},
   "outputs": [
    {
     "data": {
      "text/plain": [
       "(1991, 16)"
      ]
     },
     "execution_count": 20,
     "metadata": {},
     "output_type": "execute_result"
    }
   ],
   "source": [
    "segments_df.shape"
   ]
  },
  {
   "cell_type": "markdown",
   "metadata": {},
   "source": [
    "####  Segments en double dans la meme activité / Segments regroupant d'autres segments\n",
    "\n",
    "* segments en double dans la meme activité... ( ex : https://www.strava.com/activities/3198007867) **BUG STRAVA**"
   ]
  },
  {
   "cell_type": "code",
   "execution_count": 21,
   "metadata": {},
   "outputs": [
    {
     "data": {
      "text/plain": [
       "(9, 16)"
      ]
     },
     "execution_count": 21,
     "metadata": {},
     "output_type": "execute_result"
    }
   ],
   "source": [
    "segments_double = segments_df[segments_df.duplicated()]\n",
    "segments_double.shape"
   ]
  },
  {
   "cell_type": "code",
   "execution_count": 22,
   "metadata": {},
   "outputs": [
    {
     "data": {
      "text/html": [
       "<div>\n",
       "<style scoped>\n",
       "    .dataframe tbody tr th:only-of-type {\n",
       "        vertical-align: middle;\n",
       "    }\n",
       "\n",
       "    .dataframe tbody tr th {\n",
       "        vertical-align: top;\n",
       "    }\n",
       "\n",
       "    .dataframe thead th {\n",
       "        text-align: right;\n",
       "    }\n",
       "</style>\n",
       "<table border=\"1\" class=\"dataframe\">\n",
       "  <thead>\n",
       "    <tr style=\"text-align: right;\">\n",
       "      <th></th>\n",
       "      <th>id</th>\n",
       "      <th>activity_id</th>\n",
       "      <th>athlete_id</th>\n",
       "      <th>name</th>\n",
       "      <th>type</th>\n",
       "      <th>elapsed_time</th>\n",
       "      <th>moving_time</th>\n",
       "      <th>start_date_local</th>\n",
       "      <th>distance</th>\n",
       "      <th>average_cadence</th>\n",
       "      <th>average_watts</th>\n",
       "      <th>average_grade</th>\n",
       "      <th>maximum_grade</th>\n",
       "      <th>climb_category</th>\n",
       "      <th>average_heart_rate</th>\n",
       "      <th>max_heart_rate</th>\n",
       "    </tr>\n",
       "  </thead>\n",
       "  <tbody>\n",
       "    <tr>\n",
       "      <th>1137</th>\n",
       "      <td>16784833</td>\n",
       "      <td>3259834962</td>\n",
       "      <td>10944546</td>\n",
       "      <td>Epic KOM</td>\n",
       "      <td>VirtualRide</td>\n",
       "      <td>1831</td>\n",
       "      <td>1831</td>\n",
       "      <td>2020-04-05 18:54:45+00:00</td>\n",
       "      <td>9410.5</td>\n",
       "      <td>84.2</td>\n",
       "      <td>216.1</td>\n",
       "      <td>3.9</td>\n",
       "      <td>9.0</td>\n",
       "      <td>3</td>\n",
       "      <td>NaN</td>\n",
       "      <td>NaN</td>\n",
       "    </tr>\n",
       "    <tr>\n",
       "      <th>1197</th>\n",
       "      <td>19171748</td>\n",
       "      <td>3198007867</td>\n",
       "      <td>10944546</td>\n",
       "      <td>Rising Empire</td>\n",
       "      <td>VirtualRide</td>\n",
       "      <td>3115</td>\n",
       "      <td>2981</td>\n",
       "      <td>2020-03-19 17:38:53+00:00</td>\n",
       "      <td>20768.1</td>\n",
       "      <td>76.3</td>\n",
       "      <td>157.6</td>\n",
       "      <td>0.0</td>\n",
       "      <td>16.9</td>\n",
       "      <td>0</td>\n",
       "      <td>NaN</td>\n",
       "      <td>NaN</td>\n",
       "    </tr>\n",
       "    <tr>\n",
       "      <th>1199</th>\n",
       "      <td>19171695</td>\n",
       "      <td>3198007867</td>\n",
       "      <td>10944546</td>\n",
       "      <td>Rising Empire Pens to Banner</td>\n",
       "      <td>VirtualRide</td>\n",
       "      <td>3065</td>\n",
       "      <td>2931</td>\n",
       "      <td>2020-03-19 17:39:42+00:00</td>\n",
       "      <td>20546.5</td>\n",
       "      <td>76.4</td>\n",
       "      <td>158.1</td>\n",
       "      <td>-0.0</td>\n",
       "      <td>16.6</td>\n",
       "      <td>0</td>\n",
       "      <td>NaN</td>\n",
       "      <td>NaN</td>\n",
       "    </tr>\n",
       "    <tr>\n",
       "      <th>1201</th>\n",
       "      <td>19141090</td>\n",
       "      <td>3198007867</td>\n",
       "      <td>10944546</td>\n",
       "      <td>NYC KOM</td>\n",
       "      <td>VirtualRide</td>\n",
       "      <td>386</td>\n",
       "      <td>386</td>\n",
       "      <td>2020-03-19 17:56:33+00:00</td>\n",
       "      <td>1367.3</td>\n",
       "      <td>80.7</td>\n",
       "      <td>209.8</td>\n",
       "      <td>6.4</td>\n",
       "      <td>17.9</td>\n",
       "      <td>1</td>\n",
       "      <td>NaN</td>\n",
       "      <td>NaN</td>\n",
       "    </tr>\n",
       "    <tr>\n",
       "      <th>1203</th>\n",
       "      <td>19141092</td>\n",
       "      <td>3198007867</td>\n",
       "      <td>10944546</td>\n",
       "      <td>NYC KOM Reverse</td>\n",
       "      <td>VirtualRide</td>\n",
       "      <td>319</td>\n",
       "      <td>319</td>\n",
       "      <td>2020-03-19 18:17:21+00:00</td>\n",
       "      <td>1145.1</td>\n",
       "      <td>80.0</td>\n",
       "      <td>195.3</td>\n",
       "      <td>5.9</td>\n",
       "      <td>15.6</td>\n",
       "      <td>0</td>\n",
       "      <td>NaN</td>\n",
       "      <td>NaN</td>\n",
       "    </tr>\n",
       "  </tbody>\n",
       "</table>\n",
       "</div>"
      ],
      "text/plain": [
       "            id  activity_id  athlete_id                          name  \\\n",
       "1137  16784833   3259834962    10944546                      Epic KOM   \n",
       "1197  19171748   3198007867    10944546                 Rising Empire   \n",
       "1199  19171695   3198007867    10944546  Rising Empire Pens to Banner   \n",
       "1201  19141090   3198007867    10944546                       NYC KOM   \n",
       "1203  19141092   3198007867    10944546               NYC KOM Reverse   \n",
       "\n",
       "             type  elapsed_time  moving_time          start_date_local  \\\n",
       "1137  VirtualRide          1831         1831 2020-04-05 18:54:45+00:00   \n",
       "1197  VirtualRide          3115         2981 2020-03-19 17:38:53+00:00   \n",
       "1199  VirtualRide          3065         2931 2020-03-19 17:39:42+00:00   \n",
       "1201  VirtualRide           386          386 2020-03-19 17:56:33+00:00   \n",
       "1203  VirtualRide           319          319 2020-03-19 18:17:21+00:00   \n",
       "\n",
       "      distance  average_cadence  average_watts  average_grade  maximum_grade  \\\n",
       "1137    9410.5             84.2          216.1            3.9            9.0   \n",
       "1197   20768.1             76.3          157.6            0.0           16.9   \n",
       "1199   20546.5             76.4          158.1           -0.0           16.6   \n",
       "1201    1367.3             80.7          209.8            6.4           17.9   \n",
       "1203    1145.1             80.0          195.3            5.9           15.6   \n",
       "\n",
       "      climb_category  average_heart_rate  max_heart_rate  \n",
       "1137               3                 NaN             NaN  \n",
       "1197               0                 NaN             NaN  \n",
       "1199               0                 NaN             NaN  \n",
       "1201               1                 NaN             NaN  \n",
       "1203               0                 NaN             NaN  "
      ]
     },
     "execution_count": 22,
     "metadata": {},
     "output_type": "execute_result"
    }
   ],
   "source": [
    "segments_double.head()"
   ]
  },
  {
   "cell_type": "code",
   "execution_count": 23,
   "metadata": {},
   "outputs": [
    {
     "data": {
      "text/plain": [
       "Int64Index([1137, 1197, 1199, 1201, 1203, 1210, 1218, 1220, 1222], dtype='int64')"
      ]
     },
     "execution_count": 23,
     "metadata": {},
     "output_type": "execute_result"
    }
   ],
   "source": [
    "segments_double_index = segments_double.index\n",
    "segments_double_index"
   ]
  },
  {
   "cell_type": "code",
   "execution_count": 24,
   "metadata": {},
   "outputs": [
    {
     "data": {
      "text/plain": [
       "(1982, 16)"
      ]
     },
     "execution_count": 24,
     "metadata": {},
     "output_type": "execute_result"
    }
   ],
   "source": [
    "segments_df = segments_df.drop(segments_double_index)\n",
    "segments_df.shape"
   ]
  },
  {
   "cell_type": "code",
   "execution_count": 25,
   "metadata": {},
   "outputs": [
    {
     "data": {
      "text/html": [
       "<div>\n",
       "<style scoped>\n",
       "    .dataframe tbody tr th:only-of-type {\n",
       "        vertical-align: middle;\n",
       "    }\n",
       "\n",
       "    .dataframe tbody tr th {\n",
       "        vertical-align: top;\n",
       "    }\n",
       "\n",
       "    .dataframe thead th {\n",
       "        text-align: right;\n",
       "    }\n",
       "</style>\n",
       "<table border=\"1\" class=\"dataframe\">\n",
       "  <thead>\n",
       "    <tr style=\"text-align: right;\">\n",
       "      <th></th>\n",
       "      <th>id</th>\n",
       "      <th>activity_id</th>\n",
       "      <th>athlete_id</th>\n",
       "      <th>name</th>\n",
       "      <th>type</th>\n",
       "      <th>elapsed_time</th>\n",
       "      <th>moving_time</th>\n",
       "      <th>start_date_local</th>\n",
       "      <th>distance</th>\n",
       "      <th>average_cadence</th>\n",
       "      <th>average_watts</th>\n",
       "      <th>average_grade</th>\n",
       "      <th>maximum_grade</th>\n",
       "      <th>climb_category</th>\n",
       "      <th>average_heart_rate</th>\n",
       "      <th>max_heart_rate</th>\n",
       "    </tr>\n",
       "  </thead>\n",
       "  <tbody>\n",
       "    <tr>\n",
       "      <th>0</th>\n",
       "      <td>27180136</td>\n",
       "      <td>4801436758</td>\n",
       "      <td>10944546</td>\n",
       "      <td>Kent Rd Climb to Sprint Banner (Zwift Insider ...</td>\n",
       "      <td>VirtualRide</td>\n",
       "      <td>176</td>\n",
       "      <td>176</td>\n",
       "      <td>2021-02-17 13:36:00+00:00</td>\n",
       "      <td>1137.3</td>\n",
       "      <td>81.4</td>\n",
       "      <td>183.4</td>\n",
       "      <td>2.6</td>\n",
       "      <td>7.0</td>\n",
       "      <td>0</td>\n",
       "      <td>149.4</td>\n",
       "      <td>156.0</td>\n",
       "    </tr>\n",
       "    <tr>\n",
       "      <th>1</th>\n",
       "      <td>21748007</td>\n",
       "      <td>4801436758</td>\n",
       "      <td>10944546</td>\n",
       "      <td>Yorkshire Sprint Reverse</td>\n",
       "      <td>VirtualRide</td>\n",
       "      <td>63</td>\n",
       "      <td>63</td>\n",
       "      <td>2021-02-17 13:37:53+00:00</td>\n",
       "      <td>394.3</td>\n",
       "      <td>79.9</td>\n",
       "      <td>182.9</td>\n",
       "      <td>2.1</td>\n",
       "      <td>5.7</td>\n",
       "      <td>0</td>\n",
       "      <td>153.4</td>\n",
       "      <td>156.0</td>\n",
       "    </tr>\n",
       "    <tr>\n",
       "      <th>2</th>\n",
       "      <td>27207377</td>\n",
       "      <td>4801436758</td>\n",
       "      <td>10944546</td>\n",
       "      <td>Finishing Straightaway (Zwift Insider verified)</td>\n",
       "      <td>VirtualRide</td>\n",
       "      <td>99</td>\n",
       "      <td>99</td>\n",
       "      <td>2021-02-17 13:40:47+00:00</td>\n",
       "      <td>611.1</td>\n",
       "      <td>78.4</td>\n",
       "      <td>192.3</td>\n",
       "      <td>3.3</td>\n",
       "      <td>10.2</td>\n",
       "      <td>0</td>\n",
       "      <td>156.7</td>\n",
       "      <td>162.0</td>\n",
       "    </tr>\n",
       "    <tr>\n",
       "      <th>3</th>\n",
       "      <td>27180001</td>\n",
       "      <td>4801436758</td>\n",
       "      <td>10944546</td>\n",
       "      <td>Otley Rd Climb (Zwift Insider verified)</td>\n",
       "      <td>VirtualRide</td>\n",
       "      <td>285</td>\n",
       "      <td>285</td>\n",
       "      <td>2021-02-17 13:43:02+00:00</td>\n",
       "      <td>1641.6</td>\n",
       "      <td>75.5</td>\n",
       "      <td>204.1</td>\n",
       "      <td>3.4</td>\n",
       "      <td>6.6</td>\n",
       "      <td>0</td>\n",
       "      <td>164.7</td>\n",
       "      <td>172.0</td>\n",
       "    </tr>\n",
       "    <tr>\n",
       "      <th>4</th>\n",
       "      <td>20837686</td>\n",
       "      <td>4801436758</td>\n",
       "      <td>10944546</td>\n",
       "      <td>Beckwithshaw to Penny Pot - Fulgaz</td>\n",
       "      <td>VirtualRide</td>\n",
       "      <td>256</td>\n",
       "      <td>256</td>\n",
       "      <td>2021-02-17 13:51:25+00:00</td>\n",
       "      <td>2323.4</td>\n",
       "      <td>75.5</td>\n",
       "      <td>189.3</td>\n",
       "      <td>-1.1</td>\n",
       "      <td>10.9</td>\n",
       "      <td>0</td>\n",
       "      <td>167.3</td>\n",
       "      <td>177.0</td>\n",
       "    </tr>\n",
       "    <tr>\n",
       "      <th>...</th>\n",
       "      <td>...</td>\n",
       "      <td>...</td>\n",
       "      <td>...</td>\n",
       "      <td>...</td>\n",
       "      <td>...</td>\n",
       "      <td>...</td>\n",
       "      <td>...</td>\n",
       "      <td>...</td>\n",
       "      <td>...</td>\n",
       "      <td>...</td>\n",
       "      <td>...</td>\n",
       "      <td>...</td>\n",
       "      <td>...</td>\n",
       "      <td>...</td>\n",
       "      <td>...</td>\n",
       "      <td>...</td>\n",
       "    </tr>\n",
       "    <tr>\n",
       "      <th>1977</th>\n",
       "      <td>17352629</td>\n",
       "      <td>2162747048</td>\n",
       "      <td>10944546</td>\n",
       "      <td>Alpe du Zwift Bend 7 to 6</td>\n",
       "      <td>VirtualRide</td>\n",
       "      <td>446</td>\n",
       "      <td>446</td>\n",
       "      <td>2019-02-20 14:27:11+00:00</td>\n",
       "      <td>1160.4</td>\n",
       "      <td>79.4</td>\n",
       "      <td>167.7</td>\n",
       "      <td>7.8</td>\n",
       "      <td>12.1</td>\n",
       "      <td>1</td>\n",
       "      <td>NaN</td>\n",
       "      <td>NaN</td>\n",
       "    </tr>\n",
       "    <tr>\n",
       "      <th>1978</th>\n",
       "      <td>17352647</td>\n",
       "      <td>2162747048</td>\n",
       "      <td>10944546</td>\n",
       "      <td>Alpe du Zwift Bend 6 to 5</td>\n",
       "      <td>VirtualRide</td>\n",
       "      <td>181</td>\n",
       "      <td>181</td>\n",
       "      <td>2019-02-20 14:34:37+00:00</td>\n",
       "      <td>522.8</td>\n",
       "      <td>80.4</td>\n",
       "      <td>159.1</td>\n",
       "      <td>6.6</td>\n",
       "      <td>10.3</td>\n",
       "      <td>0</td>\n",
       "      <td>NaN</td>\n",
       "      <td>NaN</td>\n",
       "    </tr>\n",
       "    <tr>\n",
       "      <th>1979</th>\n",
       "      <td>17352657</td>\n",
       "      <td>2162747048</td>\n",
       "      <td>10944546</td>\n",
       "      <td>Alpe du Zwift Bend 5 to 4</td>\n",
       "      <td>VirtualRide</td>\n",
       "      <td>173</td>\n",
       "      <td>173</td>\n",
       "      <td>2019-02-20 14:37:38+00:00</td>\n",
       "      <td>453.9</td>\n",
       "      <td>81.5</td>\n",
       "      <td>181.1</td>\n",
       "      <td>8.5</td>\n",
       "      <td>11.9</td>\n",
       "      <td>0</td>\n",
       "      <td>NaN</td>\n",
       "      <td>NaN</td>\n",
       "    </tr>\n",
       "    <tr>\n",
       "      <th>1980</th>\n",
       "      <td>17352666</td>\n",
       "      <td>2162747048</td>\n",
       "      <td>10944546</td>\n",
       "      <td>Alpe du Zwift Bend 4 to 3</td>\n",
       "      <td>VirtualRide</td>\n",
       "      <td>334</td>\n",
       "      <td>334</td>\n",
       "      <td>2019-02-20 14:40:31+00:00</td>\n",
       "      <td>860.9</td>\n",
       "      <td>76.3</td>\n",
       "      <td>175.9</td>\n",
       "      <td>8.4</td>\n",
       "      <td>14.3</td>\n",
       "      <td>0</td>\n",
       "      <td>NaN</td>\n",
       "      <td>NaN</td>\n",
       "    </tr>\n",
       "    <tr>\n",
       "      <th>1981</th>\n",
       "      <td>17352674</td>\n",
       "      <td>2162747048</td>\n",
       "      <td>10944546</td>\n",
       "      <td>Alpe du Zwift Bend 3 to 2</td>\n",
       "      <td>VirtualRide</td>\n",
       "      <td>172</td>\n",
       "      <td>172</td>\n",
       "      <td>2019-02-20 14:46:05+00:00</td>\n",
       "      <td>417.4</td>\n",
       "      <td>77.5</td>\n",
       "      <td>183.6</td>\n",
       "      <td>9.3</td>\n",
       "      <td>12.3</td>\n",
       "      <td>0</td>\n",
       "      <td>NaN</td>\n",
       "      <td>NaN</td>\n",
       "    </tr>\n",
       "  </tbody>\n",
       "</table>\n",
       "<p>1982 rows × 16 columns</p>\n",
       "</div>"
      ],
      "text/plain": [
       "            id  activity_id  athlete_id  \\\n",
       "0     27180136   4801436758    10944546   \n",
       "1     21748007   4801436758    10944546   \n",
       "2     27207377   4801436758    10944546   \n",
       "3     27180001   4801436758    10944546   \n",
       "4     20837686   4801436758    10944546   \n",
       "...        ...          ...         ...   \n",
       "1977  17352629   2162747048    10944546   \n",
       "1978  17352647   2162747048    10944546   \n",
       "1979  17352657   2162747048    10944546   \n",
       "1980  17352666   2162747048    10944546   \n",
       "1981  17352674   2162747048    10944546   \n",
       "\n",
       "                                                   name         type  \\\n",
       "0     Kent Rd Climb to Sprint Banner (Zwift Insider ...  VirtualRide   \n",
       "1                              Yorkshire Sprint Reverse  VirtualRide   \n",
       "2       Finishing Straightaway (Zwift Insider verified)  VirtualRide   \n",
       "3               Otley Rd Climb (Zwift Insider verified)  VirtualRide   \n",
       "4                    Beckwithshaw to Penny Pot - Fulgaz  VirtualRide   \n",
       "...                                                 ...          ...   \n",
       "1977                          Alpe du Zwift Bend 7 to 6  VirtualRide   \n",
       "1978                          Alpe du Zwift Bend 6 to 5  VirtualRide   \n",
       "1979                          Alpe du Zwift Bend 5 to 4  VirtualRide   \n",
       "1980                          Alpe du Zwift Bend 4 to 3  VirtualRide   \n",
       "1981                          Alpe du Zwift Bend 3 to 2  VirtualRide   \n",
       "\n",
       "      elapsed_time  moving_time          start_date_local  distance  \\\n",
       "0              176          176 2021-02-17 13:36:00+00:00    1137.3   \n",
       "1               63           63 2021-02-17 13:37:53+00:00     394.3   \n",
       "2               99           99 2021-02-17 13:40:47+00:00     611.1   \n",
       "3              285          285 2021-02-17 13:43:02+00:00    1641.6   \n",
       "4              256          256 2021-02-17 13:51:25+00:00    2323.4   \n",
       "...            ...          ...                       ...       ...   \n",
       "1977           446          446 2019-02-20 14:27:11+00:00    1160.4   \n",
       "1978           181          181 2019-02-20 14:34:37+00:00     522.8   \n",
       "1979           173          173 2019-02-20 14:37:38+00:00     453.9   \n",
       "1980           334          334 2019-02-20 14:40:31+00:00     860.9   \n",
       "1981           172          172 2019-02-20 14:46:05+00:00     417.4   \n",
       "\n",
       "      average_cadence  average_watts  average_grade  maximum_grade  \\\n",
       "0                81.4          183.4            2.6            7.0   \n",
       "1                79.9          182.9            2.1            5.7   \n",
       "2                78.4          192.3            3.3           10.2   \n",
       "3                75.5          204.1            3.4            6.6   \n",
       "4                75.5          189.3           -1.1           10.9   \n",
       "...               ...            ...            ...            ...   \n",
       "1977             79.4          167.7            7.8           12.1   \n",
       "1978             80.4          159.1            6.6           10.3   \n",
       "1979             81.5          181.1            8.5           11.9   \n",
       "1980             76.3          175.9            8.4           14.3   \n",
       "1981             77.5          183.6            9.3           12.3   \n",
       "\n",
       "      climb_category  average_heart_rate  max_heart_rate  \n",
       "0                  0               149.4           156.0  \n",
       "1                  0               153.4           156.0  \n",
       "2                  0               156.7           162.0  \n",
       "3                  0               164.7           172.0  \n",
       "4                  0               167.3           177.0  \n",
       "...              ...                 ...             ...  \n",
       "1977               1                 NaN             NaN  \n",
       "1978               0                 NaN             NaN  \n",
       "1979               0                 NaN             NaN  \n",
       "1980               0                 NaN             NaN  \n",
       "1981               0                 NaN             NaN  \n",
       "\n",
       "[1982 rows x 16 columns]"
      ]
     },
     "execution_count": 25,
     "metadata": {},
     "output_type": "execute_result"
    }
   ],
   "source": [
    "segments_df segments_df.reset_index(drop=True)"
   ]
  },
  {
   "cell_type": "markdown",
   "metadata": {},
   "source": [
    "### Vertical Drop Algo"
   ]
  },
  {
   "cell_type": "code",
   "execution_count": null,
   "metadata": {},
   "outputs": [],
   "source": [
    "columns = ['elapsed_time','distance','average_grade']\n",
    "data = segments_df[columns]\n",
    "data.head(5)"
   ]
  },
  {
   "cell_type": "code",
   "execution_count": null,
   "metadata": {},
   "outputs": [],
   "source": [
    "train_set , test_set = train_test_split(data, test_size=0.1, random_state=42)\n",
    "\n",
    "y_train = train_set[\"elapsed_time\"]\n",
    "X_train = train_set.drop(\"elapsed_time\", axis=1)\n",
    "y_test  = test_set[\"elapsed_time\"]\n",
    "X_test = test_set.drop(\"elapsed_time\", axis=1)\n",
    "\n",
    "\n",
    "print(y_train.shape)\n",
    "print(X_train.shape)\n",
    "print(y_test.shape)\n",
    "print(X_test.shape)"
   ]
  },
  {
   "cell_type": "code",
   "execution_count": null,
   "metadata": {},
   "outputs": [],
   "source": [
    "X_train"
   ]
  },
  {
   "cell_type": "code",
   "execution_count": null,
   "metadata": {},
   "outputs": [],
   "source": [
    "sns.displot(y_train)"
   ]
  },
  {
   "cell_type": "code",
   "execution_count": null,
   "metadata": {},
   "outputs": [],
   "source": [
    "sns.displot(np.log(y_train))"
   ]
  },
  {
   "cell_type": "code",
   "execution_count": null,
   "metadata": {},
   "outputs": [],
   "source": [
    "y_train_log = np.log(y_train)\n",
    "y_train_log"
   ]
  },
  {
   "cell_type": "code",
   "execution_count": null,
   "metadata": {},
   "outputs": [],
   "source": [
    "reg = LinearRegression().fit(X_train,y_train_log)\n",
    "y_pred_log = reg.predict(X_test)"
   ]
  },
  {
   "cell_type": "code",
   "execution_count": null,
   "metadata": {},
   "outputs": [],
   "source": [
    "naive_mae = mean_absolute_error(y_test,np.exp(y_pred_log))\n",
    "naive_mape = mean_absolute_percentage_error(y_test, np.exp(y_pred_log))\n",
    "print(f'naive_mae : {naive_mae}')\n",
    "print(f'naive_mape: {naive_mape}')"
   ]
  },
  {
   "cell_type": "code",
   "execution_count": null,
   "metadata": {},
   "outputs": [],
   "source": [
    "query = {\n",
    "    \"query\": {\n",
    "        \"match\": {\n",
    "            \"_id\": 2787335981548134218\n",
    "        }\n",
    "    }\n",
    "}\n",
    "\n",
    "result = database.search(\n",
    "    index=\"index_route\",\n",
    "    size=1000,\n",
    "    body= query\n",
    ")\n",
    "\n",
    "route_alpe = result['hits']['hits'][0]['_source']\n",
    "segments_alpe = route_alpe.get(\"segmentation\")\n",
    "segments_alpe_df = pd.DataFrame(segments_alpe)\n",
    "segments_alpe_df"
   ]
  },
  {
   "cell_type": "code",
   "execution_count": null,
   "metadata": {},
   "outputs": [],
   "source": [
    "segments_alpe_df = segments_alpe_df.rename(columns={'vertical_drop':'average_grade'})\n",
    "segments_alpe_df"
   ]
  },
  {
   "cell_type": "code",
   "execution_count": null,
   "metadata": {},
   "outputs": [],
   "source": [
    "segments_alpe_df[['distance','average_grade']]"
   ]
  },
  {
   "cell_type": "code",
   "execution_count": null,
   "metadata": {},
   "outputs": [],
   "source": [
    "alpe_pred = reg.predict(segments_alpe_df[['distance','average_grade']])\n",
    "elapsed_time = relativedelta(seconds=(np.exp(alpe_pred)).sum())"
   ]
  },
  {
   "cell_type": "code",
   "execution_count": null,
   "metadata": {},
   "outputs": [],
   "source": [
    "hour = int(elapsed_time.hours)\n",
    "minutes = int(elapsed_time.minutes)\n",
    "seconds = int(elapsed_time.seconds)\n",
    "print(f'Prediction {hour}h{minutes}m{seconds}sec')"
   ]
  },
  {
   "cell_type": "code",
   "execution_count": null,
   "metadata": {},
   "outputs": [],
   "source": [
    "np.exp(alpe_pred)"
   ]
  },
  {
   "cell_type": "code",
   "execution_count": null,
   "metadata": {},
   "outputs": [],
   "source": []
  }
 ],
 "metadata": {
  "kernelspec": {
   "display_name": "cycling_travel_time",
   "language": "python",
   "name": "cycling_travel_time"
  },
  "language_info": {
   "codemirror_mode": {
    "name": "ipython",
    "version": 3
   },
   "file_extension": ".py",
   "mimetype": "text/x-python",
   "name": "python",
   "nbconvert_exporter": "python",
   "pygments_lexer": "ipython3",
   "version": "3.6.11"
  }
 },
 "nbformat": 4,
 "nbformat_minor": 4
}
