{
 "cells": [
  {
   "cell_type": "markdown",
   "metadata": {},
   "source": [
    "### Route segmentation \n",
    "\n",
    "Explanation of the segmentation of a route (.gpx format ) in logical segments ( ascent, descent, flat ) "
   ]
  },
  {
   "cell_type": "code",
   "execution_count": 1,
   "metadata": {},
   "outputs": [],
   "source": [
    "import gpxpy\n",
    "import pandas as pd\n",
    "import numpy as np\n",
    "import folium\n",
    "from folium import plugins\n",
    "from pprint import pprint\n",
    "import matplotlib.pyplot as plt\n",
    "from math import radians, cos, sin, asin, sqrt\n",
    "import warnings\n",
    "warnings.filterwarnings('ignore')\n"
   ]
  },
  {
   "cell_type": "code",
   "execution_count": 2,
   "metadata": {},
   "outputs": [],
   "source": [
    "def sign_equal(a, b):\n",
    "    \"\"\"\n",
    "    Compares the two-digit sign and indicates whether they are identical\n",
    "    Takes the 0 as a separate value\n",
    "    ex : sign_equal(0,-5) >>> False\n",
    "    Return True/False\n",
    "    \"\"\"\n",
    "    return np.sign(a) == np.sign(b)"
   ]
  },
  {
   "cell_type": "code",
   "execution_count": 3,
   "metadata": {},
   "outputs": [],
   "source": [
    "def haversine(lon1, lat1, lon2, lat2):\n",
    "    \"\"\"\n",
    "    Calculate the great circle distance between two points \n",
    "    on the earth (specified in decimal degrees)\n",
    "    \"\"\"\n",
    "    # convert decimal degrees to radians \n",
    "    lon1, lat1, lon2, lat2 = map(radians, [lon1, lat1, lon2, lat2])\n",
    "    # haversine formula \n",
    "    dlon = lon2 - lon1 \n",
    "    dlat = lat2 - lat1 \n",
    "    a = sin(dlat/2)**2 + cos(lat1) * cos(lat2) * sin(dlon/2)**2\n",
    "    c = 2 * asin(sqrt(a)) \n",
    "    # Radius of earth in kilometers is 6371\n",
    "    km = 6371* c\n",
    "    m = km * 1000\n",
    "    return m"
   ]
  },
  {
   "cell_type": "code",
   "execution_count": 4,
   "metadata": {},
   "outputs": [],
   "source": [
    "def segmentation(dataframe):\n",
    "        \"\"\"\n",
    "        Takes a dataframe from a .gpx with an altitude_gain column as an input.\n",
    "\n",
    "        altitude_gain for n equals the difference in altitude between n and n-1\n",
    "        Calculation of the logical segments (ascent, flat, descent) as a function of altitude gain.\n",
    "        Compare for each line the altitude gain sign n & n-1.\n",
    "\n",
    "        Same sign, same segment (ex 8 and 5, same ascent segment)\n",
    "        Change of sign change of segment (ex 8 and -5, from a downhill segment to an uphill segment)\n",
    "\n",
    "        Special case for zeros :\n",
    "        if n = 0 et n-1 != 0 : same segment\n",
    "        In case of a succession of zeros ( from two ): flat segment\n",
    "\n",
    "        Returns a dataframe with a segment column\n",
    "        \"\"\"\n",
    "        for i in range(len(dataframe['altitude_gain'])):\n",
    "\n",
    "            # First row starts at segment zero.\n",
    "            if i == 0:\n",
    "                dataframe.loc[i, \"segment\"] = 0\n",
    "\n",
    "            # For all other rows\n",
    "            else:\n",
    "\n",
    "                # if n and n-1 have the same sign\n",
    "                if sign_equal(dataframe.loc[i, \"altitude_gain\"], dataframe.loc[i - 1, \"altitude_gain\"]):\n",
    "\n",
    "                    # In the case where n and n-1 are zero\n",
    "                    if dataframe.loc[i, 'altitude_gain'] == 0 and dataframe.loc[i - 1, 'altitude_gain'] == 0:\n",
    "\n",
    "                        # In case we are on the second line, we cannot check n-2 if n and n-1 = 0.\n",
    "                        if i == 1:\n",
    "                            dataframe.loc[i, \"segment\"] = dataframe.loc[i - 1, \"segment\"]\n",
    "                        else:\n",
    "\n",
    "                            # if n-2 is not equal to zero\n",
    "                            # Flat segment, we want to make a new segment, and change it retrospectively,\n",
    "                            # the segment of n-1 which is no longer a \"alone\" zero anymore\n",
    "                            if dataframe.loc[i - 2, 'altitude_gain'] != 0:\n",
    "                                dataframe.loc[i, \"segment\"] = dataframe.loc[i - 1, \"segment\"] + 1\n",
    "                                dataframe.loc[i - 1, \"segment\"] = dataframe.loc[i - 1, \"segment\"] + 1\n",
    "                            # if n , n-1 , n-2 = 0 , you don't want to change segment\n",
    "                            # succession of zero\n",
    "                            else:\n",
    "                                dataframe.loc[i, \"segment\"] = dataframe.loc[i - 1, \"segment\"]\n",
    "\n",
    "                    # If the same sign without any special case, same segment\n",
    "                    else:\n",
    "                        dataframe.loc[i, \"segment\"] = dataframe.loc[i - 1, \"segment\"]\n",
    "\n",
    "                # If not same sign\n",
    "                else:\n",
    "                    if dataframe.loc[i, 'altitude_gain'] == 0 and dataframe.loc[i - 1, 'altitude_gain'] != 0:\n",
    "                        dataframe.loc[i, \"segment\"] = dataframe.loc[i - 1, \"segment\"]\n",
    "                    # Otherwise we change segment\n",
    "                    else:\n",
    "                        dataframe.loc[i, \"segment\"] = dataframe.loc[i - 1, \"segment\"] + 1\n",
    "        return dataframe"
   ]
  },
  {
   "cell_type": "markdown",
   "metadata": {},
   "source": [
    "#### Gpx Parser\n",
    "\n",
    "the example file represents the mythical ascent of alpe d'huez ( France ) ..."
   ]
  },
  {
   "cell_type": "code",
   "execution_count": 5,
   "metadata": {},
   "outputs": [],
   "source": [
    "gpx_file = \"datas/example.gpx\"\n",
    "parsed_gpx = gpxpy.parse(open(gpx_file))"
   ]
  },
  {
   "cell_type": "code",
   "execution_count": 6,
   "metadata": {},
   "outputs": [],
   "source": [
    "data = [\n",
    "    {\"latitude\": point.latitude, \"longitude\": point.longitude, \"elevation\": point.elevation}\n",
    "    for track in parsed_gpx.tracks\n",
    "    for segment in track.segments\n",
    "    for point in segment.points\n",
    "]"
   ]
  },
  {
   "cell_type": "code",
   "execution_count": 7,
   "metadata": {},
   "outputs": [
    {
     "data": {
      "text/html": [
       "<div>\n",
       "<style scoped>\n",
       "    .dataframe tbody tr th:only-of-type {\n",
       "        vertical-align: middle;\n",
       "    }\n",
       "\n",
       "    .dataframe tbody tr th {\n",
       "        vertical-align: top;\n",
       "    }\n",
       "\n",
       "    .dataframe thead th {\n",
       "        text-align: right;\n",
       "    }\n",
       "</style>\n",
       "<table border=\"1\" class=\"dataframe\">\n",
       "  <thead>\n",
       "    <tr style=\"text-align: right;\">\n",
       "      <th></th>\n",
       "      <th>latitude</th>\n",
       "      <th>longitude</th>\n",
       "      <th>elevation</th>\n",
       "    </tr>\n",
       "  </thead>\n",
       "  <tbody>\n",
       "    <tr>\n",
       "      <th>0</th>\n",
       "      <td>45.054760</td>\n",
       "      <td>6.031770</td>\n",
       "      <td>722.02</td>\n",
       "    </tr>\n",
       "    <tr>\n",
       "      <th>1</th>\n",
       "      <td>45.054750</td>\n",
       "      <td>6.031990</td>\n",
       "      <td>721.97</td>\n",
       "    </tr>\n",
       "    <tr>\n",
       "      <th>2</th>\n",
       "      <td>45.054890</td>\n",
       "      <td>6.032400</td>\n",
       "      <td>721.56</td>\n",
       "    </tr>\n",
       "    <tr>\n",
       "      <th>3</th>\n",
       "      <td>45.055110</td>\n",
       "      <td>6.032760</td>\n",
       "      <td>721.56</td>\n",
       "    </tr>\n",
       "    <tr>\n",
       "      <th>4</th>\n",
       "      <td>45.055505</td>\n",
       "      <td>6.033220</td>\n",
       "      <td>721.31</td>\n",
       "    </tr>\n",
       "    <tr>\n",
       "      <th>5</th>\n",
       "      <td>45.055900</td>\n",
       "      <td>6.033680</td>\n",
       "      <td>721.18</td>\n",
       "    </tr>\n",
       "    <tr>\n",
       "      <th>6</th>\n",
       "      <td>45.056370</td>\n",
       "      <td>6.034200</td>\n",
       "      <td>721.22</td>\n",
       "    </tr>\n",
       "    <tr>\n",
       "      <th>7</th>\n",
       "      <td>45.056840</td>\n",
       "      <td>6.034720</td>\n",
       "      <td>721.69</td>\n",
       "    </tr>\n",
       "    <tr>\n",
       "      <th>8</th>\n",
       "      <td>45.057430</td>\n",
       "      <td>6.035395</td>\n",
       "      <td>723.39</td>\n",
       "    </tr>\n",
       "    <tr>\n",
       "      <th>9</th>\n",
       "      <td>45.058020</td>\n",
       "      <td>6.036070</td>\n",
       "      <td>725.51</td>\n",
       "    </tr>\n",
       "  </tbody>\n",
       "</table>\n",
       "</div>"
      ],
      "text/plain": [
       "    latitude  longitude  elevation\n",
       "0  45.054760   6.031770     722.02\n",
       "1  45.054750   6.031990     721.97\n",
       "2  45.054890   6.032400     721.56\n",
       "3  45.055110   6.032760     721.56\n",
       "4  45.055505   6.033220     721.31\n",
       "5  45.055900   6.033680     721.18\n",
       "6  45.056370   6.034200     721.22\n",
       "7  45.056840   6.034720     721.69\n",
       "8  45.057430   6.035395     723.39\n",
       "9  45.058020   6.036070     725.51"
      ]
     },
     "execution_count": 7,
     "metadata": {},
     "output_type": "execute_result"
    }
   ],
   "source": [
    "df = pd.DataFrame(data)\n",
    "df.head(10)"
   ]
  },
  {
   "cell_type": "code",
   "execution_count": 8,
   "metadata": {},
   "outputs": [
    {
     "data": {
      "text/plain": [
       "(479, 3)"
      ]
     },
     "execution_count": 8,
     "metadata": {},
     "output_type": "execute_result"
    }
   ],
   "source": [
    "df.shape"
   ]
  },
  {
   "cell_type": "code",
   "execution_count": 9,
   "metadata": {},
   "outputs": [
    {
     "data": {
      "text/plain": [
       "latitude     float64\n",
       "longitude    float64\n",
       "elevation    float64\n",
       "dtype: object"
      ]
     },
     "execution_count": 9,
     "metadata": {},
     "output_type": "execute_result"
    }
   ],
   "source": [
    "df.dtypes"
   ]
  },
  {
   "cell_type": "code",
   "execution_count": 10,
   "metadata": {},
   "outputs": [],
   "source": [
    "df['elevation'] = round(df['elevation'],2)"
   ]
  },
  {
   "cell_type": "code",
   "execution_count": 12,
   "metadata": {},
   "outputs": [
    {
     "data": {
      "text/html": [
       "<div>\n",
       "<style scoped>\n",
       "    .dataframe tbody tr th:only-of-type {\n",
       "        vertical-align: middle;\n",
       "    }\n",
       "\n",
       "    .dataframe tbody tr th {\n",
       "        vertical-align: top;\n",
       "    }\n",
       "\n",
       "    .dataframe thead th {\n",
       "        text-align: right;\n",
       "    }\n",
       "</style>\n",
       "<table border=\"1\" class=\"dataframe\">\n",
       "  <thead>\n",
       "    <tr style=\"text-align: right;\">\n",
       "      <th></th>\n",
       "      <th>latitude</th>\n",
       "      <th>longitude</th>\n",
       "      <th>elevation</th>\n",
       "    </tr>\n",
       "  </thead>\n",
       "  <tbody>\n",
       "    <tr>\n",
       "      <th>0</th>\n",
       "      <td>45.054760</td>\n",
       "      <td>6.031770</td>\n",
       "      <td>722.02</td>\n",
       "    </tr>\n",
       "    <tr>\n",
       "      <th>1</th>\n",
       "      <td>45.054750</td>\n",
       "      <td>6.031990</td>\n",
       "      <td>721.97</td>\n",
       "    </tr>\n",
       "    <tr>\n",
       "      <th>2</th>\n",
       "      <td>45.054890</td>\n",
       "      <td>6.032400</td>\n",
       "      <td>721.56</td>\n",
       "    </tr>\n",
       "    <tr>\n",
       "      <th>3</th>\n",
       "      <td>45.055110</td>\n",
       "      <td>6.032760</td>\n",
       "      <td>721.56</td>\n",
       "    </tr>\n",
       "    <tr>\n",
       "      <th>4</th>\n",
       "      <td>45.055505</td>\n",
       "      <td>6.033220</td>\n",
       "      <td>721.31</td>\n",
       "    </tr>\n",
       "    <tr>\n",
       "      <th>5</th>\n",
       "      <td>45.055900</td>\n",
       "      <td>6.033680</td>\n",
       "      <td>721.18</td>\n",
       "    </tr>\n",
       "    <tr>\n",
       "      <th>6</th>\n",
       "      <td>45.056370</td>\n",
       "      <td>6.034200</td>\n",
       "      <td>721.22</td>\n",
       "    </tr>\n",
       "    <tr>\n",
       "      <th>7</th>\n",
       "      <td>45.056840</td>\n",
       "      <td>6.034720</td>\n",
       "      <td>721.69</td>\n",
       "    </tr>\n",
       "    <tr>\n",
       "      <th>8</th>\n",
       "      <td>45.057430</td>\n",
       "      <td>6.035395</td>\n",
       "      <td>723.39</td>\n",
       "    </tr>\n",
       "    <tr>\n",
       "      <th>9</th>\n",
       "      <td>45.058020</td>\n",
       "      <td>6.036070</td>\n",
       "      <td>725.51</td>\n",
       "    </tr>\n",
       "  </tbody>\n",
       "</table>\n",
       "</div>"
      ],
      "text/plain": [
       "    latitude  longitude  elevation\n",
       "0  45.054760   6.031770     722.02\n",
       "1  45.054750   6.031990     721.97\n",
       "2  45.054890   6.032400     721.56\n",
       "3  45.055110   6.032760     721.56\n",
       "4  45.055505   6.033220     721.31\n",
       "5  45.055900   6.033680     721.18\n",
       "6  45.056370   6.034200     721.22\n",
       "7  45.056840   6.034720     721.69\n",
       "8  45.057430   6.035395     723.39\n",
       "9  45.058020   6.036070     725.51"
      ]
     },
     "execution_count": 12,
     "metadata": {},
     "output_type": "execute_result"
    }
   ],
   "source": [
    "df = df.head(10)\n",
    "df"
   ]
  },
  {
   "cell_type": "markdown",
   "metadata": {},
   "source": [
    "#### reduction of the number of points to have slightly \"coarser\" segments \n",
    "\n",
    "reducing the number of points can lead to an erroneous distance calculation (as the crow flies). \n"
   ]
  },
  {
   "cell_type": "code",
   "execution_count": null,
   "metadata": {},
   "outputs": [],
   "source": [
    "# reduced_df = df.iloc[::5, :]\n",
    "# reduced_df = reduced_df.reset_index(drop=True)\n",
    "# reduced_df.head(5)"
   ]
  },
  {
   "cell_type": "code",
   "execution_count": null,
   "metadata": {},
   "outputs": [],
   "source": [
    "# reduced_df.shape"
   ]
  },
  {
   "cell_type": "markdown",
   "metadata": {},
   "source": [
    "### Compute informations Route\n",
    "\n",
    "#### Distance"
   ]
  },
  {
   "cell_type": "code",
   "execution_count": 15,
   "metadata": {},
   "outputs": [
    {
     "data": {
      "text/html": [
       "<div>\n",
       "<style scoped>\n",
       "    .dataframe tbody tr th:only-of-type {\n",
       "        vertical-align: middle;\n",
       "    }\n",
       "\n",
       "    .dataframe tbody tr th {\n",
       "        vertical-align: top;\n",
       "    }\n",
       "\n",
       "    .dataframe thead th {\n",
       "        text-align: right;\n",
       "    }\n",
       "</style>\n",
       "<table border=\"1\" class=\"dataframe\">\n",
       "  <thead>\n",
       "    <tr style=\"text-align: right;\">\n",
       "      <th></th>\n",
       "      <th>latitude</th>\n",
       "      <th>longitude</th>\n",
       "      <th>elevation</th>\n",
       "      <th>distance_to_last_point</th>\n",
       "      <th>total_distance</th>\n",
       "    </tr>\n",
       "  </thead>\n",
       "  <tbody>\n",
       "    <tr>\n",
       "      <th>0</th>\n",
       "      <td>45.054760</td>\n",
       "      <td>6.031770</td>\n",
       "      <td>722.02</td>\n",
       "      <td>0.00</td>\n",
       "      <td>0.00</td>\n",
       "    </tr>\n",
       "    <tr>\n",
       "      <th>1</th>\n",
       "      <td>45.054750</td>\n",
       "      <td>6.031990</td>\n",
       "      <td>721.97</td>\n",
       "      <td>17.32</td>\n",
       "      <td>17.32</td>\n",
       "    </tr>\n",
       "    <tr>\n",
       "      <th>2</th>\n",
       "      <td>45.054890</td>\n",
       "      <td>6.032400</td>\n",
       "      <td>721.56</td>\n",
       "      <td>35.77</td>\n",
       "      <td>53.09</td>\n",
       "    </tr>\n",
       "    <tr>\n",
       "      <th>3</th>\n",
       "      <td>45.055110</td>\n",
       "      <td>6.032760</td>\n",
       "      <td>721.56</td>\n",
       "      <td>37.39</td>\n",
       "      <td>90.48</td>\n",
       "    </tr>\n",
       "    <tr>\n",
       "      <th>4</th>\n",
       "      <td>45.055505</td>\n",
       "      <td>6.033220</td>\n",
       "      <td>721.31</td>\n",
       "      <td>56.87</td>\n",
       "      <td>147.35</td>\n",
       "    </tr>\n",
       "    <tr>\n",
       "      <th>5</th>\n",
       "      <td>45.055900</td>\n",
       "      <td>6.033680</td>\n",
       "      <td>721.18</td>\n",
       "      <td>56.87</td>\n",
       "      <td>204.22</td>\n",
       "    </tr>\n",
       "    <tr>\n",
       "      <th>6</th>\n",
       "      <td>45.056370</td>\n",
       "      <td>6.034200</td>\n",
       "      <td>721.22</td>\n",
       "      <td>66.33</td>\n",
       "      <td>270.55</td>\n",
       "    </tr>\n",
       "    <tr>\n",
       "      <th>7</th>\n",
       "      <td>45.056840</td>\n",
       "      <td>6.034720</td>\n",
       "      <td>721.69</td>\n",
       "      <td>66.33</td>\n",
       "      <td>336.88</td>\n",
       "    </tr>\n",
       "    <tr>\n",
       "      <th>8</th>\n",
       "      <td>45.057430</td>\n",
       "      <td>6.035395</td>\n",
       "      <td>723.39</td>\n",
       "      <td>84.35</td>\n",
       "      <td>421.23</td>\n",
       "    </tr>\n",
       "    <tr>\n",
       "      <th>9</th>\n",
       "      <td>45.058020</td>\n",
       "      <td>6.036070</td>\n",
       "      <td>725.51</td>\n",
       "      <td>84.35</td>\n",
       "      <td>505.58</td>\n",
       "    </tr>\n",
       "  </tbody>\n",
       "</table>\n",
       "</div>"
      ],
      "text/plain": [
       "    latitude  longitude  elevation  distance_to_last_point  total_distance\n",
       "0  45.054760   6.031770     722.02                    0.00            0.00\n",
       "1  45.054750   6.031990     721.97                   17.32           17.32\n",
       "2  45.054890   6.032400     721.56                   35.77           53.09\n",
       "3  45.055110   6.032760     721.56                   37.39           90.48\n",
       "4  45.055505   6.033220     721.31                   56.87          147.35\n",
       "5  45.055900   6.033680     721.18                   56.87          204.22\n",
       "6  45.056370   6.034200     721.22                   66.33          270.55\n",
       "7  45.056840   6.034720     721.69                   66.33          336.88\n",
       "8  45.057430   6.035395     723.39                   84.35          421.23\n",
       "9  45.058020   6.036070     725.51                   84.35          505.58"
      ]
     },
     "execution_count": 15,
     "metadata": {},
     "output_type": "execute_result"
    }
   ],
   "source": [
    "# distance to the last point \n",
    "for i in range(df.shape[0]):\n",
    "    if i == 0:\n",
    "        df.loc[i,\"distance_to_last_point\"] = 0\n",
    "    else:\n",
    "        df.loc[i,\"distance_to_last_point\"] = round(haversine(df['longitude'][i],df['latitude'][i],df['longitude'][i-1],df['latitude'][i-1]),2)\n",
    "\n",
    "df"
   ]
  },
  {
   "cell_type": "code",
   "execution_count": 14,
   "metadata": {},
   "outputs": [
    {
     "data": {
      "text/html": [
       "<div>\n",
       "<style scoped>\n",
       "    .dataframe tbody tr th:only-of-type {\n",
       "        vertical-align: middle;\n",
       "    }\n",
       "\n",
       "    .dataframe tbody tr th {\n",
       "        vertical-align: top;\n",
       "    }\n",
       "\n",
       "    .dataframe thead th {\n",
       "        text-align: right;\n",
       "    }\n",
       "</style>\n",
       "<table border=\"1\" class=\"dataframe\">\n",
       "  <thead>\n",
       "    <tr style=\"text-align: right;\">\n",
       "      <th></th>\n",
       "      <th>latitude</th>\n",
       "      <th>longitude</th>\n",
       "      <th>elevation</th>\n",
       "      <th>distance_to_last_point</th>\n",
       "      <th>total_distance</th>\n",
       "    </tr>\n",
       "  </thead>\n",
       "  <tbody>\n",
       "    <tr>\n",
       "      <th>0</th>\n",
       "      <td>45.054760</td>\n",
       "      <td>6.03177</td>\n",
       "      <td>722.02</td>\n",
       "      <td>0.00</td>\n",
       "      <td>0.00</td>\n",
       "    </tr>\n",
       "    <tr>\n",
       "      <th>1</th>\n",
       "      <td>45.054750</td>\n",
       "      <td>6.03199</td>\n",
       "      <td>721.97</td>\n",
       "      <td>17.32</td>\n",
       "      <td>17.32</td>\n",
       "    </tr>\n",
       "    <tr>\n",
       "      <th>2</th>\n",
       "      <td>45.054890</td>\n",
       "      <td>6.03240</td>\n",
       "      <td>721.56</td>\n",
       "      <td>35.77</td>\n",
       "      <td>53.09</td>\n",
       "    </tr>\n",
       "    <tr>\n",
       "      <th>3</th>\n",
       "      <td>45.055110</td>\n",
       "      <td>6.03276</td>\n",
       "      <td>721.56</td>\n",
       "      <td>37.39</td>\n",
       "      <td>90.48</td>\n",
       "    </tr>\n",
       "    <tr>\n",
       "      <th>4</th>\n",
       "      <td>45.055505</td>\n",
       "      <td>6.03322</td>\n",
       "      <td>721.31</td>\n",
       "      <td>56.87</td>\n",
       "      <td>147.35</td>\n",
       "    </tr>\n",
       "  </tbody>\n",
       "</table>\n",
       "</div>"
      ],
      "text/plain": [
       "    latitude  longitude  elevation  distance_to_last_point  total_distance\n",
       "0  45.054760    6.03177     722.02                    0.00            0.00\n",
       "1  45.054750    6.03199     721.97                   17.32           17.32\n",
       "2  45.054890    6.03240     721.56                   35.77           53.09\n",
       "3  45.055110    6.03276     721.56                   37.39           90.48\n",
       "4  45.055505    6.03322     721.31                   56.87          147.35"
      ]
     },
     "execution_count": 14,
     "metadata": {},
     "output_type": "execute_result"
    }
   ],
   "source": [
    "df['total_distance'] = df['distance_to_last_point'].cumsum()\n",
    "df.head(5)"
   ]
  },
  {
   "cell_type": "markdown",
   "metadata": {},
   "source": [
    "#### Altitude Gain"
   ]
  },
  {
   "cell_type": "code",
   "execution_count": null,
   "metadata": {},
   "outputs": [],
   "source": [
    "altitude_gain = [\n",
    "    round(df['elevation'][i] - df['elevation'][i-1],2) for i in range(df.shape[0]) if i > 0\n",
    "]"
   ]
  },
  {
   "cell_type": "code",
   "execution_count": null,
   "metadata": {
    "scrolled": true
   },
   "outputs": [],
   "source": [
    "altitude_gain.insert(0, np.nan)"
   ]
  },
  {
   "cell_type": "code",
   "execution_count": null,
   "metadata": {},
   "outputs": [],
   "source": [
    "df['altitude_gain'] = altitude_gain\n",
    "df.head(5)"
   ]
  },
  {
   "cell_type": "markdown",
   "metadata": {},
   "source": [
    "#### Visualization"
   ]
  },
  {
   "cell_type": "code",
   "execution_count": null,
   "metadata": {},
   "outputs": [],
   "source": [
    "plt.style.use('dark_background')\n",
    "plt.figure(figsize=(20,10))\n",
    "plt.plot(df['total_distance'],df['elevation'])\n",
    "# plt.plot(df['timestamp'],df['altitude'],markersize=5,linestyle=\"dotted\",linewidth=2)\n",
    "plt.title(\"Alpe d'huez\")\n",
    "plt.show()"
   ]
  },
  {
   "cell_type": "markdown",
   "metadata": {},
   "source": [
    "It looks like the ascent of the Alpe d'huez..."
   ]
  },
  {
   "cell_type": "markdown",
   "metadata": {},
   "source": [
    "#### Segmentation "
   ]
  },
  {
   "cell_type": "code",
   "execution_count": null,
   "metadata": {},
   "outputs": [],
   "source": [
    "# for i in range(df.shape[0]):\n",
    "#     if i == 0 or i == 1:\n",
    "#         df.loc[i,\"segment\"] = 0\n",
    "#     else:\n",
    "#         if not sign_equal(df.loc[i-1,'altitude_gain'], df.loc[i,\"altitude_gain\"]):\n",
    "#             df.loc[i,\"segment\"] = df.loc[i-1,\"segment\"] + 1 \n",
    "#         else:\n",
    "#             df.loc[i,\"segment\"] = df.loc[i-1,\"segment\"]\n",
    "\n",
    "df = segmentation(df)"
   ]
  },
  {
   "cell_type": "code",
   "execution_count": null,
   "metadata": {},
   "outputs": [],
   "source": [
    "df"
   ]
  },
  {
   "cell_type": "code",
   "execution_count": null,
   "metadata": {
    "scrolled": false
   },
   "outputs": [],
   "source": [
    "df_start_end_segments = df.groupby('segment').agg(['first', 'last']).stack()\n",
    "df_start_end_segments"
   ]
  },
  {
   "cell_type": "markdown",
   "metadata": {},
   "source": [
    "### Compute informations Segments"
   ]
  },
  {
   "cell_type": "code",
   "execution_count": null,
   "metadata": {},
   "outputs": [],
   "source": [
    "segments = []\n",
    "for i in range(len(df_start_end_segments.index.levels[0].unique())):\n",
    "    if i == 0 :\n",
    "        total_distance = df_start_end_segments.xs('last', level=1)['total_distance'][i]\n",
    "        altitude_gain = df_start_end_segments.xs('last', level=1)['elevation'][i] - df_start_end_segments.xs('first', level=1)['elevation'][i] \n",
    "    else:\n",
    "        total_distance = df_start_end_segments.xs('last', level=1)['total_distance'][i] - df_start_end_segments.xs('last', level=1)['total_distance'][i-1] \n",
    "        altitude_gain = df_start_end_segments.xs('last', level=1)['elevation'][i] - df_start_end_segments.xs('last', level=1)['elevation'][i-1]\n",
    "    \n",
    "    vertical_drop = (altitude_gain * 100) / total_distance\n",
    "    \n",
    "    segment = {\n",
    "        \"total_distance\": round(total_distance,2),\n",
    "        \"altitude_gain\": round(altitude_gain,2),\n",
    "        \"vertical_drop\": round(vertical_drop,2)\n",
    "    }\n",
    "    segments.append(segment)\n",
    "segments"
   ]
  },
  {
   "cell_type": "code",
   "execution_count": null,
   "metadata": {},
   "outputs": [],
   "source": [
    "segments_df = pd.DataFrame(segments)\n",
    "segments_df"
   ]
  },
  {
   "cell_type": "code",
   "execution_count": null,
   "metadata": {},
   "outputs": [],
   "source": []
  }
 ],
 "metadata": {
  "kernelspec": {
   "display_name": "cycling_travel_time",
   "language": "python",
   "name": "cycling_travel_time"
  },
  "language_info": {
   "codemirror_mode": {
    "name": "ipython",
    "version": 3
   },
   "file_extension": ".py",
   "mimetype": "text/x-python",
   "name": "python",
   "nbconvert_exporter": "python",
   "pygments_lexer": "ipython3",
   "version": "3.6.11"
  }
 },
 "nbformat": 4,
 "nbformat_minor": 4
}
