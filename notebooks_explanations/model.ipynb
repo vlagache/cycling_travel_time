{
 "cells": [
  {
   "cell_type": "code",
   "execution_count": 1,
   "metadata": {},
   "outputs": [],
   "source": [
    "%%capture\n",
    "%run naive_algorithm.ipynb\n",
    "%run features_engineering.ipynb"
   ]
  },
  {
   "cell_type": "code",
   "execution_count": 2,
   "metadata": {},
   "outputs": [],
   "source": [
    "import random \n",
    "import seaborn as sns\n",
    "from datetime import date, timedelta\n",
    "from dateutil.relativedelta import relativedelta\n",
    "\n",
    "import xgboost as xgb\n",
    "from sklearn.linear_model import LinearRegression\n",
    "from sklearn.model_selection import train_test_split\n",
    "from sklearn.metrics import mean_absolute_error, mean_absolute_percentage_error, mean_squared_error"
   ]
  },
  {
   "cell_type": "markdown",
   "metadata": {},
   "source": [
    "## Split Train/Test\n",
    "\n",
    "Probleme de segments dans lequel sont compris d'autres segments , pour eviter de la fuite de données dans le cas ou\n",
    "segment se retrouverais dans le train et une partie de celui ci dans le train : \n",
    "\n",
    "* Calcul de jour calendaire/année de chaque segment\n",
    "* Selection au hasard de certaines dates qui constitueront le test_set , tout le reste dans le train_set\n",
    "* De cette maniere aucun segment réalisé a une meme date ne pourra se retrouver a la fois dans le train et le test\n"
   ]
  },
  {
   "cell_type": "code",
   "execution_count": 3,
   "metadata": {},
   "outputs": [
    {
     "data": {
      "text/html": [
       "<div>\n",
       "<style scoped>\n",
       "    .dataframe tbody tr th:only-of-type {\n",
       "        vertical-align: middle;\n",
       "    }\n",
       "\n",
       "    .dataframe tbody tr th {\n",
       "        vertical-align: top;\n",
       "    }\n",
       "\n",
       "    .dataframe thead th {\n",
       "        text-align: right;\n",
       "    }\n",
       "</style>\n",
       "<table border=\"1\" class=\"dataframe\">\n",
       "  <thead>\n",
       "    <tr style=\"text-align: right;\">\n",
       "      <th></th>\n",
       "      <th>id</th>\n",
       "      <th>activity_id</th>\n",
       "      <th>athlete_id</th>\n",
       "      <th>name</th>\n",
       "      <th>type</th>\n",
       "      <th>elapsed_time</th>\n",
       "      <th>moving_time</th>\n",
       "      <th>distance</th>\n",
       "      <th>average_cadence</th>\n",
       "      <th>average_watts</th>\n",
       "      <th>average_grade</th>\n",
       "      <th>maximum_grade</th>\n",
       "      <th>climb_category</th>\n",
       "      <th>average_heart_rate</th>\n",
       "      <th>max_heart_rate</th>\n",
       "      <th>start_time</th>\n",
       "      <th>start_date</th>\n",
       "      <th>nb_activities_last_30d</th>\n",
       "    </tr>\n",
       "  </thead>\n",
       "  <tbody>\n",
       "    <tr>\n",
       "      <th>0</th>\n",
       "      <td>24674235</td>\n",
       "      <td>4831255939</td>\n",
       "      <td>10944546</td>\n",
       "      <td>Champs-Élysées</td>\n",
       "      <td>VirtualRide</td>\n",
       "      <td>653</td>\n",
       "      <td>653</td>\n",
       "      <td>6623.100</td>\n",
       "      <td>82.3</td>\n",
       "      <td>202.8</td>\n",
       "      <td>0.0</td>\n",
       "      <td>4.6</td>\n",
       "      <td>0</td>\n",
       "      <td>161.2</td>\n",
       "      <td>170.0</td>\n",
       "      <td>18:46:25</td>\n",
       "      <td>2021-02-22</td>\n",
       "      <td>6</td>\n",
       "    </tr>\n",
       "    <tr>\n",
       "      <th>1</th>\n",
       "      <td>27141377</td>\n",
       "      <td>4831057316</td>\n",
       "      <td>10944546</td>\n",
       "      <td>Epic KOM - Start to Bypass Intersection (Zwift...</td>\n",
       "      <td>VirtualRide</td>\n",
       "      <td>424</td>\n",
       "      <td>424</td>\n",
       "      <td>1882.500</td>\n",
       "      <td>77.3</td>\n",
       "      <td>201.2</td>\n",
       "      <td>3.8</td>\n",
       "      <td>47.8</td>\n",
       "      <td>0</td>\n",
       "      <td>157.9</td>\n",
       "      <td>164.0</td>\n",
       "      <td>18:19:40</td>\n",
       "      <td>2021-02-22</td>\n",
       "      <td>6</td>\n",
       "    </tr>\n",
       "    <tr>\n",
       "      <th>2</th>\n",
       "      <td>22501195</td>\n",
       "      <td>4818094466</td>\n",
       "      <td>10944546</td>\n",
       "      <td>Villenave-Technopole</td>\n",
       "      <td>Ride</td>\n",
       "      <td>789</td>\n",
       "      <td>789</td>\n",
       "      <td>5100.500</td>\n",
       "      <td>NaN</td>\n",
       "      <td>108.0</td>\n",
       "      <td>0.5</td>\n",
       "      <td>6.4</td>\n",
       "      <td>0</td>\n",
       "      <td>169.0</td>\n",
       "      <td>184.0</td>\n",
       "      <td>14:39:32</td>\n",
       "      <td>2021-02-20</td>\n",
       "      <td>6</td>\n",
       "    </tr>\n",
       "    <tr>\n",
       "      <th>3</th>\n",
       "      <td>3566434</td>\n",
       "      <td>4818094466</td>\n",
       "      <td>10944546</td>\n",
       "      <td>Col du Chateau d'eau</td>\n",
       "      <td>Ride</td>\n",
       "      <td>217</td>\n",
       "      <td>217</td>\n",
       "      <td>1190.370</td>\n",
       "      <td>NaN</td>\n",
       "      <td>141.8</td>\n",
       "      <td>2.1</td>\n",
       "      <td>7.3</td>\n",
       "      <td>0</td>\n",
       "      <td>170.7</td>\n",
       "      <td>183.0</td>\n",
       "      <td>14:40:47</td>\n",
       "      <td>2021-02-20</td>\n",
       "      <td>6</td>\n",
       "    </tr>\n",
       "    <tr>\n",
       "      <th>4</th>\n",
       "      <td>20598228</td>\n",
       "      <td>4818094466</td>\n",
       "      <td>10944546</td>\n",
       "      <td>Col du chateau d'eau court</td>\n",
       "      <td>Ride</td>\n",
       "      <td>151</td>\n",
       "      <td>151</td>\n",
       "      <td>745.400</td>\n",
       "      <td>NaN</td>\n",
       "      <td>165.4</td>\n",
       "      <td>2.8</td>\n",
       "      <td>5.5</td>\n",
       "      <td>0</td>\n",
       "      <td>177.5</td>\n",
       "      <td>183.0</td>\n",
       "      <td>14:42:02</td>\n",
       "      <td>2021-02-20</td>\n",
       "      <td>6</td>\n",
       "    </tr>\n",
       "    <tr>\n",
       "      <th>...</th>\n",
       "      <td>...</td>\n",
       "      <td>...</td>\n",
       "      <td>...</td>\n",
       "      <td>...</td>\n",
       "      <td>...</td>\n",
       "      <td>...</td>\n",
       "      <td>...</td>\n",
       "      <td>...</td>\n",
       "      <td>...</td>\n",
       "      <td>...</td>\n",
       "      <td>...</td>\n",
       "      <td>...</td>\n",
       "      <td>...</td>\n",
       "      <td>...</td>\n",
       "      <td>...</td>\n",
       "      <td>...</td>\n",
       "      <td>...</td>\n",
       "      <td>...</td>\n",
       "    </tr>\n",
       "    <tr>\n",
       "      <th>1935</th>\n",
       "      <td>17782861</td>\n",
       "      <td>1597380847</td>\n",
       "      <td>10944546</td>\n",
       "      <td>RadarStadeMartillac</td>\n",
       "      <td>Ride</td>\n",
       "      <td>40</td>\n",
       "      <td>40</td>\n",
       "      <td>303.400</td>\n",
       "      <td>NaN</td>\n",
       "      <td>189.4</td>\n",
       "      <td>1.4</td>\n",
       "      <td>1.6</td>\n",
       "      <td>0</td>\n",
       "      <td>176.8</td>\n",
       "      <td>182.0</td>\n",
       "      <td>12:42:52</td>\n",
       "      <td>2018-05-26</td>\n",
       "      <td>0</td>\n",
       "    </tr>\n",
       "    <tr>\n",
       "      <th>1936</th>\n",
       "      <td>3654728</td>\n",
       "      <td>1597380847</td>\n",
       "      <td>10944546</td>\n",
       "      <td>Faux plat chemin de Rochemorin</td>\n",
       "      <td>Ride</td>\n",
       "      <td>90</td>\n",
       "      <td>90</td>\n",
       "      <td>541.374</td>\n",
       "      <td>NaN</td>\n",
       "      <td>158.9</td>\n",
       "      <td>2.0</td>\n",
       "      <td>5.5</td>\n",
       "      <td>0</td>\n",
       "      <td>183.6</td>\n",
       "      <td>188.0</td>\n",
       "      <td>12:47:30</td>\n",
       "      <td>2018-05-26</td>\n",
       "      <td>0</td>\n",
       "    </tr>\n",
       "    <tr>\n",
       "      <th>1937</th>\n",
       "      <td>3752963</td>\n",
       "      <td>1597380847</td>\n",
       "      <td>10944546</td>\n",
       "      <td>Imitationberg</td>\n",
       "      <td>Ride</td>\n",
       "      <td>141</td>\n",
       "      <td>141</td>\n",
       "      <td>872.000</td>\n",
       "      <td>NaN</td>\n",
       "      <td>82.3</td>\n",
       "      <td>-0.0</td>\n",
       "      <td>5.6</td>\n",
       "      <td>0</td>\n",
       "      <td>168.2</td>\n",
       "      <td>184.0</td>\n",
       "      <td>12:53:34</td>\n",
       "      <td>2018-05-26</td>\n",
       "      <td>0</td>\n",
       "    </tr>\n",
       "    <tr>\n",
       "      <th>1938</th>\n",
       "      <td>14775448</td>\n",
       "      <td>1597380847</td>\n",
       "      <td>10944546</td>\n",
       "      <td>Château Vignau - Chemin de Couhins</td>\n",
       "      <td>Ride</td>\n",
       "      <td>226</td>\n",
       "      <td>226</td>\n",
       "      <td>1431.800</td>\n",
       "      <td>NaN</td>\n",
       "      <td>84.4</td>\n",
       "      <td>-0.6</td>\n",
       "      <td>21.7</td>\n",
       "      <td>0</td>\n",
       "      <td>155.2</td>\n",
       "      <td>186.0</td>\n",
       "      <td>12:56:14</td>\n",
       "      <td>2018-05-26</td>\n",
       "      <td>0</td>\n",
       "    </tr>\n",
       "    <tr>\n",
       "      <th>1939</th>\n",
       "      <td>3997309</td>\n",
       "      <td>1597380847</td>\n",
       "      <td>10944546</td>\n",
       "      <td>CouhinsBerg</td>\n",
       "      <td>Ride</td>\n",
       "      <td>55</td>\n",
       "      <td>55</td>\n",
       "      <td>278.000</td>\n",
       "      <td>NaN</td>\n",
       "      <td>235.7</td>\n",
       "      <td>4.7</td>\n",
       "      <td>6.1</td>\n",
       "      <td>0</td>\n",
       "      <td>174.9</td>\n",
       "      <td>186.0</td>\n",
       "      <td>12:58:59</td>\n",
       "      <td>2018-05-26</td>\n",
       "      <td>0</td>\n",
       "    </tr>\n",
       "  </tbody>\n",
       "</table>\n",
       "<p>1940 rows × 18 columns</p>\n",
       "</div>"
      ],
      "text/plain": [
       "            id  activity_id  athlete_id  \\\n",
       "0     24674235   4831255939    10944546   \n",
       "1     27141377   4831057316    10944546   \n",
       "2     22501195   4818094466    10944546   \n",
       "3      3566434   4818094466    10944546   \n",
       "4     20598228   4818094466    10944546   \n",
       "...        ...          ...         ...   \n",
       "1935  17782861   1597380847    10944546   \n",
       "1936   3654728   1597380847    10944546   \n",
       "1937   3752963   1597380847    10944546   \n",
       "1938  14775448   1597380847    10944546   \n",
       "1939   3997309   1597380847    10944546   \n",
       "\n",
       "                                                   name         type  \\\n",
       "0                                        Champs-Élysées  VirtualRide   \n",
       "1     Epic KOM - Start to Bypass Intersection (Zwift...  VirtualRide   \n",
       "2                                 Villenave-Technopole          Ride   \n",
       "3                                  Col du Chateau d'eau         Ride   \n",
       "4                            Col du chateau d'eau court         Ride   \n",
       "...                                                 ...          ...   \n",
       "1935                                RadarStadeMartillac         Ride   \n",
       "1936                     Faux plat chemin de Rochemorin         Ride   \n",
       "1937                                      Imitationberg         Ride   \n",
       "1938                 Château Vignau - Chemin de Couhins         Ride   \n",
       "1939                                        CouhinsBerg         Ride   \n",
       "\n",
       "      elapsed_time  moving_time  distance  average_cadence  average_watts  \\\n",
       "0              653          653  6623.100             82.3          202.8   \n",
       "1              424          424  1882.500             77.3          201.2   \n",
       "2              789          789  5100.500              NaN          108.0   \n",
       "3              217          217  1190.370              NaN          141.8   \n",
       "4              151          151   745.400              NaN          165.4   \n",
       "...            ...          ...       ...              ...            ...   \n",
       "1935            40           40   303.400              NaN          189.4   \n",
       "1936            90           90   541.374              NaN          158.9   \n",
       "1937           141          141   872.000              NaN           82.3   \n",
       "1938           226          226  1431.800              NaN           84.4   \n",
       "1939            55           55   278.000              NaN          235.7   \n",
       "\n",
       "      average_grade  maximum_grade  climb_category  average_heart_rate  \\\n",
       "0               0.0            4.6               0               161.2   \n",
       "1               3.8           47.8               0               157.9   \n",
       "2               0.5            6.4               0               169.0   \n",
       "3               2.1            7.3               0               170.7   \n",
       "4               2.8            5.5               0               177.5   \n",
       "...             ...            ...             ...                 ...   \n",
       "1935            1.4            1.6               0               176.8   \n",
       "1936            2.0            5.5               0               183.6   \n",
       "1937           -0.0            5.6               0               168.2   \n",
       "1938           -0.6           21.7               0               155.2   \n",
       "1939            4.7            6.1               0               174.9   \n",
       "\n",
       "      max_heart_rate start_time  start_date  nb_activities_last_30d  \n",
       "0              170.0   18:46:25  2021-02-22                       6  \n",
       "1              164.0   18:19:40  2021-02-22                       6  \n",
       "2              184.0   14:39:32  2021-02-20                       6  \n",
       "3              183.0   14:40:47  2021-02-20                       6  \n",
       "4              183.0   14:42:02  2021-02-20                       6  \n",
       "...              ...        ...         ...                     ...  \n",
       "1935           182.0   12:42:52  2018-05-26                       0  \n",
       "1936           188.0   12:47:30  2018-05-26                       0  \n",
       "1937           184.0   12:53:34  2018-05-26                       0  \n",
       "1938           186.0   12:56:14  2018-05-26                       0  \n",
       "1939           186.0   12:58:59  2018-05-26                       0  \n",
       "\n",
       "[1940 rows x 18 columns]"
      ]
     },
     "execution_count": 3,
     "metadata": {},
     "output_type": "execute_result"
    }
   ],
   "source": [
    "segments_df"
   ]
  },
  {
   "cell_type": "code",
   "execution_count": 4,
   "metadata": {},
   "outputs": [],
   "source": [
    "calendar_days = []\n",
    "for date in segments_df['start_date']:\n",
    "    calendar_day = date.strftime('%j%Y')\n",
    "    calendar_days.append(calendar_day)\n",
    "\n",
    "segments_df['calendar_day'] = calendar_days"
   ]
  },
  {
   "cell_type": "code",
   "execution_count": 5,
   "metadata": {},
   "outputs": [],
   "source": [
    "dates = segments_df['calendar_day'].unique()"
   ]
  },
  {
   "cell_type": "code",
   "execution_count": 6,
   "metadata": {},
   "outputs": [],
   "source": [
    "dates = dates.tolist()"
   ]
  },
  {
   "cell_type": "code",
   "execution_count": 7,
   "metadata": {},
   "outputs": [
    {
     "data": {
      "text/plain": [
       "20.0"
      ]
     },
     "execution_count": 7,
     "metadata": {},
     "output_type": "execute_result"
    }
   ],
   "source": [
    "ratio_train_test = len(dates) * 0.1\n",
    "ratio_train_test"
   ]
  },
  {
   "cell_type": "code",
   "execution_count": 8,
   "metadata": {},
   "outputs": [],
   "source": [
    "random.seed(42)\n",
    "dates_test_set = random.sample(dates,int(ratio_train_test))"
   ]
  },
  {
   "cell_type": "code",
   "execution_count": 9,
   "metadata": {},
   "outputs": [
    {
     "data": {
      "text/plain": [
       "(169, 19)"
      ]
     },
     "execution_count": 9,
     "metadata": {},
     "output_type": "execute_result"
    }
   ],
   "source": [
    "test_set = segments_df[segments_df['calendar_day'].isin(dates_test_set)]\n",
    "test_set.shape"
   ]
  },
  {
   "cell_type": "code",
   "execution_count": 10,
   "metadata": {},
   "outputs": [
    {
     "data": {
      "text/plain": [
       "Int64Index([  67,   68,   69,   70,   71,   72,   73,   74,   75,   76,\n",
       "            ...\n",
       "            1593, 1594, 1595, 1596, 1679, 1699, 1778, 1779, 1780, 1781],\n",
       "           dtype='int64', length=169)"
      ]
     },
     "execution_count": 10,
     "metadata": {},
     "output_type": "execute_result"
    }
   ],
   "source": [
    "test_set_index = test_set.index\n",
    "test_set_index"
   ]
  },
  {
   "cell_type": "code",
   "execution_count": 11,
   "metadata": {},
   "outputs": [
    {
     "data": {
      "text/html": [
       "<div>\n",
       "<style scoped>\n",
       "    .dataframe tbody tr th:only-of-type {\n",
       "        vertical-align: middle;\n",
       "    }\n",
       "\n",
       "    .dataframe tbody tr th {\n",
       "        vertical-align: top;\n",
       "    }\n",
       "\n",
       "    .dataframe thead th {\n",
       "        text-align: right;\n",
       "    }\n",
       "</style>\n",
       "<table border=\"1\" class=\"dataframe\">\n",
       "  <thead>\n",
       "    <tr style=\"text-align: right;\">\n",
       "      <th></th>\n",
       "      <th>id</th>\n",
       "      <th>activity_id</th>\n",
       "      <th>athlete_id</th>\n",
       "      <th>name</th>\n",
       "      <th>type</th>\n",
       "      <th>elapsed_time</th>\n",
       "      <th>moving_time</th>\n",
       "      <th>distance</th>\n",
       "      <th>average_cadence</th>\n",
       "      <th>average_watts</th>\n",
       "      <th>average_grade</th>\n",
       "      <th>maximum_grade</th>\n",
       "      <th>climb_category</th>\n",
       "      <th>average_heart_rate</th>\n",
       "      <th>max_heart_rate</th>\n",
       "      <th>start_time</th>\n",
       "      <th>start_date</th>\n",
       "      <th>nb_activities_last_30d</th>\n",
       "      <th>calendar_day</th>\n",
       "    </tr>\n",
       "  </thead>\n",
       "  <tbody>\n",
       "    <tr>\n",
       "      <th>0</th>\n",
       "      <td>24674235</td>\n",
       "      <td>4831255939</td>\n",
       "      <td>10944546</td>\n",
       "      <td>Champs-Élysées</td>\n",
       "      <td>VirtualRide</td>\n",
       "      <td>653</td>\n",
       "      <td>653</td>\n",
       "      <td>6623.100</td>\n",
       "      <td>82.3</td>\n",
       "      <td>202.8</td>\n",
       "      <td>0.0</td>\n",
       "      <td>4.6</td>\n",
       "      <td>0</td>\n",
       "      <td>161.2</td>\n",
       "      <td>170.0</td>\n",
       "      <td>18:46:25</td>\n",
       "      <td>2021-02-22</td>\n",
       "      <td>6</td>\n",
       "      <td>0532021</td>\n",
       "    </tr>\n",
       "    <tr>\n",
       "      <th>1</th>\n",
       "      <td>27141377</td>\n",
       "      <td>4831057316</td>\n",
       "      <td>10944546</td>\n",
       "      <td>Epic KOM - Start to Bypass Intersection (Zwift...</td>\n",
       "      <td>VirtualRide</td>\n",
       "      <td>424</td>\n",
       "      <td>424</td>\n",
       "      <td>1882.500</td>\n",
       "      <td>77.3</td>\n",
       "      <td>201.2</td>\n",
       "      <td>3.8</td>\n",
       "      <td>47.8</td>\n",
       "      <td>0</td>\n",
       "      <td>157.9</td>\n",
       "      <td>164.0</td>\n",
       "      <td>18:19:40</td>\n",
       "      <td>2021-02-22</td>\n",
       "      <td>6</td>\n",
       "      <td>0532021</td>\n",
       "    </tr>\n",
       "    <tr>\n",
       "      <th>2</th>\n",
       "      <td>22501195</td>\n",
       "      <td>4818094466</td>\n",
       "      <td>10944546</td>\n",
       "      <td>Villenave-Technopole</td>\n",
       "      <td>Ride</td>\n",
       "      <td>789</td>\n",
       "      <td>789</td>\n",
       "      <td>5100.500</td>\n",
       "      <td>NaN</td>\n",
       "      <td>108.0</td>\n",
       "      <td>0.5</td>\n",
       "      <td>6.4</td>\n",
       "      <td>0</td>\n",
       "      <td>169.0</td>\n",
       "      <td>184.0</td>\n",
       "      <td>14:39:32</td>\n",
       "      <td>2021-02-20</td>\n",
       "      <td>6</td>\n",
       "      <td>0512021</td>\n",
       "    </tr>\n",
       "    <tr>\n",
       "      <th>3</th>\n",
       "      <td>3566434</td>\n",
       "      <td>4818094466</td>\n",
       "      <td>10944546</td>\n",
       "      <td>Col du Chateau d'eau</td>\n",
       "      <td>Ride</td>\n",
       "      <td>217</td>\n",
       "      <td>217</td>\n",
       "      <td>1190.370</td>\n",
       "      <td>NaN</td>\n",
       "      <td>141.8</td>\n",
       "      <td>2.1</td>\n",
       "      <td>7.3</td>\n",
       "      <td>0</td>\n",
       "      <td>170.7</td>\n",
       "      <td>183.0</td>\n",
       "      <td>14:40:47</td>\n",
       "      <td>2021-02-20</td>\n",
       "      <td>6</td>\n",
       "      <td>0512021</td>\n",
       "    </tr>\n",
       "    <tr>\n",
       "      <th>4</th>\n",
       "      <td>20598228</td>\n",
       "      <td>4818094466</td>\n",
       "      <td>10944546</td>\n",
       "      <td>Col du chateau d'eau court</td>\n",
       "      <td>Ride</td>\n",
       "      <td>151</td>\n",
       "      <td>151</td>\n",
       "      <td>745.400</td>\n",
       "      <td>NaN</td>\n",
       "      <td>165.4</td>\n",
       "      <td>2.8</td>\n",
       "      <td>5.5</td>\n",
       "      <td>0</td>\n",
       "      <td>177.5</td>\n",
       "      <td>183.0</td>\n",
       "      <td>14:42:02</td>\n",
       "      <td>2021-02-20</td>\n",
       "      <td>6</td>\n",
       "      <td>0512021</td>\n",
       "    </tr>\n",
       "    <tr>\n",
       "      <th>...</th>\n",
       "      <td>...</td>\n",
       "      <td>...</td>\n",
       "      <td>...</td>\n",
       "      <td>...</td>\n",
       "      <td>...</td>\n",
       "      <td>...</td>\n",
       "      <td>...</td>\n",
       "      <td>...</td>\n",
       "      <td>...</td>\n",
       "      <td>...</td>\n",
       "      <td>...</td>\n",
       "      <td>...</td>\n",
       "      <td>...</td>\n",
       "      <td>...</td>\n",
       "      <td>...</td>\n",
       "      <td>...</td>\n",
       "      <td>...</td>\n",
       "      <td>...</td>\n",
       "      <td>...</td>\n",
       "    </tr>\n",
       "    <tr>\n",
       "      <th>1935</th>\n",
       "      <td>17782861</td>\n",
       "      <td>1597380847</td>\n",
       "      <td>10944546</td>\n",
       "      <td>RadarStadeMartillac</td>\n",
       "      <td>Ride</td>\n",
       "      <td>40</td>\n",
       "      <td>40</td>\n",
       "      <td>303.400</td>\n",
       "      <td>NaN</td>\n",
       "      <td>189.4</td>\n",
       "      <td>1.4</td>\n",
       "      <td>1.6</td>\n",
       "      <td>0</td>\n",
       "      <td>176.8</td>\n",
       "      <td>182.0</td>\n",
       "      <td>12:42:52</td>\n",
       "      <td>2018-05-26</td>\n",
       "      <td>0</td>\n",
       "      <td>1462018</td>\n",
       "    </tr>\n",
       "    <tr>\n",
       "      <th>1936</th>\n",
       "      <td>3654728</td>\n",
       "      <td>1597380847</td>\n",
       "      <td>10944546</td>\n",
       "      <td>Faux plat chemin de Rochemorin</td>\n",
       "      <td>Ride</td>\n",
       "      <td>90</td>\n",
       "      <td>90</td>\n",
       "      <td>541.374</td>\n",
       "      <td>NaN</td>\n",
       "      <td>158.9</td>\n",
       "      <td>2.0</td>\n",
       "      <td>5.5</td>\n",
       "      <td>0</td>\n",
       "      <td>183.6</td>\n",
       "      <td>188.0</td>\n",
       "      <td>12:47:30</td>\n",
       "      <td>2018-05-26</td>\n",
       "      <td>0</td>\n",
       "      <td>1462018</td>\n",
       "    </tr>\n",
       "    <tr>\n",
       "      <th>1937</th>\n",
       "      <td>3752963</td>\n",
       "      <td>1597380847</td>\n",
       "      <td>10944546</td>\n",
       "      <td>Imitationberg</td>\n",
       "      <td>Ride</td>\n",
       "      <td>141</td>\n",
       "      <td>141</td>\n",
       "      <td>872.000</td>\n",
       "      <td>NaN</td>\n",
       "      <td>82.3</td>\n",
       "      <td>-0.0</td>\n",
       "      <td>5.6</td>\n",
       "      <td>0</td>\n",
       "      <td>168.2</td>\n",
       "      <td>184.0</td>\n",
       "      <td>12:53:34</td>\n",
       "      <td>2018-05-26</td>\n",
       "      <td>0</td>\n",
       "      <td>1462018</td>\n",
       "    </tr>\n",
       "    <tr>\n",
       "      <th>1938</th>\n",
       "      <td>14775448</td>\n",
       "      <td>1597380847</td>\n",
       "      <td>10944546</td>\n",
       "      <td>Château Vignau - Chemin de Couhins</td>\n",
       "      <td>Ride</td>\n",
       "      <td>226</td>\n",
       "      <td>226</td>\n",
       "      <td>1431.800</td>\n",
       "      <td>NaN</td>\n",
       "      <td>84.4</td>\n",
       "      <td>-0.6</td>\n",
       "      <td>21.7</td>\n",
       "      <td>0</td>\n",
       "      <td>155.2</td>\n",
       "      <td>186.0</td>\n",
       "      <td>12:56:14</td>\n",
       "      <td>2018-05-26</td>\n",
       "      <td>0</td>\n",
       "      <td>1462018</td>\n",
       "    </tr>\n",
       "    <tr>\n",
       "      <th>1939</th>\n",
       "      <td>3997309</td>\n",
       "      <td>1597380847</td>\n",
       "      <td>10944546</td>\n",
       "      <td>CouhinsBerg</td>\n",
       "      <td>Ride</td>\n",
       "      <td>55</td>\n",
       "      <td>55</td>\n",
       "      <td>278.000</td>\n",
       "      <td>NaN</td>\n",
       "      <td>235.7</td>\n",
       "      <td>4.7</td>\n",
       "      <td>6.1</td>\n",
       "      <td>0</td>\n",
       "      <td>174.9</td>\n",
       "      <td>186.0</td>\n",
       "      <td>12:58:59</td>\n",
       "      <td>2018-05-26</td>\n",
       "      <td>0</td>\n",
       "      <td>1462018</td>\n",
       "    </tr>\n",
       "  </tbody>\n",
       "</table>\n",
       "<p>1771 rows × 19 columns</p>\n",
       "</div>"
      ],
      "text/plain": [
       "            id  activity_id  athlete_id  \\\n",
       "0     24674235   4831255939    10944546   \n",
       "1     27141377   4831057316    10944546   \n",
       "2     22501195   4818094466    10944546   \n",
       "3      3566434   4818094466    10944546   \n",
       "4     20598228   4818094466    10944546   \n",
       "...        ...          ...         ...   \n",
       "1935  17782861   1597380847    10944546   \n",
       "1936   3654728   1597380847    10944546   \n",
       "1937   3752963   1597380847    10944546   \n",
       "1938  14775448   1597380847    10944546   \n",
       "1939   3997309   1597380847    10944546   \n",
       "\n",
       "                                                   name         type  \\\n",
       "0                                        Champs-Élysées  VirtualRide   \n",
       "1     Epic KOM - Start to Bypass Intersection (Zwift...  VirtualRide   \n",
       "2                                 Villenave-Technopole          Ride   \n",
       "3                                  Col du Chateau d'eau         Ride   \n",
       "4                            Col du chateau d'eau court         Ride   \n",
       "...                                                 ...          ...   \n",
       "1935                                RadarStadeMartillac         Ride   \n",
       "1936                     Faux plat chemin de Rochemorin         Ride   \n",
       "1937                                      Imitationberg         Ride   \n",
       "1938                 Château Vignau - Chemin de Couhins         Ride   \n",
       "1939                                        CouhinsBerg         Ride   \n",
       "\n",
       "      elapsed_time  moving_time  distance  average_cadence  average_watts  \\\n",
       "0              653          653  6623.100             82.3          202.8   \n",
       "1              424          424  1882.500             77.3          201.2   \n",
       "2              789          789  5100.500              NaN          108.0   \n",
       "3              217          217  1190.370              NaN          141.8   \n",
       "4              151          151   745.400              NaN          165.4   \n",
       "...            ...          ...       ...              ...            ...   \n",
       "1935            40           40   303.400              NaN          189.4   \n",
       "1936            90           90   541.374              NaN          158.9   \n",
       "1937           141          141   872.000              NaN           82.3   \n",
       "1938           226          226  1431.800              NaN           84.4   \n",
       "1939            55           55   278.000              NaN          235.7   \n",
       "\n",
       "      average_grade  maximum_grade  climb_category  average_heart_rate  \\\n",
       "0               0.0            4.6               0               161.2   \n",
       "1               3.8           47.8               0               157.9   \n",
       "2               0.5            6.4               0               169.0   \n",
       "3               2.1            7.3               0               170.7   \n",
       "4               2.8            5.5               0               177.5   \n",
       "...             ...            ...             ...                 ...   \n",
       "1935            1.4            1.6               0               176.8   \n",
       "1936            2.0            5.5               0               183.6   \n",
       "1937           -0.0            5.6               0               168.2   \n",
       "1938           -0.6           21.7               0               155.2   \n",
       "1939            4.7            6.1               0               174.9   \n",
       "\n",
       "      max_heart_rate start_time  start_date  nb_activities_last_30d  \\\n",
       "0              170.0   18:46:25  2021-02-22                       6   \n",
       "1              164.0   18:19:40  2021-02-22                       6   \n",
       "2              184.0   14:39:32  2021-02-20                       6   \n",
       "3              183.0   14:40:47  2021-02-20                       6   \n",
       "4              183.0   14:42:02  2021-02-20                       6   \n",
       "...              ...        ...         ...                     ...   \n",
       "1935           182.0   12:42:52  2018-05-26                       0   \n",
       "1936           188.0   12:47:30  2018-05-26                       0   \n",
       "1937           184.0   12:53:34  2018-05-26                       0   \n",
       "1938           186.0   12:56:14  2018-05-26                       0   \n",
       "1939           186.0   12:58:59  2018-05-26                       0   \n",
       "\n",
       "     calendar_day  \n",
       "0         0532021  \n",
       "1         0532021  \n",
       "2         0512021  \n",
       "3         0512021  \n",
       "4         0512021  \n",
       "...           ...  \n",
       "1935      1462018  \n",
       "1936      1462018  \n",
       "1937      1462018  \n",
       "1938      1462018  \n",
       "1939      1462018  \n",
       "\n",
       "[1771 rows x 19 columns]"
      ]
     },
     "execution_count": 11,
     "metadata": {},
     "output_type": "execute_result"
    }
   ],
   "source": [
    "train_set = segments_df.drop(test_set_index)\n",
    "train_set"
   ]
  },
  {
   "cell_type": "code",
   "execution_count": 12,
   "metadata": {},
   "outputs": [
    {
     "data": {
      "text/plain": [
       "0.9128865979381443"
      ]
     },
     "execution_count": 12,
     "metadata": {},
     "output_type": "execute_result"
    }
   ],
   "source": [
    "1771/1940"
   ]
  },
  {
   "cell_type": "markdown",
   "metadata": {},
   "source": [
    "## Scaler Data ??"
   ]
  },
  {
   "cell_type": "markdown",
   "metadata": {},
   "source": [
    "## Model"
   ]
  },
  {
   "cell_type": "code",
   "execution_count": 13,
   "metadata": {},
   "outputs": [],
   "source": [
    "columns = ['elapsed_time','distance','average_grade','nb_activities_last_30d']\n",
    "# columns = ['elapsed_time','distance','average_grade']\n",
    "train_set = train_set[columns]\n",
    "test_set = test_set[columns]"
   ]
  },
  {
   "cell_type": "code",
   "execution_count": 14,
   "metadata": {},
   "outputs": [
    {
     "name": "stdout",
     "output_type": "stream",
     "text": [
      "(1771,)\n",
      "(1771, 3)\n",
      "(169,)\n",
      "(169, 3)\n"
     ]
    }
   ],
   "source": [
    "y_train = train_set[\"elapsed_time\"]\n",
    "X_train = train_set.drop(\"elapsed_time\", axis=1)\n",
    "y_test  = test_set[\"elapsed_time\"]\n",
    "X_test = test_set.drop(\"elapsed_time\", axis=1)\n",
    "\n",
    "\n",
    "print(y_train.shape)\n",
    "print(X_train.shape)\n",
    "print(y_test.shape)\n",
    "print(X_test.shape)"
   ]
  },
  {
   "cell_type": "markdown",
   "metadata": {},
   "source": [
    "**Log Label**"
   ]
  },
  {
   "cell_type": "code",
   "execution_count": 15,
   "metadata": {},
   "outputs": [
    {
     "data": {
      "text/plain": [
       "<seaborn.axisgrid.FacetGrid at 0x207dc8213c8>"
      ]
     },
     "execution_count": 15,
     "metadata": {},
     "output_type": "execute_result"
    },
    {
     "data": {
      "image/png": "[encoded data removed]",
      "text/plain": [
       "<Figure size 360x360 with 1 Axes>"
      ]
     },
     "metadata": {},
     "output_type": "display_data"
    }
   ],
   "source": [
    "sns.displot(y_train)"
   ]
  },
  {
   "cell_type": "code",
   "execution_count": 16,
   "metadata": {},
   "outputs": [
    {
     "data": {
      "text/plain": [
       "<seaborn.axisgrid.FacetGrid at 0x207f2d80b70>"
      ]
     },
     "execution_count": 16,
     "metadata": {},
     "output_type": "execute_result"
    },
    {
     "data": {
      "image/png": "[encoded data removed]",
      "text/plain": [
       "<Figure size 360x360 with 1 Axes>"
      ]
     },
     "metadata": {},
     "output_type": "display_data"
    }
   ],
   "source": [
    "sns.displot(np.log(y_train))"
   ]
  },
  {
   "cell_type": "code",
   "execution_count": 17,
   "metadata": {},
   "outputs": [],
   "source": [
    "y_train_log = np.log(y_train)"
   ]
  },
  {
   "cell_type": "markdown",
   "metadata": {},
   "source": [
    "#### Algos"
   ]
  },
  {
   "cell_type": "code",
   "execution_count": 18,
   "metadata": {},
   "outputs": [],
   "source": [
    "reg = LinearRegression()\n",
    "reg.fit(X_train,y_train_log)\n",
    "y_pred_reg_log = reg.predict(X_test)"
   ]
  },
  {
   "cell_type": "code",
   "execution_count": 19,
   "metadata": {},
   "outputs": [],
   "source": [
    "xgb_reg = xgb.XGBRegressor()\n",
    "xgb_reg.fit(X_train,y_train_log)\n",
    "y_pred_xgb_log = xgb_reg.predict(X_test)"
   ]
  },
  {
   "cell_type": "code",
   "execution_count": 20,
   "metadata": {},
   "outputs": [
    {
     "name": "stdout",
     "output_type": "stream",
     "text": [
      "mae_reg : 668.911910901204\n",
      "mape_reg : 0.8778943539585223\n",
      "rmse_reg: 2902.9032316175158\n"
     ]
    }
   ],
   "source": [
    "mae_reg = mean_absolute_error(y_test,np.exp(y_pred_reg_log))\n",
    "mape_reg = mean_absolute_percentage_error(y_test, np.exp(y_pred_reg_log))\n",
    "rmse_reg  = np.sqrt(mean_squared_error(y_test,np.exp(y_pred_reg_log)))\n",
    "print(f'mae_reg : {mae_reg}')\n",
    "print(f'mape_reg : {mape_reg}')\n",
    "print(f'rmse_reg: {rmse_reg}')"
   ]
  },
  {
   "cell_type": "code",
   "execution_count": 21,
   "metadata": {},
   "outputs": [
    {
     "name": "stdout",
     "output_type": "stream",
     "text": [
      "mae_xgb : 77.30976821402827\n",
      "mape_xgb: 0.1903329455917461\n",
      "rmse_xgb: 144.13157927995928\n"
     ]
    }
   ],
   "source": [
    "mae_xgb = mean_absolute_error(y_test,np.exp(y_pred_xgb_log))\n",
    "mape_xgb = mean_absolute_percentage_error(y_test, np.exp(y_pred_xgb_log))\n",
    "rmse_xgb  = np.sqrt(mean_squared_error(y_test,np.exp(y_pred_xgb_log)))\n",
    "print(f'mae_xgb : {mae_xgb}')\n",
    "print(f'mape_xgb: {mape_xgb}')\n",
    "print(f'rmse_xgb: {rmse_xgb}')"
   ]
  },
  {
   "cell_type": "code",
   "execution_count": 22,
   "metadata": {},
   "outputs": [
    {
     "data": {
      "text/html": [
       "<div>\n",
       "<style scoped>\n",
       "    .dataframe tbody tr th:only-of-type {\n",
       "        vertical-align: middle;\n",
       "    }\n",
       "\n",
       "    .dataframe tbody tr th {\n",
       "        vertical-align: top;\n",
       "    }\n",
       "\n",
       "    .dataframe thead th {\n",
       "        text-align: right;\n",
       "    }\n",
       "</style>\n",
       "<table border=\"1\" class=\"dataframe\">\n",
       "  <thead>\n",
       "    <tr style=\"text-align: right;\">\n",
       "      <th></th>\n",
       "      <th>MAE</th>\n",
       "      <th>MAPE</th>\n",
       "      <th>RMSE</th>\n",
       "    </tr>\n",
       "  </thead>\n",
       "  <tbody>\n",
       "    <tr>\n",
       "      <th>xgbreg</th>\n",
       "      <td>77.309768</td>\n",
       "      <td>0.190333</td>\n",
       "      <td>144.131579</td>\n",
       "    </tr>\n",
       "    <tr>\n",
       "      <th>naive</th>\n",
       "      <td>202.259702</td>\n",
       "      <td>0.372339</td>\n",
       "      <td>464.705005</td>\n",
       "    </tr>\n",
       "    <tr>\n",
       "      <th>linreg</th>\n",
       "      <td>668.911911</td>\n",
       "      <td>0.877894</td>\n",
       "      <td>2902.903232</td>\n",
       "    </tr>\n",
       "  </tbody>\n",
       "</table>\n",
       "</div>"
      ],
      "text/plain": [
       "               MAE      MAPE         RMSE\n",
       "xgbreg   77.309768  0.190333   144.131579\n",
       "naive   202.259702  0.372339   464.705005\n",
       "linreg  668.911911  0.877894  2902.903232"
      ]
     },
     "execution_count": 22,
     "metadata": {},
     "output_type": "execute_result"
    }
   ],
   "source": [
    "data = {\n",
    "    'MAE':[mae_naive,mae_reg,mae_xgb],\n",
    "    'MAPE':[mape_naive,mape_reg,mape_xgb],\n",
    "    'RMSE':[rmse_naive,rmse_reg,rmse_xgb]\n",
    "}\n",
    "\n",
    "comparaison_df = pd.DataFrame(data, index=['naive','linreg','xgbreg'])\n",
    "comparaison_df.sort_values(by=['MAPE'])"
   ]
  },
  {
   "cell_type": "markdown",
   "metadata": {},
   "source": [
    "### Prediction Alpe d'huez"
   ]
  },
  {
   "cell_type": "code",
   "execution_count": 23,
   "metadata": {},
   "outputs": [
    {
     "data": {
      "text/html": [
       "<div>\n",
       "<style scoped>\n",
       "    .dataframe tbody tr th:only-of-type {\n",
       "        vertical-align: middle;\n",
       "    }\n",
       "\n",
       "    .dataframe tbody tr th {\n",
       "        vertical-align: top;\n",
       "    }\n",
       "\n",
       "    .dataframe thead th {\n",
       "        text-align: right;\n",
       "    }\n",
       "</style>\n",
       "<table border=\"1\" class=\"dataframe\">\n",
       "  <thead>\n",
       "    <tr style=\"text-align: right;\">\n",
       "      <th></th>\n",
       "      <th>distance</th>\n",
       "      <th>altitude_gain</th>\n",
       "      <th>average_grade</th>\n",
       "      <th>all_points</th>\n",
       "    </tr>\n",
       "  </thead>\n",
       "  <tbody>\n",
       "    <tr>\n",
       "      <th>0</th>\n",
       "      <td>270.55</td>\n",
       "      <td>-0.80</td>\n",
       "      <td>-0.30</td>\n",
       "      <td>[[45.05476, 6.031770000000001], [45.0547500000...</td>\n",
       "    </tr>\n",
       "    <tr>\n",
       "      <th>1</th>\n",
       "      <td>422.22</td>\n",
       "      <td>4.33</td>\n",
       "      <td>1.03</td>\n",
       "      <td>[[45.056370001328915, 6.034199995890939], [45....</td>\n",
       "    </tr>\n",
       "    <tr>\n",
       "      <th>2</th>\n",
       "      <td>427.89</td>\n",
       "      <td>-5.51</td>\n",
       "      <td>-1.29</td>\n",
       "      <td>[[45.059050000000006, 6.0379000000000005], [45...</td>\n",
       "    </tr>\n",
       "    <tr>\n",
       "      <th>3</th>\n",
       "      <td>12615.51</td>\n",
       "      <td>1063.27</td>\n",
       "      <td>8.43</td>\n",
       "      <td>[[45.062720000000006, 6.03701], [45.0628500000...</td>\n",
       "    </tr>\n",
       "  </tbody>\n",
       "</table>\n",
       "</div>"
      ],
      "text/plain": [
       "   distance  altitude_gain  average_grade  \\\n",
       "0    270.55          -0.80          -0.30   \n",
       "1    422.22           4.33           1.03   \n",
       "2    427.89          -5.51          -1.29   \n",
       "3  12615.51        1063.27           8.43   \n",
       "\n",
       "                                          all_points  \n",
       "0  [[45.05476, 6.031770000000001], [45.0547500000...  \n",
       "1  [[45.056370001328915, 6.034199995890939], [45....  \n",
       "2  [[45.059050000000006, 6.0379000000000005], [45...  \n",
       "3  [[45.062720000000006, 6.03701], [45.0628500000...  "
      ]
     },
     "execution_count": 23,
     "metadata": {},
     "output_type": "execute_result"
    }
   ],
   "source": [
    "query = {\n",
    "    \"query\": {\n",
    "        \"match\": {\n",
    "            \"_id\": 2787335981548134218\n",
    "        }\n",
    "    }\n",
    "}\n",
    "\n",
    "result = database.search(\n",
    "    index=\"index_route\",\n",
    "    size=1000,\n",
    "    body= query\n",
    ")\n",
    "\n",
    "route_alpe = result['hits']['hits'][0]['_source']\n",
    "segments_alpe = route_alpe.get(\"segmentation\")\n",
    "segments_alpe_df = pd.DataFrame(segments_alpe)\n",
    "segments_alpe_df"
   ]
  },
  {
   "cell_type": "markdown",
   "metadata": {},
   "source": [
    "**Activities last 30d**"
   ]
  },
  {
   "cell_type": "code",
   "execution_count": 24,
   "metadata": {},
   "outputs": [],
   "source": [
    "today = date.today()\n",
    "end_date = today - timedelta(days=1)\n",
    "start_date = end_date - timedelta(days=30)"
   ]
  },
  {
   "cell_type": "code",
   "execution_count": 25,
   "metadata": {},
   "outputs": [
    {
     "data": {
      "text/plain": [
       "8"
      ]
     },
     "execution_count": 25,
     "metadata": {},
     "output_type": "execute_result"
    }
   ],
   "source": [
    "nb_activities_last_30d = len(activities_df[activities_df['start_date'].between(start_date,end_date)])\n",
    "nb_activities_last_30d"
   ]
  },
  {
   "cell_type": "code",
   "execution_count": 26,
   "metadata": {},
   "outputs": [
    {
     "data": {
      "text/html": [
       "<div>\n",
       "<style scoped>\n",
       "    .dataframe tbody tr th:only-of-type {\n",
       "        vertical-align: middle;\n",
       "    }\n",
       "\n",
       "    .dataframe tbody tr th {\n",
       "        vertical-align: top;\n",
       "    }\n",
       "\n",
       "    .dataframe thead th {\n",
       "        text-align: right;\n",
       "    }\n",
       "</style>\n",
       "<table border=\"1\" class=\"dataframe\">\n",
       "  <thead>\n",
       "    <tr style=\"text-align: right;\">\n",
       "      <th></th>\n",
       "      <th>distance</th>\n",
       "      <th>altitude_gain</th>\n",
       "      <th>average_grade</th>\n",
       "      <th>all_points</th>\n",
       "      <th>nb_activities_last_30d</th>\n",
       "    </tr>\n",
       "  </thead>\n",
       "  <tbody>\n",
       "    <tr>\n",
       "      <th>0</th>\n",
       "      <td>270.55</td>\n",
       "      <td>-0.80</td>\n",
       "      <td>-0.30</td>\n",
       "      <td>[[45.05476, 6.031770000000001], [45.0547500000...</td>\n",
       "      <td>8</td>\n",
       "    </tr>\n",
       "    <tr>\n",
       "      <th>1</th>\n",
       "      <td>422.22</td>\n",
       "      <td>4.33</td>\n",
       "      <td>1.03</td>\n",
       "      <td>[[45.056370001328915, 6.034199995890939], [45....</td>\n",
       "      <td>8</td>\n",
       "    </tr>\n",
       "    <tr>\n",
       "      <th>2</th>\n",
       "      <td>427.89</td>\n",
       "      <td>-5.51</td>\n",
       "      <td>-1.29</td>\n",
       "      <td>[[45.059050000000006, 6.0379000000000005], [45...</td>\n",
       "      <td>8</td>\n",
       "    </tr>\n",
       "    <tr>\n",
       "      <th>3</th>\n",
       "      <td>12615.51</td>\n",
       "      <td>1063.27</td>\n",
       "      <td>8.43</td>\n",
       "      <td>[[45.062720000000006, 6.03701], [45.0628500000...</td>\n",
       "      <td>8</td>\n",
       "    </tr>\n",
       "  </tbody>\n",
       "</table>\n",
       "</div>"
      ],
      "text/plain": [
       "   distance  altitude_gain  average_grade  \\\n",
       "0    270.55          -0.80          -0.30   \n",
       "1    422.22           4.33           1.03   \n",
       "2    427.89          -5.51          -1.29   \n",
       "3  12615.51        1063.27           8.43   \n",
       "\n",
       "                                          all_points  nb_activities_last_30d  \n",
       "0  [[45.05476, 6.031770000000001], [45.0547500000...                       8  \n",
       "1  [[45.056370001328915, 6.034199995890939], [45....                       8  \n",
       "2  [[45.059050000000006, 6.0379000000000005], [45...                       8  \n",
       "3  [[45.062720000000006, 6.03701], [45.0628500000...                       8  "
      ]
     },
     "execution_count": 26,
     "metadata": {},
     "output_type": "execute_result"
    }
   ],
   "source": [
    "segments_alpe_df['nb_activities_last_30d'] = nb_activities_last_30d\n",
    "segments_alpe_df"
   ]
  },
  {
   "cell_type": "code",
   "execution_count": 27,
   "metadata": {},
   "outputs": [
    {
     "data": {
      "text/html": [
       "<div>\n",
       "<style scoped>\n",
       "    .dataframe tbody tr th:only-of-type {\n",
       "        vertical-align: middle;\n",
       "    }\n",
       "\n",
       "    .dataframe tbody tr th {\n",
       "        vertical-align: top;\n",
       "    }\n",
       "\n",
       "    .dataframe thead th {\n",
       "        text-align: right;\n",
       "    }\n",
       "</style>\n",
       "<table border=\"1\" class=\"dataframe\">\n",
       "  <thead>\n",
       "    <tr style=\"text-align: right;\">\n",
       "      <th></th>\n",
       "      <th>distance</th>\n",
       "      <th>average_grade</th>\n",
       "      <th>nb_activities_last_30d</th>\n",
       "    </tr>\n",
       "  </thead>\n",
       "  <tbody>\n",
       "    <tr>\n",
       "      <th>0</th>\n",
       "      <td>270.55</td>\n",
       "      <td>-0.30</td>\n",
       "      <td>8</td>\n",
       "    </tr>\n",
       "    <tr>\n",
       "      <th>1</th>\n",
       "      <td>422.22</td>\n",
       "      <td>1.03</td>\n",
       "      <td>8</td>\n",
       "    </tr>\n",
       "    <tr>\n",
       "      <th>2</th>\n",
       "      <td>427.89</td>\n",
       "      <td>-1.29</td>\n",
       "      <td>8</td>\n",
       "    </tr>\n",
       "    <tr>\n",
       "      <th>3</th>\n",
       "      <td>12615.51</td>\n",
       "      <td>8.43</td>\n",
       "      <td>8</td>\n",
       "    </tr>\n",
       "  </tbody>\n",
       "</table>\n",
       "</div>"
      ],
      "text/plain": [
       "   distance  average_grade  nb_activities_last_30d\n",
       "0    270.55          -0.30                       8\n",
       "1    422.22           1.03                       8\n",
       "2    427.89          -1.29                       8\n",
       "3  12615.51           8.43                       8"
      ]
     },
     "execution_count": 27,
     "metadata": {},
     "output_type": "execute_result"
    }
   ],
   "source": [
    "datas = segments_alpe_df[['distance','average_grade','nb_activities_last_30d']]\n",
    "# datas = segments_alpe_df[['distance','average_grade']]\n",
    "datas"
   ]
  },
  {
   "cell_type": "code",
   "execution_count": 28,
   "metadata": {},
   "outputs": [
    {
     "data": {
      "text/plain": [
       "relativedelta(hours=+1, minutes=+14, seconds=+52.1186)"
      ]
     },
     "execution_count": 28,
     "metadata": {},
     "output_type": "execute_result"
    }
   ],
   "source": [
    "alpe_pred_reg = reg.predict(datas)\n",
    "elapsed_time_reg = relativedelta(seconds=(np.exp(alpe_pred_reg)).sum())\n",
    "elapsed_time_reg"
   ]
  },
  {
   "cell_type": "code",
   "execution_count": 29,
   "metadata": {},
   "outputs": [
    {
     "data": {
      "text/plain": [
       "relativedelta(hours=+1, minutes=+12, seconds=+52.6191)"
      ]
     },
     "execution_count": 29,
     "metadata": {},
     "output_type": "execute_result"
    }
   ],
   "source": [
    "alpe_pred_xgb = xgb_reg.predict(datas)\n",
    "elapsed_time_xgb = relativedelta(seconds=(np.exp(alpe_pred_xgb)).sum())\n",
    "elapsed_time_xgb"
   ]
  },
  {
   "cell_type": "code",
   "execution_count": 30,
   "metadata": {},
   "outputs": [
    {
     "data": {
      "text/plain": [
       "relativedelta(minutes=+38, seconds=+32.1867)"
      ]
     },
     "execution_count": 30,
     "metadata": {},
     "output_type": "execute_result"
    }
   ],
   "source": [
    "elapsed_time_naive"
   ]
  },
  {
   "cell_type": "code",
   "execution_count": 31,
   "metadata": {},
   "outputs": [],
   "source": [
    "def format_hms_relativedelta(relative_delta):\n",
    "    hour = int(relative_delta.hours)\n",
    "    minutes = int(relative_delta.minutes)\n",
    "    seconds = int(relative_delta.seconds)\n",
    "    print(f'Prediction {hour}h{minutes}m{seconds}sec')\n",
    "    return f'{hour}h{minutes}m{seconds}sec'"
   ]
  },
  {
   "cell_type": "code",
   "execution_count": 32,
   "metadata": {},
   "outputs": [],
   "source": [
    "def compute_kmh(time,distance):\n",
    "    return (distance/time)*3.6"
   ]
  },
  {
   "cell_type": "code",
   "execution_count": 33,
   "metadata": {},
   "outputs": [],
   "source": [
    "def compute_pred_seconds(pred):\n",
    "    return round(np.exp(pred).sum(),2)"
   ]
  },
  {
   "cell_type": "code",
   "execution_count": 34,
   "metadata": {},
   "outputs": [
    {
     "data": {
      "text/plain": [
       "13736.17"
      ]
     },
     "execution_count": 34,
     "metadata": {},
     "output_type": "execute_result"
    }
   ],
   "source": [
    "distance = segments_alpe_df['distance'].sum()\n",
    "distance"
   ]
  },
  {
   "cell_type": "code",
   "execution_count": 35,
   "metadata": {},
   "outputs": [
    {
     "name": "stdout",
     "output_type": "stream",
     "text": [
      "Prediction 0h38m32sec\n",
      "Prediction 1h14m52sec\n",
      "Prediction 1h12m52sec\n"
     ]
    },
    {
     "data": {
      "text/html": [
       "<div>\n",
       "<style scoped>\n",
       "    .dataframe tbody tr th:only-of-type {\n",
       "        vertical-align: middle;\n",
       "    }\n",
       "\n",
       "    .dataframe tbody tr th {\n",
       "        vertical-align: top;\n",
       "    }\n",
       "\n",
       "    .dataframe thead th {\n",
       "        text-align: right;\n",
       "    }\n",
       "</style>\n",
       "<table border=\"1\" class=\"dataframe\">\n",
       "  <thead>\n",
       "    <tr style=\"text-align: right;\">\n",
       "      <th></th>\n",
       "      <th>Prediction</th>\n",
       "      <th>Mean_speed(km/h)</th>\n",
       "    </tr>\n",
       "  </thead>\n",
       "  <tbody>\n",
       "    <tr>\n",
       "      <th>naive</th>\n",
       "      <td>0h38m32sec</td>\n",
       "      <td>21.386773</td>\n",
       "    </tr>\n",
       "    <tr>\n",
       "      <th>linreg</th>\n",
       "      <td>1h14m52sec</td>\n",
       "      <td>11.008213</td>\n",
       "    </tr>\n",
       "    <tr>\n",
       "      <th>xgbreg</th>\n",
       "      <td>1h12m52sec</td>\n",
       "      <td>11.309057</td>\n",
       "    </tr>\n",
       "    <tr>\n",
       "      <th>strava</th>\n",
       "      <td>0h31m39s</td>\n",
       "      <td>26.040133</td>\n",
       "    </tr>\n",
       "  </tbody>\n",
       "</table>\n",
       "</div>"
      ],
      "text/plain": [
       "        Prediction  Mean_speed(km/h)\n",
       "naive   0h38m32sec         21.386773\n",
       "linreg  1h14m52sec         11.008213\n",
       "xgbreg  1h12m52sec         11.309057\n",
       "strava    0h31m39s         26.040133"
      ]
     },
     "execution_count": 35,
     "metadata": {},
     "output_type": "execute_result"
    }
   ],
   "source": [
    "data = {\n",
    "    'Prediction':[\n",
    "                  format_hms_relativedelta(elapsed_time_naive),\n",
    "                  format_hms_relativedelta(elapsed_time_reg),\n",
    "                  format_hms_relativedelta(elapsed_time_xgb),\n",
    "                  '0h31m39s'\n",
    "                 ],\n",
    "    'Mean_speed(km/h)':[\n",
    "                        distance / elapsed_time_pred_naive_sec * 3.6,\n",
    "                        compute_kmh(compute_pred_seconds(alpe_pred_reg),distance),\n",
    "                        compute_kmh(compute_pred_seconds(alpe_pred_xgb),distance),\n",
    "                        distance / 1899 * 3.6\n",
    "                        ]\n",
    "}\n",
    "\n",
    "comparaison_pred_df = pd.DataFrame(data, index=['naive','linreg','xgbreg','strava'])\n",
    "comparaison_pred_df"
   ]
  },
  {
   "cell_type": "code",
   "execution_count": null,
   "metadata": {},
   "outputs": [],
   "source": []
  },
  {
   "cell_type": "code",
   "execution_count": null,
   "metadata": {},
   "outputs": [],
   "source": []
  }
 ],
 "metadata": {
  "kernelspec": {
   "display_name": "cycling_travel_time",
   "language": "python",
   "name": "cycling_travel_time"
  },
  "language_info": {
   "codemirror_mode": {
    "name": "ipython",
    "version": 3
   },
   "file_extension": ".py",
   "mimetype": "text/x-python",
   "name": "python",
   "nbconvert_exporter": "python",
   "pygments_lexer": "ipython3",
   "version": "3.6.11"
  }
 },
 "nbformat": 4,
 "nbformat_minor": 4
}
