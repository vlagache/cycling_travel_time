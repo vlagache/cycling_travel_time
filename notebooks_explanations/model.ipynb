{
 "cells": [
  {
   "cell_type": "code",
   "execution_count": 1,
   "metadata": {},
   "outputs": [],
   "source": [
    "%%capture\n",
    "%run naive_algorithm.ipynb\n",
    "%run features_engineering.ipynb"
   ]
  },
  {
   "cell_type": "code",
   "execution_count": 2,
   "metadata": {},
   "outputs": [],
   "source": [
    "import random \n",
    "import seaborn as sns\n",
    "from datetime import date, timedelta\n",
    "from dateutil.relativedelta import relativedelta\n",
    "\n",
    "import xgboost as xgb\n",
    "from sklearn.linear_model import LinearRegression\n",
    "from sklearn.model_selection import train_test_split\n",
    "from sklearn.metrics import mean_absolute_error, mean_absolute_percentage_error, mean_squared_error\n",
    "\n",
    "from sklearn.preprocessing import StandardScaler"
   ]
  },
  {
   "cell_type": "markdown",
   "metadata": {},
   "source": [
    "## Split Train/Test\n",
    "\n",
    "Probleme de segments dans lequel sont compris d'autres segments , pour eviter de la fuite de données dans le cas ou\n",
    "segment se retrouverais dans le train et une partie de celui ci dans le train : \n",
    "\n",
    "* Calcul de jour calendaire/année de chaque segment\n",
    "* Selection au hasard de certaines dates qui constitueront le test_set , tout le reste dans le train_set\n",
    "* De cette maniere aucun segment réalisé a une meme date ne pourra se retrouver a la fois dans le train et le test\n"
   ]
  },
  {
   "cell_type": "code",
   "execution_count": 3,
   "metadata": {},
   "outputs": [
    {
     "data": {
      "text/html": [
       "<div>\n",
       "<style scoped>\n",
       "    .dataframe tbody tr th:only-of-type {\n",
       "        vertical-align: middle;\n",
       "    }\n",
       "\n",
       "    .dataframe tbody tr th {\n",
       "        vertical-align: top;\n",
       "    }\n",
       "\n",
       "    .dataframe thead th {\n",
       "        text-align: right;\n",
       "    }\n",
       "</style>\n",
       "<table border=\"1\" class=\"dataframe\">\n",
       "  <thead>\n",
       "    <tr style=\"text-align: right;\">\n",
       "      <th></th>\n",
       "      <th>id</th>\n",
       "      <th>activity_id</th>\n",
       "      <th>athlete_id</th>\n",
       "      <th>name</th>\n",
       "      <th>elapsed_time</th>\n",
       "      <th>moving_time</th>\n",
       "      <th>distance</th>\n",
       "      <th>average_cadence</th>\n",
       "      <th>average_watts</th>\n",
       "      <th>average_grade</th>\n",
       "      <th>maximum_grade</th>\n",
       "      <th>climb_category</th>\n",
       "      <th>average_heart_rate</th>\n",
       "      <th>max_heart_rate</th>\n",
       "      <th>start_time</th>\n",
       "      <th>start_date</th>\n",
       "      <th>nb_activities_last_30d</th>\n",
       "      <th>type_virtualride</th>\n",
       "      <th>time_virtual_last_30d</th>\n",
       "      <th>time_real_last_30d</th>\n",
       "    </tr>\n",
       "  </thead>\n",
       "  <tbody>\n",
       "    <tr>\n",
       "      <th>0</th>\n",
       "      <td>24674235</td>\n",
       "      <td>4831255939</td>\n",
       "      <td>10944546</td>\n",
       "      <td>Champs-Élysées</td>\n",
       "      <td>653</td>\n",
       "      <td>653</td>\n",
       "      <td>6623.10</td>\n",
       "      <td>82.3</td>\n",
       "      <td>202.8</td>\n",
       "      <td>0.0</td>\n",
       "      <td>4.6</td>\n",
       "      <td>0</td>\n",
       "      <td>161.2</td>\n",
       "      <td>170.0</td>\n",
       "      <td>18:46:25</td>\n",
       "      <td>2021-02-22</td>\n",
       "      <td>6</td>\n",
       "      <td>1</td>\n",
       "      <td>213.85</td>\n",
       "      <td>101.4</td>\n",
       "    </tr>\n",
       "    <tr>\n",
       "      <th>1</th>\n",
       "      <td>27141377</td>\n",
       "      <td>4831057316</td>\n",
       "      <td>10944546</td>\n",
       "      <td>Epic KOM - Start to Bypass Intersection (Zwift...</td>\n",
       "      <td>424</td>\n",
       "      <td>424</td>\n",
       "      <td>1882.50</td>\n",
       "      <td>77.3</td>\n",
       "      <td>201.2</td>\n",
       "      <td>3.8</td>\n",
       "      <td>47.8</td>\n",
       "      <td>0</td>\n",
       "      <td>157.9</td>\n",
       "      <td>164.0</td>\n",
       "      <td>18:19:40</td>\n",
       "      <td>2021-02-22</td>\n",
       "      <td>6</td>\n",
       "      <td>1</td>\n",
       "      <td>213.85</td>\n",
       "      <td>101.4</td>\n",
       "    </tr>\n",
       "    <tr>\n",
       "      <th>2</th>\n",
       "      <td>22501195</td>\n",
       "      <td>4818094466</td>\n",
       "      <td>10944546</td>\n",
       "      <td>Villenave-Technopole</td>\n",
       "      <td>789</td>\n",
       "      <td>789</td>\n",
       "      <td>5100.50</td>\n",
       "      <td>NaN</td>\n",
       "      <td>108.0</td>\n",
       "      <td>0.5</td>\n",
       "      <td>6.4</td>\n",
       "      <td>0</td>\n",
       "      <td>169.0</td>\n",
       "      <td>184.0</td>\n",
       "      <td>14:39:32</td>\n",
       "      <td>2021-02-20</td>\n",
       "      <td>6</td>\n",
       "      <td>0</td>\n",
       "      <td>262.78</td>\n",
       "      <td>0.0</td>\n",
       "    </tr>\n",
       "    <tr>\n",
       "      <th>3</th>\n",
       "      <td>3566434</td>\n",
       "      <td>4818094466</td>\n",
       "      <td>10944546</td>\n",
       "      <td>Col du Chateau d'eau</td>\n",
       "      <td>217</td>\n",
       "      <td>217</td>\n",
       "      <td>1190.37</td>\n",
       "      <td>NaN</td>\n",
       "      <td>141.8</td>\n",
       "      <td>2.1</td>\n",
       "      <td>7.3</td>\n",
       "      <td>0</td>\n",
       "      <td>170.7</td>\n",
       "      <td>183.0</td>\n",
       "      <td>14:40:47</td>\n",
       "      <td>2021-02-20</td>\n",
       "      <td>6</td>\n",
       "      <td>0</td>\n",
       "      <td>262.78</td>\n",
       "      <td>0.0</td>\n",
       "    </tr>\n",
       "    <tr>\n",
       "      <th>4</th>\n",
       "      <td>20598228</td>\n",
       "      <td>4818094466</td>\n",
       "      <td>10944546</td>\n",
       "      <td>Col du chateau d'eau court</td>\n",
       "      <td>151</td>\n",
       "      <td>151</td>\n",
       "      <td>745.40</td>\n",
       "      <td>NaN</td>\n",
       "      <td>165.4</td>\n",
       "      <td>2.8</td>\n",
       "      <td>5.5</td>\n",
       "      <td>0</td>\n",
       "      <td>177.5</td>\n",
       "      <td>183.0</td>\n",
       "      <td>14:42:02</td>\n",
       "      <td>2021-02-20</td>\n",
       "      <td>6</td>\n",
       "      <td>0</td>\n",
       "      <td>262.78</td>\n",
       "      <td>0.0</td>\n",
       "    </tr>\n",
       "  </tbody>\n",
       "</table>\n",
       "</div>"
      ],
      "text/plain": [
       "         id  activity_id  athlete_id  \\\n",
       "0  24674235   4831255939    10944546   \n",
       "1  27141377   4831057316    10944546   \n",
       "2  22501195   4818094466    10944546   \n",
       "3   3566434   4818094466    10944546   \n",
       "4  20598228   4818094466    10944546   \n",
       "\n",
       "                                                name  elapsed_time  \\\n",
       "0                                     Champs-Élysées           653   \n",
       "1  Epic KOM - Start to Bypass Intersection (Zwift...           424   \n",
       "2                              Villenave-Technopole            789   \n",
       "3                               Col du Chateau d'eau           217   \n",
       "4                         Col du chateau d'eau court           151   \n",
       "\n",
       "   moving_time  distance  average_cadence  average_watts  average_grade  \\\n",
       "0          653   6623.10             82.3          202.8            0.0   \n",
       "1          424   1882.50             77.3          201.2            3.8   \n",
       "2          789   5100.50              NaN          108.0            0.5   \n",
       "3          217   1190.37              NaN          141.8            2.1   \n",
       "4          151    745.40              NaN          165.4            2.8   \n",
       "\n",
       "   maximum_grade  climb_category  average_heart_rate  max_heart_rate  \\\n",
       "0            4.6               0               161.2           170.0   \n",
       "1           47.8               0               157.9           164.0   \n",
       "2            6.4               0               169.0           184.0   \n",
       "3            7.3               0               170.7           183.0   \n",
       "4            5.5               0               177.5           183.0   \n",
       "\n",
       "  start_time  start_date  nb_activities_last_30d  type_virtualride  \\\n",
       "0   18:46:25  2021-02-22                       6                 1   \n",
       "1   18:19:40  2021-02-22                       6                 1   \n",
       "2   14:39:32  2021-02-20                       6                 0   \n",
       "3   14:40:47  2021-02-20                       6                 0   \n",
       "4   14:42:02  2021-02-20                       6                 0   \n",
       "\n",
       "   time_virtual_last_30d  time_real_last_30d  \n",
       "0                 213.85               101.4  \n",
       "1                 213.85               101.4  \n",
       "2                 262.78                 0.0  \n",
       "3                 262.78                 0.0  \n",
       "4                 262.78                 0.0  "
      ]
     },
     "execution_count": 3,
     "metadata": {},
     "output_type": "execute_result"
    }
   ],
   "source": [
    "segments_df.head(5)"
   ]
  },
  {
   "cell_type": "code",
   "execution_count": 4,
   "metadata": {},
   "outputs": [],
   "source": [
    "calendar_days = []\n",
    "for date in segments_df['start_date']:\n",
    "    calendar_day = date.strftime('%j%Y')\n",
    "    calendar_days.append(calendar_day)\n",
    "\n",
    "segments_df['calendar_day'] = calendar_days"
   ]
  },
  {
   "cell_type": "code",
   "execution_count": 5,
   "metadata": {},
   "outputs": [],
   "source": [
    "dates = segments_df['calendar_day'].unique()"
   ]
  },
  {
   "cell_type": "code",
   "execution_count": 6,
   "metadata": {},
   "outputs": [],
   "source": [
    "dates = dates.tolist()"
   ]
  },
  {
   "cell_type": "code",
   "execution_count": 7,
   "metadata": {},
   "outputs": [
    {
     "data": {
      "text/plain": [
       "40.0"
      ]
     },
     "execution_count": 7,
     "metadata": {},
     "output_type": "execute_result"
    }
   ],
   "source": [
    "ratio_train_test = len(dates) * 0.2\n",
    "ratio_train_test"
   ]
  },
  {
   "cell_type": "code",
   "execution_count": 8,
   "metadata": {},
   "outputs": [],
   "source": [
    "random.seed(42)\n",
    "dates_test_set = random.sample(dates,int(ratio_train_test))"
   ]
  },
  {
   "cell_type": "code",
   "execution_count": 9,
   "metadata": {},
   "outputs": [
    {
     "data": {
      "text/plain": [
       "(379, 21)"
      ]
     },
     "execution_count": 9,
     "metadata": {},
     "output_type": "execute_result"
    }
   ],
   "source": [
    "test_set = segments_df[segments_df['calendar_day'].isin(dates_test_set)]\n",
    "test_set.shape"
   ]
  },
  {
   "cell_type": "code",
   "execution_count": 10,
   "metadata": {},
   "outputs": [
    {
     "data": {
      "text/plain": [
       "Int64Index([   2,    3,    4,    5,    6,    7,    8,    9,   10,   11,\n",
       "            ...\n",
       "            1877, 1878, 1879, 1880, 1881, 1882, 1883, 1884, 1885, 1886],\n",
       "           dtype='int64', length=379)"
      ]
     },
     "execution_count": 10,
     "metadata": {},
     "output_type": "execute_result"
    }
   ],
   "source": [
    "test_set_index = test_set.index\n",
    "test_set_index"
   ]
  },
  {
   "cell_type": "code",
   "execution_count": 11,
   "metadata": {},
   "outputs": [
    {
     "data": {
      "text/html": [
       "<div>\n",
       "<style scoped>\n",
       "    .dataframe tbody tr th:only-of-type {\n",
       "        vertical-align: middle;\n",
       "    }\n",
       "\n",
       "    .dataframe tbody tr th {\n",
       "        vertical-align: top;\n",
       "    }\n",
       "\n",
       "    .dataframe thead th {\n",
       "        text-align: right;\n",
       "    }\n",
       "</style>\n",
       "<table border=\"1\" class=\"dataframe\">\n",
       "  <thead>\n",
       "    <tr style=\"text-align: right;\">\n",
       "      <th></th>\n",
       "      <th>id</th>\n",
       "      <th>activity_id</th>\n",
       "      <th>athlete_id</th>\n",
       "      <th>name</th>\n",
       "      <th>elapsed_time</th>\n",
       "      <th>moving_time</th>\n",
       "      <th>distance</th>\n",
       "      <th>average_cadence</th>\n",
       "      <th>average_watts</th>\n",
       "      <th>average_grade</th>\n",
       "      <th>...</th>\n",
       "      <th>climb_category</th>\n",
       "      <th>average_heart_rate</th>\n",
       "      <th>max_heart_rate</th>\n",
       "      <th>start_time</th>\n",
       "      <th>start_date</th>\n",
       "      <th>nb_activities_last_30d</th>\n",
       "      <th>type_virtualride</th>\n",
       "      <th>time_virtual_last_30d</th>\n",
       "      <th>time_real_last_30d</th>\n",
       "      <th>calendar_day</th>\n",
       "    </tr>\n",
       "  </thead>\n",
       "  <tbody>\n",
       "    <tr>\n",
       "      <th>0</th>\n",
       "      <td>24674235</td>\n",
       "      <td>4831255939</td>\n",
       "      <td>10944546</td>\n",
       "      <td>Champs-Élysées</td>\n",
       "      <td>653</td>\n",
       "      <td>653</td>\n",
       "      <td>6623.100</td>\n",
       "      <td>82.3</td>\n",
       "      <td>202.8</td>\n",
       "      <td>0.0</td>\n",
       "      <td>...</td>\n",
       "      <td>0</td>\n",
       "      <td>161.2</td>\n",
       "      <td>170.0</td>\n",
       "      <td>18:46:25</td>\n",
       "      <td>2021-02-22</td>\n",
       "      <td>6</td>\n",
       "      <td>1</td>\n",
       "      <td>213.85</td>\n",
       "      <td>101.4</td>\n",
       "      <td>0532021</td>\n",
       "    </tr>\n",
       "    <tr>\n",
       "      <th>1</th>\n",
       "      <td>27141377</td>\n",
       "      <td>4831057316</td>\n",
       "      <td>10944546</td>\n",
       "      <td>Epic KOM - Start to Bypass Intersection (Zwift...</td>\n",
       "      <td>424</td>\n",
       "      <td>424</td>\n",
       "      <td>1882.500</td>\n",
       "      <td>77.3</td>\n",
       "      <td>201.2</td>\n",
       "      <td>3.8</td>\n",
       "      <td>...</td>\n",
       "      <td>0</td>\n",
       "      <td>157.9</td>\n",
       "      <td>164.0</td>\n",
       "      <td>18:19:40</td>\n",
       "      <td>2021-02-22</td>\n",
       "      <td>6</td>\n",
       "      <td>1</td>\n",
       "      <td>213.85</td>\n",
       "      <td>101.4</td>\n",
       "      <td>0532021</td>\n",
       "    </tr>\n",
       "    <tr>\n",
       "      <th>27</th>\n",
       "      <td>27180136</td>\n",
       "      <td>4801436758</td>\n",
       "      <td>10944546</td>\n",
       "      <td>Kent Rd Climb to Sprint Banner (Zwift Insider ...</td>\n",
       "      <td>176</td>\n",
       "      <td>176</td>\n",
       "      <td>1137.300</td>\n",
       "      <td>81.4</td>\n",
       "      <td>183.4</td>\n",
       "      <td>2.6</td>\n",
       "      <td>...</td>\n",
       "      <td>0</td>\n",
       "      <td>149.4</td>\n",
       "      <td>156.0</td>\n",
       "      <td>13:36:00</td>\n",
       "      <td>2021-02-17</td>\n",
       "      <td>6</td>\n",
       "      <td>1</td>\n",
       "      <td>254.98</td>\n",
       "      <td>0.0</td>\n",
       "      <td>0482021</td>\n",
       "    </tr>\n",
       "    <tr>\n",
       "      <th>28</th>\n",
       "      <td>21748007</td>\n",
       "      <td>4801436758</td>\n",
       "      <td>10944546</td>\n",
       "      <td>Yorkshire Sprint Reverse</td>\n",
       "      <td>63</td>\n",
       "      <td>63</td>\n",
       "      <td>394.300</td>\n",
       "      <td>79.9</td>\n",
       "      <td>182.9</td>\n",
       "      <td>2.1</td>\n",
       "      <td>...</td>\n",
       "      <td>0</td>\n",
       "      <td>153.4</td>\n",
       "      <td>156.0</td>\n",
       "      <td>13:37:53</td>\n",
       "      <td>2021-02-17</td>\n",
       "      <td>6</td>\n",
       "      <td>1</td>\n",
       "      <td>254.98</td>\n",
       "      <td>0.0</td>\n",
       "      <td>0482021</td>\n",
       "    </tr>\n",
       "    <tr>\n",
       "      <th>29</th>\n",
       "      <td>27207377</td>\n",
       "      <td>4801436758</td>\n",
       "      <td>10944546</td>\n",
       "      <td>Finishing Straightaway (Zwift Insider verified)</td>\n",
       "      <td>99</td>\n",
       "      <td>99</td>\n",
       "      <td>611.100</td>\n",
       "      <td>78.4</td>\n",
       "      <td>192.3</td>\n",
       "      <td>3.3</td>\n",
       "      <td>...</td>\n",
       "      <td>0</td>\n",
       "      <td>156.7</td>\n",
       "      <td>162.0</td>\n",
       "      <td>13:40:47</td>\n",
       "      <td>2021-02-17</td>\n",
       "      <td>6</td>\n",
       "      <td>1</td>\n",
       "      <td>254.98</td>\n",
       "      <td>0.0</td>\n",
       "      <td>0482021</td>\n",
       "    </tr>\n",
       "    <tr>\n",
       "      <th>...</th>\n",
       "      <td>...</td>\n",
       "      <td>...</td>\n",
       "      <td>...</td>\n",
       "      <td>...</td>\n",
       "      <td>...</td>\n",
       "      <td>...</td>\n",
       "      <td>...</td>\n",
       "      <td>...</td>\n",
       "      <td>...</td>\n",
       "      <td>...</td>\n",
       "      <td>...</td>\n",
       "      <td>...</td>\n",
       "      <td>...</td>\n",
       "      <td>...</td>\n",
       "      <td>...</td>\n",
       "      <td>...</td>\n",
       "      <td>...</td>\n",
       "      <td>...</td>\n",
       "      <td>...</td>\n",
       "      <td>...</td>\n",
       "      <td>...</td>\n",
       "    </tr>\n",
       "    <tr>\n",
       "      <th>1935</th>\n",
       "      <td>17782861</td>\n",
       "      <td>1597380847</td>\n",
       "      <td>10944546</td>\n",
       "      <td>RadarStadeMartillac</td>\n",
       "      <td>40</td>\n",
       "      <td>40</td>\n",
       "      <td>303.400</td>\n",
       "      <td>NaN</td>\n",
       "      <td>189.4</td>\n",
       "      <td>1.4</td>\n",
       "      <td>...</td>\n",
       "      <td>0</td>\n",
       "      <td>176.8</td>\n",
       "      <td>182.0</td>\n",
       "      <td>12:42:52</td>\n",
       "      <td>2018-05-26</td>\n",
       "      <td>0</td>\n",
       "      <td>0</td>\n",
       "      <td>0.00</td>\n",
       "      <td>0.0</td>\n",
       "      <td>1462018</td>\n",
       "    </tr>\n",
       "    <tr>\n",
       "      <th>1936</th>\n",
       "      <td>3654728</td>\n",
       "      <td>1597380847</td>\n",
       "      <td>10944546</td>\n",
       "      <td>Faux plat chemin de Rochemorin</td>\n",
       "      <td>90</td>\n",
       "      <td>90</td>\n",
       "      <td>541.374</td>\n",
       "      <td>NaN</td>\n",
       "      <td>158.9</td>\n",
       "      <td>2.0</td>\n",
       "      <td>...</td>\n",
       "      <td>0</td>\n",
       "      <td>183.6</td>\n",
       "      <td>188.0</td>\n",
       "      <td>12:47:30</td>\n",
       "      <td>2018-05-26</td>\n",
       "      <td>0</td>\n",
       "      <td>0</td>\n",
       "      <td>0.00</td>\n",
       "      <td>0.0</td>\n",
       "      <td>1462018</td>\n",
       "    </tr>\n",
       "    <tr>\n",
       "      <th>1937</th>\n",
       "      <td>3752963</td>\n",
       "      <td>1597380847</td>\n",
       "      <td>10944546</td>\n",
       "      <td>Imitationberg</td>\n",
       "      <td>141</td>\n",
       "      <td>141</td>\n",
       "      <td>872.000</td>\n",
       "      <td>NaN</td>\n",
       "      <td>82.3</td>\n",
       "      <td>-0.0</td>\n",
       "      <td>...</td>\n",
       "      <td>0</td>\n",
       "      <td>168.2</td>\n",
       "      <td>184.0</td>\n",
       "      <td>12:53:34</td>\n",
       "      <td>2018-05-26</td>\n",
       "      <td>0</td>\n",
       "      <td>0</td>\n",
       "      <td>0.00</td>\n",
       "      <td>0.0</td>\n",
       "      <td>1462018</td>\n",
       "    </tr>\n",
       "    <tr>\n",
       "      <th>1938</th>\n",
       "      <td>14775448</td>\n",
       "      <td>1597380847</td>\n",
       "      <td>10944546</td>\n",
       "      <td>Château Vignau - Chemin de Couhins</td>\n",
       "      <td>226</td>\n",
       "      <td>226</td>\n",
       "      <td>1431.800</td>\n",
       "      <td>NaN</td>\n",
       "      <td>84.4</td>\n",
       "      <td>-0.6</td>\n",
       "      <td>...</td>\n",
       "      <td>0</td>\n",
       "      <td>155.2</td>\n",
       "      <td>186.0</td>\n",
       "      <td>12:56:14</td>\n",
       "      <td>2018-05-26</td>\n",
       "      <td>0</td>\n",
       "      <td>0</td>\n",
       "      <td>0.00</td>\n",
       "      <td>0.0</td>\n",
       "      <td>1462018</td>\n",
       "    </tr>\n",
       "    <tr>\n",
       "      <th>1939</th>\n",
       "      <td>3997309</td>\n",
       "      <td>1597380847</td>\n",
       "      <td>10944546</td>\n",
       "      <td>CouhinsBerg</td>\n",
       "      <td>55</td>\n",
       "      <td>55</td>\n",
       "      <td>278.000</td>\n",
       "      <td>NaN</td>\n",
       "      <td>235.7</td>\n",
       "      <td>4.7</td>\n",
       "      <td>...</td>\n",
       "      <td>0</td>\n",
       "      <td>174.9</td>\n",
       "      <td>186.0</td>\n",
       "      <td>12:58:59</td>\n",
       "      <td>2018-05-26</td>\n",
       "      <td>0</td>\n",
       "      <td>0</td>\n",
       "      <td>0.00</td>\n",
       "      <td>0.0</td>\n",
       "      <td>1462018</td>\n",
       "    </tr>\n",
       "  </tbody>\n",
       "</table>\n",
       "<p>1561 rows × 21 columns</p>\n",
       "</div>"
      ],
      "text/plain": [
       "            id  activity_id  athlete_id  \\\n",
       "0     24674235   4831255939    10944546   \n",
       "1     27141377   4831057316    10944546   \n",
       "27    27180136   4801436758    10944546   \n",
       "28    21748007   4801436758    10944546   \n",
       "29    27207377   4801436758    10944546   \n",
       "...        ...          ...         ...   \n",
       "1935  17782861   1597380847    10944546   \n",
       "1936   3654728   1597380847    10944546   \n",
       "1937   3752963   1597380847    10944546   \n",
       "1938  14775448   1597380847    10944546   \n",
       "1939   3997309   1597380847    10944546   \n",
       "\n",
       "                                                   name  elapsed_time  \\\n",
       "0                                        Champs-Élysées           653   \n",
       "1     Epic KOM - Start to Bypass Intersection (Zwift...           424   \n",
       "27    Kent Rd Climb to Sprint Banner (Zwift Insider ...           176   \n",
       "28                             Yorkshire Sprint Reverse            63   \n",
       "29      Finishing Straightaway (Zwift Insider verified)            99   \n",
       "...                                                 ...           ...   \n",
       "1935                                RadarStadeMartillac            40   \n",
       "1936                     Faux plat chemin de Rochemorin            90   \n",
       "1937                                      Imitationberg           141   \n",
       "1938                 Château Vignau - Chemin de Couhins           226   \n",
       "1939                                        CouhinsBerg            55   \n",
       "\n",
       "      moving_time  distance  average_cadence  average_watts  average_grade  \\\n",
       "0             653  6623.100             82.3          202.8            0.0   \n",
       "1             424  1882.500             77.3          201.2            3.8   \n",
       "27            176  1137.300             81.4          183.4            2.6   \n",
       "28             63   394.300             79.9          182.9            2.1   \n",
       "29             99   611.100             78.4          192.3            3.3   \n",
       "...           ...       ...              ...            ...            ...   \n",
       "1935           40   303.400              NaN          189.4            1.4   \n",
       "1936           90   541.374              NaN          158.9            2.0   \n",
       "1937          141   872.000              NaN           82.3           -0.0   \n",
       "1938          226  1431.800              NaN           84.4           -0.6   \n",
       "1939           55   278.000              NaN          235.7            4.7   \n",
       "\n",
       "      ...  climb_category  average_heart_rate  max_heart_rate  start_time  \\\n",
       "0     ...               0               161.2           170.0    18:46:25   \n",
       "1     ...               0               157.9           164.0    18:19:40   \n",
       "27    ...               0               149.4           156.0    13:36:00   \n",
       "28    ...               0               153.4           156.0    13:37:53   \n",
       "29    ...               0               156.7           162.0    13:40:47   \n",
       "...   ...             ...                 ...             ...         ...   \n",
       "1935  ...               0               176.8           182.0    12:42:52   \n",
       "1936  ...               0               183.6           188.0    12:47:30   \n",
       "1937  ...               0               168.2           184.0    12:53:34   \n",
       "1938  ...               0               155.2           186.0    12:56:14   \n",
       "1939  ...               0               174.9           186.0    12:58:59   \n",
       "\n",
       "      start_date nb_activities_last_30d  type_virtualride  \\\n",
       "0     2021-02-22                      6                 1   \n",
       "1     2021-02-22                      6                 1   \n",
       "27    2021-02-17                      6                 1   \n",
       "28    2021-02-17                      6                 1   \n",
       "29    2021-02-17                      6                 1   \n",
       "...          ...                    ...               ...   \n",
       "1935  2018-05-26                      0                 0   \n",
       "1936  2018-05-26                      0                 0   \n",
       "1937  2018-05-26                      0                 0   \n",
       "1938  2018-05-26                      0                 0   \n",
       "1939  2018-05-26                      0                 0   \n",
       "\n",
       "      time_virtual_last_30d  time_real_last_30d  calendar_day  \n",
       "0                    213.85               101.4       0532021  \n",
       "1                    213.85               101.4       0532021  \n",
       "27                   254.98                 0.0       0482021  \n",
       "28                   254.98                 0.0       0482021  \n",
       "29                   254.98                 0.0       0482021  \n",
       "...                     ...                 ...           ...  \n",
       "1935                   0.00                 0.0       1462018  \n",
       "1936                   0.00                 0.0       1462018  \n",
       "1937                   0.00                 0.0       1462018  \n",
       "1938                   0.00                 0.0       1462018  \n",
       "1939                   0.00                 0.0       1462018  \n",
       "\n",
       "[1561 rows x 21 columns]"
      ]
     },
     "execution_count": 11,
     "metadata": {},
     "output_type": "execute_result"
    }
   ],
   "source": [
    "train_set = segments_df.drop(test_set_index)\n",
    "train_set"
   ]
  },
  {
   "cell_type": "code",
   "execution_count": 12,
   "metadata": {},
   "outputs": [
    {
     "data": {
      "text/plain": [
       "0.804639175257732"
      ]
     },
     "execution_count": 12,
     "metadata": {},
     "output_type": "execute_result"
    }
   ],
   "source": [
    "1561/1940"
   ]
  },
  {
   "cell_type": "markdown",
   "metadata": {},
   "source": [
    "## Model"
   ]
  },
  {
   "cell_type": "code",
   "execution_count": 13,
   "metadata": {},
   "outputs": [
    {
     "data": {
      "text/html": [
       "<div>\n",
       "<style scoped>\n",
       "    .dataframe tbody tr th:only-of-type {\n",
       "        vertical-align: middle;\n",
       "    }\n",
       "\n",
       "    .dataframe tbody tr th {\n",
       "        vertical-align: top;\n",
       "    }\n",
       "\n",
       "    .dataframe thead th {\n",
       "        text-align: right;\n",
       "    }\n",
       "</style>\n",
       "<table border=\"1\" class=\"dataframe\">\n",
       "  <thead>\n",
       "    <tr style=\"text-align: right;\">\n",
       "      <th></th>\n",
       "      <th>elapsed_time</th>\n",
       "      <th>distance</th>\n",
       "      <th>average_grade</th>\n",
       "      <th>climb_category</th>\n",
       "      <th>nb_activities_last_30d</th>\n",
       "      <th>type_virtualride</th>\n",
       "      <th>time_virtual_last_30d</th>\n",
       "      <th>time_real_last_30d</th>\n",
       "    </tr>\n",
       "  </thead>\n",
       "  <tbody>\n",
       "    <tr>\n",
       "      <th>elapsed_time</th>\n",
       "      <td>1.000000</td>\n",
       "      <td>0.867961</td>\n",
       "      <td>0.179051</td>\n",
       "      <td>0.861286</td>\n",
       "      <td>-0.044467</td>\n",
       "      <td>0.296199</td>\n",
       "      <td>0.011322</td>\n",
       "      <td>-0.163704</td>\n",
       "    </tr>\n",
       "    <tr>\n",
       "      <th>distance</th>\n",
       "      <td>0.867961</td>\n",
       "      <td>1.000000</td>\n",
       "      <td>-0.100558</td>\n",
       "      <td>0.582509</td>\n",
       "      <td>0.006663</td>\n",
       "      <td>0.230796</td>\n",
       "      <td>0.055301</td>\n",
       "      <td>-0.143515</td>\n",
       "    </tr>\n",
       "    <tr>\n",
       "      <th>average_grade</th>\n",
       "      <td>0.179051</td>\n",
       "      <td>-0.100558</td>\n",
       "      <td>1.000000</td>\n",
       "      <td>0.342676</td>\n",
       "      <td>0.160506</td>\n",
       "      <td>0.534938</td>\n",
       "      <td>0.198791</td>\n",
       "      <td>-0.175962</td>\n",
       "    </tr>\n",
       "    <tr>\n",
       "      <th>climb_category</th>\n",
       "      <td>0.861286</td>\n",
       "      <td>0.582509</td>\n",
       "      <td>0.342676</td>\n",
       "      <td>1.000000</td>\n",
       "      <td>-0.073324</td>\n",
       "      <td>0.334232</td>\n",
       "      <td>-0.010541</td>\n",
       "      <td>-0.159363</td>\n",
       "    </tr>\n",
       "    <tr>\n",
       "      <th>nb_activities_last_30d</th>\n",
       "      <td>-0.044467</td>\n",
       "      <td>0.006663</td>\n",
       "      <td>0.160506</td>\n",
       "      <td>-0.073324</td>\n",
       "      <td>1.000000</td>\n",
       "      <td>0.310848</td>\n",
       "      <td>0.932515</td>\n",
       "      <td>0.056579</td>\n",
       "    </tr>\n",
       "    <tr>\n",
       "      <th>type_virtualride</th>\n",
       "      <td>0.296199</td>\n",
       "      <td>0.230796</td>\n",
       "      <td>0.534938</td>\n",
       "      <td>0.334232</td>\n",
       "      <td>0.310848</td>\n",
       "      <td>1.000000</td>\n",
       "      <td>0.401503</td>\n",
       "      <td>-0.402101</td>\n",
       "    </tr>\n",
       "    <tr>\n",
       "      <th>time_virtual_last_30d</th>\n",
       "      <td>0.011322</td>\n",
       "      <td>0.055301</td>\n",
       "      <td>0.198791</td>\n",
       "      <td>-0.010541</td>\n",
       "      <td>0.932515</td>\n",
       "      <td>0.401503</td>\n",
       "      <td>1.000000</td>\n",
       "      <td>-0.216512</td>\n",
       "    </tr>\n",
       "    <tr>\n",
       "      <th>time_real_last_30d</th>\n",
       "      <td>-0.163704</td>\n",
       "      <td>-0.143515</td>\n",
       "      <td>-0.175962</td>\n",
       "      <td>-0.159363</td>\n",
       "      <td>0.056579</td>\n",
       "      <td>-0.402101</td>\n",
       "      <td>-0.216512</td>\n",
       "      <td>1.000000</td>\n",
       "    </tr>\n",
       "  </tbody>\n",
       "</table>\n",
       "</div>"
      ],
      "text/plain": [
       "                        elapsed_time  distance  average_grade  climb_category  \\\n",
       "elapsed_time                1.000000  0.867961       0.179051        0.861286   \n",
       "distance                    0.867961  1.000000      -0.100558        0.582509   \n",
       "average_grade               0.179051 -0.100558       1.000000        0.342676   \n",
       "climb_category              0.861286  0.582509       0.342676        1.000000   \n",
       "nb_activities_last_30d     -0.044467  0.006663       0.160506       -0.073324   \n",
       "type_virtualride            0.296199  0.230796       0.534938        0.334232   \n",
       "time_virtual_last_30d       0.011322  0.055301       0.198791       -0.010541   \n",
       "time_real_last_30d         -0.163704 -0.143515      -0.175962       -0.159363   \n",
       "\n",
       "                        nb_activities_last_30d  type_virtualride  \\\n",
       "elapsed_time                         -0.044467          0.296199   \n",
       "distance                              0.006663          0.230796   \n",
       "average_grade                         0.160506          0.534938   \n",
       "climb_category                       -0.073324          0.334232   \n",
       "nb_activities_last_30d                1.000000          0.310848   \n",
       "type_virtualride                      0.310848          1.000000   \n",
       "time_virtual_last_30d                 0.932515          0.401503   \n",
       "time_real_last_30d                    0.056579         -0.402101   \n",
       "\n",
       "                        time_virtual_last_30d  time_real_last_30d  \n",
       "elapsed_time                         0.011322           -0.163704  \n",
       "distance                             0.055301           -0.143515  \n",
       "average_grade                        0.198791           -0.175962  \n",
       "climb_category                      -0.010541           -0.159363  \n",
       "nb_activities_last_30d               0.932515            0.056579  \n",
       "type_virtualride                     0.401503           -0.402101  \n",
       "time_virtual_last_30d                1.000000           -0.216512  \n",
       "time_real_last_30d                  -0.216512            1.000000  "
      ]
     },
     "execution_count": 13,
     "metadata": {},
     "output_type": "execute_result"
    }
   ],
   "source": [
    "columns = ['elapsed_time','distance','average_grade','climb_category','nb_activities_last_30d','type_virtualride','time_virtual_last_30d','time_real_last_30d']\n",
    "corrmat = train_set[columns].corr()\n",
    "corrmat"
   ]
  },
  {
   "cell_type": "code",
   "execution_count": 14,
   "metadata": {},
   "outputs": [],
   "source": [
    "columns = ['elapsed_time','distance','climb_category','type_virtualride','time_virtual_last_30d','time_real_last_30d']\n",
    "# columns = ['elapsed_time','distance','average_grade']\n",
    "train_set = train_set[columns]\n",
    "test_set = test_set[columns]"
   ]
  },
  {
   "cell_type": "code",
   "execution_count": 15,
   "metadata": {},
   "outputs": [
    {
     "name": "stdout",
     "output_type": "stream",
     "text": [
      "(1561,)\n",
      "(1561, 5)\n",
      "(379,)\n",
      "(379, 5)\n"
     ]
    }
   ],
   "source": [
    "y_train = train_set[\"elapsed_time\"]\n",
    "X_train = train_set.drop(\"elapsed_time\", axis=1)\n",
    "y_test  = test_set[\"elapsed_time\"]\n",
    "X_test = test_set.drop(\"elapsed_time\", axis=1)\n",
    "\n",
    "\n",
    "print(y_train.shape)\n",
    "print(X_train.shape)\n",
    "print(y_test.shape)\n",
    "print(X_test.shape)"
   ]
  },
  {
   "cell_type": "markdown",
   "metadata": {},
   "source": [
    "**Log Label**"
   ]
  },
  {
   "cell_type": "code",
   "execution_count": 16,
   "metadata": {},
   "outputs": [
    {
     "data": {
      "text/plain": [
       "<seaborn.axisgrid.FacetGrid at 0x273bb082390>"
      ]
     },
     "execution_count": 16,
     "metadata": {},
     "output_type": "execute_result"
    },
    {
     "data": {
      "image/png": "[encoded data removed]",
      "text/plain": [
       "<Figure size 360x360 with 1 Axes>"
      ]
     },
     "metadata": {},
     "output_type": "display_data"
    }
   ],
   "source": [
    "sns.displot(y_train)"
   ]
  },
  {
   "cell_type": "code",
   "execution_count": 17,
   "metadata": {},
   "outputs": [
    {
     "data": {
      "text/plain": [
       "<seaborn.axisgrid.FacetGrid at 0x273b98d20b8>"
      ]
     },
     "execution_count": 17,
     "metadata": {},
     "output_type": "execute_result"
    },
    {
     "data": {
      "image/png": "[encoded data removed]",
      "text/plain": [
       "<Figure size 360x360 with 1 Axes>"
      ]
     },
     "metadata": {},
     "output_type": "display_data"
    }
   ],
   "source": [
    "sns.displot(np.log(y_train))"
   ]
  },
  {
   "cell_type": "code",
   "execution_count": 18,
   "metadata": {},
   "outputs": [],
   "source": [
    "y_train_log = np.log(y_train)"
   ]
  },
  {
   "cell_type": "markdown",
   "metadata": {},
   "source": [
    "## Scaler ##"
   ]
  },
  {
   "cell_type": "code",
   "execution_count": 19,
   "metadata": {},
   "outputs": [],
   "source": [
    "# standard_scaler = StandardScaler()"
   ]
  },
  {
   "cell_type": "code",
   "execution_count": 20,
   "metadata": {},
   "outputs": [],
   "source": [
    "# standard_scaler.fit(X_train)"
   ]
  },
  {
   "cell_type": "code",
   "execution_count": 21,
   "metadata": {},
   "outputs": [],
   "source": [
    "# X_train_scaled = standard_scaler.transform(X_train)\n",
    "# X_test_scaled = standard_scaler.transform(X_test)"
   ]
  },
  {
   "cell_type": "markdown",
   "metadata": {},
   "source": [
    "#### Algos"
   ]
  },
  {
   "cell_type": "code",
   "execution_count": 22,
   "metadata": {},
   "outputs": [],
   "source": [
    "reg = LinearRegression()\n",
    "reg.fit(X_train,y_train_log)\n",
    "y_pred_reg_log = reg.predict(X_test)"
   ]
  },
  {
   "cell_type": "code",
   "execution_count": 23,
   "metadata": {},
   "outputs": [],
   "source": [
    "xgb_reg = xgb.XGBRegressor()\n",
    "xgb_reg.fit(X_train,y_train_log)\n",
    "y_pred_xgb_log = xgb_reg.predict(X_test)"
   ]
  },
  {
   "cell_type": "code",
   "execution_count": 24,
   "metadata": {},
   "outputs": [
    {
     "name": "stdout",
     "output_type": "stream",
     "text": [
      "mae_reg : 288.6341053290749\n",
      "mape_reg : 0.8751296286903119\n",
      "rmse_reg: 735.5823112768717\n"
     ]
    }
   ],
   "source": [
    "mae_reg = mean_absolute_error(y_test,np.exp(y_pred_reg_log))\n",
    "mape_reg = mean_absolute_percentage_error(y_test, np.exp(y_pred_reg_log))\n",
    "rmse_reg  = np.sqrt(mean_squared_error(y_test,np.exp(y_pred_reg_log)))\n",
    "print(f'mae_reg : {mae_reg}')\n",
    "print(f'mape_reg : {mape_reg}')\n",
    "print(f'rmse_reg: {rmse_reg}')"
   ]
  },
  {
   "cell_type": "code",
   "execution_count": 25,
   "metadata": {},
   "outputs": [
    {
     "name": "stdout",
     "output_type": "stream",
     "text": [
      "mae_xgb : 76.03302989849\n",
      "mape_xgb: 0.19644492954755122\n",
      "rmse_xgb: 138.48119610213655\n"
     ]
    }
   ],
   "source": [
    "mae_xgb = mean_absolute_error(y_test,np.exp(y_pred_xgb_log))\n",
    "mape_xgb = mean_absolute_percentage_error(y_test, np.exp(y_pred_xgb_log))\n",
    "rmse_xgb  = np.sqrt(mean_squared_error(y_test,np.exp(y_pred_xgb_log)))\n",
    "print(f'mae_xgb : {mae_xgb}')\n",
    "print(f'mape_xgb: {mape_xgb}')\n",
    "print(f'rmse_xgb: {rmse_xgb}')"
   ]
  },
  {
   "cell_type": "code",
   "execution_count": 26,
   "metadata": {},
   "outputs": [
    {
     "data": {
      "image/png": "[encoded data removed]",
      "text/plain": [
       "<Figure size 432x288 with 1 Axes>"
      ]
     },
     "metadata": {},
     "output_type": "display_data"
    }
   ],
   "source": [
    "xgb.plot_importance(xgb_reg)\n",
    "plt.rcParams['figure.figsize'] = [15, 5]\n",
    "plt.show()"
   ]
  },
  {
   "cell_type": "code",
   "execution_count": null,
   "metadata": {},
   "outputs": [],
   "source": [
    "data = {\n",
    "    'MAE':[mae_naive,mae_reg,mae_xgb],\n",
    "    'MAPE':[mape_naive,mape_reg,mape_xgb],\n",
    "    'RMSE':[rmse_naive,rmse_reg,rmse_xgb]\n",
    "}\n",
    "\n",
    "comparaison_df = pd.DataFrame(data, index=['naive','linreg','xgbreg'])\n",
    "comparaison_df.sort_values(by=['MAPE'])"
   ]
  },
  {
   "cell_type": "markdown",
   "metadata": {},
   "source": [
    "### 50 biggests Errors Pred XGB"
   ]
  },
  {
   "cell_type": "code",
   "execution_count": null,
   "metadata": {},
   "outputs": [],
   "source": [
    "test_set['pred'] = np.exp(y_pred_xgb_log)\n",
    "test_set['error_pred'] = abs(test_set['pred'] - test_set['elapsed_time'])\n",
    "biggest_errors = test_set.sort_values(by=['error_pred'], ascending=False).head(50)"
   ]
  },
  {
   "cell_type": "code",
   "execution_count": null,
   "metadata": {
    "scrolled": true
   },
   "outputs": [],
   "source": [
    "segments_df.loc[biggest_errors.index]"
   ]
  },
  {
   "cell_type": "markdown",
   "metadata": {},
   "source": [
    "### Prediction Alpe d'huez"
   ]
  },
  {
   "cell_type": "code",
   "execution_count": 27,
   "metadata": {},
   "outputs": [
    {
     "data": {
      "text/html": [
       "<div>\n",
       "<style scoped>\n",
       "    .dataframe tbody tr th:only-of-type {\n",
       "        vertical-align: middle;\n",
       "    }\n",
       "\n",
       "    .dataframe tbody tr th {\n",
       "        vertical-align: top;\n",
       "    }\n",
       "\n",
       "    .dataframe thead th {\n",
       "        text-align: right;\n",
       "    }\n",
       "</style>\n",
       "<table border=\"1\" class=\"dataframe\">\n",
       "  <thead>\n",
       "    <tr style=\"text-align: right;\">\n",
       "      <th></th>\n",
       "      <th>distance</th>\n",
       "      <th>altitude_gain</th>\n",
       "      <th>average_grade</th>\n",
       "      <th>all_points</th>\n",
       "    </tr>\n",
       "  </thead>\n",
       "  <tbody>\n",
       "    <tr>\n",
       "      <th>0</th>\n",
       "      <td>270.55</td>\n",
       "      <td>-0.80</td>\n",
       "      <td>-0.30</td>\n",
       "      <td>[[45.05476, 6.031770000000001], [45.0547500000...</td>\n",
       "    </tr>\n",
       "    <tr>\n",
       "      <th>1</th>\n",
       "      <td>422.22</td>\n",
       "      <td>4.33</td>\n",
       "      <td>1.03</td>\n",
       "      <td>[[45.056370001328915, 6.034199995890939], [45....</td>\n",
       "    </tr>\n",
       "    <tr>\n",
       "      <th>2</th>\n",
       "      <td>427.89</td>\n",
       "      <td>-5.51</td>\n",
       "      <td>-1.29</td>\n",
       "      <td>[[45.059050000000006, 6.0379000000000005], [45...</td>\n",
       "    </tr>\n",
       "    <tr>\n",
       "      <th>3</th>\n",
       "      <td>12615.51</td>\n",
       "      <td>1063.27</td>\n",
       "      <td>8.43</td>\n",
       "      <td>[[45.062720000000006, 6.03701], [45.0628500000...</td>\n",
       "    </tr>\n",
       "  </tbody>\n",
       "</table>\n",
       "</div>"
      ],
      "text/plain": [
       "   distance  altitude_gain  average_grade  \\\n",
       "0    270.55          -0.80          -0.30   \n",
       "1    422.22           4.33           1.03   \n",
       "2    427.89          -5.51          -1.29   \n",
       "3  12615.51        1063.27           8.43   \n",
       "\n",
       "                                          all_points  \n",
       "0  [[45.05476, 6.031770000000001], [45.0547500000...  \n",
       "1  [[45.056370001328915, 6.034199995890939], [45....  \n",
       "2  [[45.059050000000006, 6.0379000000000005], [45...  \n",
       "3  [[45.062720000000006, 6.03701], [45.0628500000...  "
      ]
     },
     "execution_count": 27,
     "metadata": {},
     "output_type": "execute_result"
    }
   ],
   "source": [
    "query = {\n",
    "    \"query\": {\n",
    "        \"match\": {\n",
    "            \"_id\": 2787335981548134218\n",
    "        }\n",
    "    }\n",
    "}\n",
    "\n",
    "result = database.search(\n",
    "    index=\"index_route\",\n",
    "    size=1000,\n",
    "    body= query\n",
    ")\n",
    "\n",
    "route_alpe = result['hits']['hits'][0]['_source']\n",
    "segments_alpe = route_alpe.get(\"segmentation\")\n",
    "segments_alpe_df = pd.DataFrame(segments_alpe)\n",
    "segments_alpe_df"
   ]
  },
  {
   "cell_type": "markdown",
   "metadata": {},
   "source": [
    "**Time Activities last 30d**"
   ]
  },
  {
   "cell_type": "code",
   "execution_count": 28,
   "metadata": {},
   "outputs": [],
   "source": [
    "today = date.today()\n",
    "end_date = today - timedelta(days=1)\n",
    "start_date = end_date - timedelta(days=30)"
   ]
  },
  {
   "cell_type": "code",
   "execution_count": 38,
   "metadata": {},
   "outputs": [],
   "source": [
    "activities_last_30d = activities_df[activities_df['start_date'].between(start_date,end_date)]\n",
    "nb_activities_last_30d = len(activities_last_30d)\n",
    "time_virtual_last_30d = round((activities_last_30d.loc[activities_last_30d['type'] == 'VirtualRide']['elapsed_time'].sum() / 60),2)\n",
    "time_real_last_30d = round((activities_last_30d.loc[activities_last_30d['type'] == 'Ride']['elapsed_time'].sum() / 60),2)"
   ]
  },
  {
   "cell_type": "code",
   "execution_count": 39,
   "metadata": {},
   "outputs": [
    {
     "data": {
      "text/html": [
       "<div>\n",
       "<style scoped>\n",
       "    .dataframe tbody tr th:only-of-type {\n",
       "        vertical-align: middle;\n",
       "    }\n",
       "\n",
       "    .dataframe tbody tr th {\n",
       "        vertical-align: top;\n",
       "    }\n",
       "\n",
       "    .dataframe thead th {\n",
       "        text-align: right;\n",
       "    }\n",
       "</style>\n",
       "<table border=\"1\" class=\"dataframe\">\n",
       "  <thead>\n",
       "    <tr style=\"text-align: right;\">\n",
       "      <th></th>\n",
       "      <th>distance</th>\n",
       "      <th>altitude_gain</th>\n",
       "      <th>average_grade</th>\n",
       "      <th>all_points</th>\n",
       "      <th>time_virtual_last_30d</th>\n",
       "      <th>time_real_last_30d</th>\n",
       "    </tr>\n",
       "  </thead>\n",
       "  <tbody>\n",
       "    <tr>\n",
       "      <th>0</th>\n",
       "      <td>270.55</td>\n",
       "      <td>-0.80</td>\n",
       "      <td>-0.30</td>\n",
       "      <td>[[45.05476, 6.031770000000001], [45.0547500000...</td>\n",
       "      <td>255.7</td>\n",
       "      <td>101.4</td>\n",
       "    </tr>\n",
       "    <tr>\n",
       "      <th>1</th>\n",
       "      <td>422.22</td>\n",
       "      <td>4.33</td>\n",
       "      <td>1.03</td>\n",
       "      <td>[[45.056370001328915, 6.034199995890939], [45....</td>\n",
       "      <td>255.7</td>\n",
       "      <td>101.4</td>\n",
       "    </tr>\n",
       "    <tr>\n",
       "      <th>2</th>\n",
       "      <td>427.89</td>\n",
       "      <td>-5.51</td>\n",
       "      <td>-1.29</td>\n",
       "      <td>[[45.059050000000006, 6.0379000000000005], [45...</td>\n",
       "      <td>255.7</td>\n",
       "      <td>101.4</td>\n",
       "    </tr>\n",
       "    <tr>\n",
       "      <th>3</th>\n",
       "      <td>12615.51</td>\n",
       "      <td>1063.27</td>\n",
       "      <td>8.43</td>\n",
       "      <td>[[45.062720000000006, 6.03701], [45.0628500000...</td>\n",
       "      <td>255.7</td>\n",
       "      <td>101.4</td>\n",
       "    </tr>\n",
       "  </tbody>\n",
       "</table>\n",
       "</div>"
      ],
      "text/plain": [
       "   distance  altitude_gain  average_grade  \\\n",
       "0    270.55          -0.80          -0.30   \n",
       "1    422.22           4.33           1.03   \n",
       "2    427.89          -5.51          -1.29   \n",
       "3  12615.51        1063.27           8.43   \n",
       "\n",
       "                                          all_points  time_virtual_last_30d  \\\n",
       "0  [[45.05476, 6.031770000000001], [45.0547500000...                  255.7   \n",
       "1  [[45.056370001328915, 6.034199995890939], [45....                  255.7   \n",
       "2  [[45.059050000000006, 6.0379000000000005], [45...                  255.7   \n",
       "3  [[45.062720000000006, 6.03701], [45.0628500000...                  255.7   \n",
       "\n",
       "   time_real_last_30d  \n",
       "0               101.4  \n",
       "1               101.4  \n",
       "2               101.4  \n",
       "3               101.4  "
      ]
     },
     "execution_count": 39,
     "metadata": {},
     "output_type": "execute_result"
    }
   ],
   "source": [
    "# segments_alpe_df['nb_activities_last_30d'] = nb_activities_last_30d\n",
    "segments_alpe_df['time_virtual_last_30d'] = time_virtual_last_30d\n",
    "segments_alpe_df['time_real_last_30d'] = time_real_last_30d\n",
    "segments_alpe_df"
   ]
  },
  {
   "cell_type": "markdown",
   "metadata": {},
   "source": [
    "**Home Trainer**"
   ]
  },
  {
   "cell_type": "code",
   "execution_count": 66,
   "metadata": {},
   "outputs": [
    {
     "data": {
      "text/html": [
       "<div>\n",
       "<style scoped>\n",
       "    .dataframe tbody tr th:only-of-type {\n",
       "        vertical-align: middle;\n",
       "    }\n",
       "\n",
       "    .dataframe tbody tr th {\n",
       "        vertical-align: top;\n",
       "    }\n",
       "\n",
       "    .dataframe thead th {\n",
       "        text-align: right;\n",
       "    }\n",
       "</style>\n",
       "<table border=\"1\" class=\"dataframe\">\n",
       "  <thead>\n",
       "    <tr style=\"text-align: right;\">\n",
       "      <th></th>\n",
       "      <th>distance</th>\n",
       "      <th>altitude_gain</th>\n",
       "      <th>average_grade</th>\n",
       "      <th>all_points</th>\n",
       "      <th>time_virtual_last_30d</th>\n",
       "      <th>time_real_last_30d</th>\n",
       "      <th>type_virtualride</th>\n",
       "      <th>climb_category</th>\n",
       "    </tr>\n",
       "  </thead>\n",
       "  <tbody>\n",
       "    <tr>\n",
       "      <th>0</th>\n",
       "      <td>270.55</td>\n",
       "      <td>-0.80</td>\n",
       "      <td>-0.30</td>\n",
       "      <td>[[45.05476, 6.031770000000001], [45.0547500000...</td>\n",
       "      <td>255.7</td>\n",
       "      <td>101.4</td>\n",
       "      <td>0</td>\n",
       "      <td>0</td>\n",
       "    </tr>\n",
       "    <tr>\n",
       "      <th>1</th>\n",
       "      <td>422.22</td>\n",
       "      <td>4.33</td>\n",
       "      <td>1.03</td>\n",
       "      <td>[[45.056370001328915, 6.034199995890939], [45....</td>\n",
       "      <td>255.7</td>\n",
       "      <td>101.4</td>\n",
       "      <td>0</td>\n",
       "      <td>0</td>\n",
       "    </tr>\n",
       "    <tr>\n",
       "      <th>2</th>\n",
       "      <td>427.89</td>\n",
       "      <td>-5.51</td>\n",
       "      <td>-1.29</td>\n",
       "      <td>[[45.059050000000006, 6.0379000000000005], [45...</td>\n",
       "      <td>255.7</td>\n",
       "      <td>101.4</td>\n",
       "      <td>0</td>\n",
       "      <td>0</td>\n",
       "    </tr>\n",
       "    <tr>\n",
       "      <th>3</th>\n",
       "      <td>12615.51</td>\n",
       "      <td>1063.27</td>\n",
       "      <td>8.43</td>\n",
       "      <td>[[45.062720000000006, 6.03701], [45.0628500000...</td>\n",
       "      <td>255.7</td>\n",
       "      <td>101.4</td>\n",
       "      <td>0</td>\n",
       "      <td>5</td>\n",
       "    </tr>\n",
       "  </tbody>\n",
       "</table>\n",
       "</div>"
      ],
      "text/plain": [
       "   distance  altitude_gain  average_grade  \\\n",
       "0    270.55          -0.80          -0.30   \n",
       "1    422.22           4.33           1.03   \n",
       "2    427.89          -5.51          -1.29   \n",
       "3  12615.51        1063.27           8.43   \n",
       "\n",
       "                                          all_points  time_virtual_last_30d  \\\n",
       "0  [[45.05476, 6.031770000000001], [45.0547500000...                  255.7   \n",
       "1  [[45.056370001328915, 6.034199995890939], [45....                  255.7   \n",
       "2  [[45.059050000000006, 6.0379000000000005], [45...                  255.7   \n",
       "3  [[45.062720000000006, 6.03701], [45.0628500000...                  255.7   \n",
       "\n",
       "   time_real_last_30d  type_virtualride  climb_category  \n",
       "0               101.4                 0               0  \n",
       "1               101.4                 0               0  \n",
       "2               101.4                 0               0  \n",
       "3               101.4                 0               5  "
      ]
     },
     "execution_count": 66,
     "metadata": {},
     "output_type": "execute_result"
    }
   ],
   "source": [
    "segments_alpe_df['type_virtualride'] = 0\n",
    "segments_alpe_df"
   ]
  },
  {
   "cell_type": "markdown",
   "metadata": {},
   "source": [
    "**Climb Category**"
   ]
  },
  {
   "cell_type": "code",
   "execution_count": 67,
   "metadata": {},
   "outputs": [
    {
     "data": {
      "text/plain": [
       "[0, 0, 0, 5]"
      ]
     },
     "execution_count": 67,
     "metadata": {},
     "output_type": "execute_result"
    }
   ],
   "source": [
    "climb_category = []\n",
    "for average_grade, distance in zip(segments_alpe_df['average_grade'],segments_alpe_df['distance']):\n",
    "    result = average_grade * distance\n",
    "    if result <= 8000:\n",
    "        climb_cat = 0\n",
    "    elif result > 8000 and result <= 16000:\n",
    "        climb_cat = 4\n",
    "    elif result > 16000 and result <= 32000:\n",
    "        climb_cat = 3\n",
    "    elif result > 32000 and result <= 64000:\n",
    "        climb_cat = 2\n",
    "    elif result > 64000 and result <= 80000:\n",
    "        climb_cat = 1\n",
    "    elif result > 80000:\n",
    "        climb_cat = 5\n",
    "    climb_category.append(climb_cat)\n",
    "climb_category"
   ]
  },
  {
   "cell_type": "code",
   "execution_count": 68,
   "metadata": {},
   "outputs": [
    {
     "data": {
      "text/html": [
       "<div>\n",
       "<style scoped>\n",
       "    .dataframe tbody tr th:only-of-type {\n",
       "        vertical-align: middle;\n",
       "    }\n",
       "\n",
       "    .dataframe tbody tr th {\n",
       "        vertical-align: top;\n",
       "    }\n",
       "\n",
       "    .dataframe thead th {\n",
       "        text-align: right;\n",
       "    }\n",
       "</style>\n",
       "<table border=\"1\" class=\"dataframe\">\n",
       "  <thead>\n",
       "    <tr style=\"text-align: right;\">\n",
       "      <th></th>\n",
       "      <th>distance</th>\n",
       "      <th>altitude_gain</th>\n",
       "      <th>average_grade</th>\n",
       "      <th>all_points</th>\n",
       "      <th>time_virtual_last_30d</th>\n",
       "      <th>time_real_last_30d</th>\n",
       "      <th>type_virtualride</th>\n",
       "      <th>climb_category</th>\n",
       "    </tr>\n",
       "  </thead>\n",
       "  <tbody>\n",
       "    <tr>\n",
       "      <th>0</th>\n",
       "      <td>270.55</td>\n",
       "      <td>-0.80</td>\n",
       "      <td>-0.30</td>\n",
       "      <td>[[45.05476, 6.031770000000001], [45.0547500000...</td>\n",
       "      <td>255.7</td>\n",
       "      <td>101.4</td>\n",
       "      <td>0</td>\n",
       "      <td>0</td>\n",
       "    </tr>\n",
       "    <tr>\n",
       "      <th>1</th>\n",
       "      <td>422.22</td>\n",
       "      <td>4.33</td>\n",
       "      <td>1.03</td>\n",
       "      <td>[[45.056370001328915, 6.034199995890939], [45....</td>\n",
       "      <td>255.7</td>\n",
       "      <td>101.4</td>\n",
       "      <td>0</td>\n",
       "      <td>0</td>\n",
       "    </tr>\n",
       "    <tr>\n",
       "      <th>2</th>\n",
       "      <td>427.89</td>\n",
       "      <td>-5.51</td>\n",
       "      <td>-1.29</td>\n",
       "      <td>[[45.059050000000006, 6.0379000000000005], [45...</td>\n",
       "      <td>255.7</td>\n",
       "      <td>101.4</td>\n",
       "      <td>0</td>\n",
       "      <td>0</td>\n",
       "    </tr>\n",
       "    <tr>\n",
       "      <th>3</th>\n",
       "      <td>12615.51</td>\n",
       "      <td>1063.27</td>\n",
       "      <td>8.43</td>\n",
       "      <td>[[45.062720000000006, 6.03701], [45.0628500000...</td>\n",
       "      <td>255.7</td>\n",
       "      <td>101.4</td>\n",
       "      <td>0</td>\n",
       "      <td>5</td>\n",
       "    </tr>\n",
       "  </tbody>\n",
       "</table>\n",
       "</div>"
      ],
      "text/plain": [
       "   distance  altitude_gain  average_grade  \\\n",
       "0    270.55          -0.80          -0.30   \n",
       "1    422.22           4.33           1.03   \n",
       "2    427.89          -5.51          -1.29   \n",
       "3  12615.51        1063.27           8.43   \n",
       "\n",
       "                                          all_points  time_virtual_last_30d  \\\n",
       "0  [[45.05476, 6.031770000000001], [45.0547500000...                  255.7   \n",
       "1  [[45.056370001328915, 6.034199995890939], [45....                  255.7   \n",
       "2  [[45.059050000000006, 6.0379000000000005], [45...                  255.7   \n",
       "3  [[45.062720000000006, 6.03701], [45.0628500000...                  255.7   \n",
       "\n",
       "   time_real_last_30d  type_virtualride  climb_category  \n",
       "0               101.4                 0               0  \n",
       "1               101.4                 0               0  \n",
       "2               101.4                 0               0  \n",
       "3               101.4                 0               5  "
      ]
     },
     "execution_count": 68,
     "metadata": {},
     "output_type": "execute_result"
    }
   ],
   "source": [
    "segments_alpe_df['climb_category'] = climb_category\n",
    "segments_alpe_df"
   ]
  },
  {
   "cell_type": "markdown",
   "metadata": {},
   "source": [
    "**Prediction**"
   ]
  },
  {
   "cell_type": "code",
   "execution_count": 69,
   "metadata": {},
   "outputs": [
    {
     "data": {
      "text/html": [
       "<div>\n",
       "<style scoped>\n",
       "    .dataframe tbody tr th:only-of-type {\n",
       "        vertical-align: middle;\n",
       "    }\n",
       "\n",
       "    .dataframe tbody tr th {\n",
       "        vertical-align: top;\n",
       "    }\n",
       "\n",
       "    .dataframe thead th {\n",
       "        text-align: right;\n",
       "    }\n",
       "</style>\n",
       "<table border=\"1\" class=\"dataframe\">\n",
       "  <thead>\n",
       "    <tr style=\"text-align: right;\">\n",
       "      <th></th>\n",
       "      <th>distance</th>\n",
       "      <th>climb_category</th>\n",
       "      <th>type_virtualride</th>\n",
       "      <th>time_virtual_last_30d</th>\n",
       "      <th>time_real_last_30d</th>\n",
       "    </tr>\n",
       "  </thead>\n",
       "  <tbody>\n",
       "    <tr>\n",
       "      <th>0</th>\n",
       "      <td>270.55</td>\n",
       "      <td>0</td>\n",
       "      <td>0</td>\n",
       "      <td>255.7</td>\n",
       "      <td>101.4</td>\n",
       "    </tr>\n",
       "    <tr>\n",
       "      <th>1</th>\n",
       "      <td>422.22</td>\n",
       "      <td>0</td>\n",
       "      <td>0</td>\n",
       "      <td>255.7</td>\n",
       "      <td>101.4</td>\n",
       "    </tr>\n",
       "    <tr>\n",
       "      <th>2</th>\n",
       "      <td>427.89</td>\n",
       "      <td>0</td>\n",
       "      <td>0</td>\n",
       "      <td>255.7</td>\n",
       "      <td>101.4</td>\n",
       "    </tr>\n",
       "    <tr>\n",
       "      <th>3</th>\n",
       "      <td>12615.51</td>\n",
       "      <td>5</td>\n",
       "      <td>0</td>\n",
       "      <td>255.7</td>\n",
       "      <td>101.4</td>\n",
       "    </tr>\n",
       "  </tbody>\n",
       "</table>\n",
       "</div>"
      ],
      "text/plain": [
       "   distance  climb_category  type_virtualride  time_virtual_last_30d  \\\n",
       "0    270.55               0                 0                  255.7   \n",
       "1    422.22               0                 0                  255.7   \n",
       "2    427.89               0                 0                  255.7   \n",
       "3  12615.51               5                 0                  255.7   \n",
       "\n",
       "   time_real_last_30d  \n",
       "0               101.4  \n",
       "1               101.4  \n",
       "2               101.4  \n",
       "3               101.4  "
      ]
     },
     "execution_count": 69,
     "metadata": {},
     "output_type": "execute_result"
    }
   ],
   "source": [
    "cols_to_predict = ['distance','climb_category','type_virtualride','time_virtual_last_30d','time_real_last_30d']\n",
    "datas = segments_alpe_df[cols_to_predict]\n",
    "datas"
   ]
  },
  {
   "cell_type": "code",
   "execution_count": 70,
   "metadata": {},
   "outputs": [
    {
     "data": {
      "text/plain": [
       "relativedelta(hours=+1, minutes=+38, seconds=+21.3988)"
      ]
     },
     "execution_count": 70,
     "metadata": {},
     "output_type": "execute_result"
    }
   ],
   "source": [
    "alpe_pred_reg = reg.predict(datas)\n",
    "elapsed_time_reg = relativedelta(seconds=(np.exp(alpe_pred_reg)).sum())\n",
    "elapsed_time_reg"
   ]
  },
  {
   "cell_type": "code",
   "execution_count": 71,
   "metadata": {},
   "outputs": [
    {
     "data": {
      "text/plain": [
       "relativedelta(hours=+1, minutes=+11, seconds=+32.6553)"
      ]
     },
     "execution_count": 71,
     "metadata": {},
     "output_type": "execute_result"
    }
   ],
   "source": [
    "alpe_pred_xgb = xgb_reg.predict(datas)\n",
    "elapsed_time_xgb = relativedelta(seconds=(np.exp(alpe_pred_xgb)).sum())\n",
    "elapsed_time_xgb"
   ]
  },
  {
   "cell_type": "code",
   "execution_count": 72,
   "metadata": {},
   "outputs": [
    {
     "data": {
      "text/plain": [
       "relativedelta(minutes=+38, seconds=+32.1867)"
      ]
     },
     "execution_count": 72,
     "metadata": {},
     "output_type": "execute_result"
    }
   ],
   "source": [
    "elapsed_time_naive"
   ]
  },
  {
   "cell_type": "code",
   "execution_count": 73,
   "metadata": {},
   "outputs": [],
   "source": [
    "def format_hms_relativedelta(relative_delta):\n",
    "    hour = int(relative_delta.hours)\n",
    "    minutes = int(relative_delta.minutes)\n",
    "    seconds = int(relative_delta.seconds)\n",
    "    print(f'Prediction {hour}h{minutes}m{seconds}sec')\n",
    "    return f'{hour}h{minutes}m{seconds}sec'"
   ]
  },
  {
   "cell_type": "code",
   "execution_count": 74,
   "metadata": {},
   "outputs": [],
   "source": [
    "def compute_kmh(time,distance):\n",
    "    return (distance/time)*3.6"
   ]
  },
  {
   "cell_type": "code",
   "execution_count": 75,
   "metadata": {},
   "outputs": [],
   "source": [
    "def compute_pred_seconds(pred):\n",
    "    return round(np.exp(pred).sum(),2)"
   ]
  },
  {
   "cell_type": "code",
   "execution_count": 76,
   "metadata": {},
   "outputs": [
    {
     "data": {
      "text/plain": [
       "13736.17"
      ]
     },
     "execution_count": 76,
     "metadata": {},
     "output_type": "execute_result"
    }
   ],
   "source": [
    "distance = segments_alpe_df['distance'].sum()\n",
    "distance"
   ]
  },
  {
   "cell_type": "code",
   "execution_count": 77,
   "metadata": {},
   "outputs": [
    {
     "name": "stdout",
     "output_type": "stream",
     "text": [
      "Prediction 0h38m32sec\n",
      "Prediction 1h38m21sec\n",
      "Prediction 1h11m32sec\n"
     ]
    },
    {
     "data": {
      "text/html": [
       "<div>\n",
       "<style scoped>\n",
       "    .dataframe tbody tr th:only-of-type {\n",
       "        vertical-align: middle;\n",
       "    }\n",
       "\n",
       "    .dataframe tbody tr th {\n",
       "        vertical-align: top;\n",
       "    }\n",
       "\n",
       "    .dataframe thead th {\n",
       "        text-align: right;\n",
       "    }\n",
       "</style>\n",
       "<table border=\"1\" class=\"dataframe\">\n",
       "  <thead>\n",
       "    <tr style=\"text-align: right;\">\n",
       "      <th></th>\n",
       "      <th>Prediction</th>\n",
       "      <th>Mean_speed(km/h)</th>\n",
       "    </tr>\n",
       "  </thead>\n",
       "  <tbody>\n",
       "    <tr>\n",
       "      <th>naive</th>\n",
       "      <td>0h38m32sec</td>\n",
       "      <td>21.386773</td>\n",
       "    </tr>\n",
       "    <tr>\n",
       "      <th>linreg</th>\n",
       "      <td>1h38m21sec</td>\n",
       "      <td>8.379404</td>\n",
       "    </tr>\n",
       "    <tr>\n",
       "      <th>xgbreg</th>\n",
       "      <td>1h11m32sec</td>\n",
       "      <td>11.519713</td>\n",
       "    </tr>\n",
       "    <tr>\n",
       "      <th>strava</th>\n",
       "      <td>0h31m39s</td>\n",
       "      <td>26.040133</td>\n",
       "    </tr>\n",
       "  </tbody>\n",
       "</table>\n",
       "</div>"
      ],
      "text/plain": [
       "        Prediction  Mean_speed(km/h)\n",
       "naive   0h38m32sec         21.386773\n",
       "linreg  1h38m21sec          8.379404\n",
       "xgbreg  1h11m32sec         11.519713\n",
       "strava    0h31m39s         26.040133"
      ]
     },
     "execution_count": 77,
     "metadata": {},
     "output_type": "execute_result"
    }
   ],
   "source": [
    "data = {\n",
    "    'Prediction':[\n",
    "                  format_hms_relativedelta(elapsed_time_naive),\n",
    "                  format_hms_relativedelta(elapsed_time_reg),\n",
    "                  format_hms_relativedelta(elapsed_time_xgb),\n",
    "                  '0h31m39s'\n",
    "                 ],\n",
    "    'Mean_speed(km/h)':[\n",
    "                        distance / elapsed_time_pred_naive_sec * 3.6,\n",
    "                        compute_kmh(compute_pred_seconds(alpe_pred_reg),distance),\n",
    "                        compute_kmh(compute_pred_seconds(alpe_pred_xgb),distance),\n",
    "                        distance / 1899 * 3.6\n",
    "                        ]\n",
    "}\n",
    "\n",
    "comparaison_pred_df = pd.DataFrame(data, index=['naive','linreg','xgbreg','strava'])\n",
    "comparaison_pred_df"
   ]
  }
 ],
 "metadata": {
  "kernelspec": {
   "display_name": "cycling_travel_time",
   "language": "python",
   "name": "cycling_travel_time"
  },
  "language_info": {
   "codemirror_mode": {
    "name": "ipython",
    "version": 3
   },
   "file_extension": ".py",
   "mimetype": "text/x-python",
   "name": "python",
   "nbconvert_exporter": "python",
   "pygments_lexer": "ipython3",
   "version": "3.6.11"
  }
 },
 "nbformat": 4,
 "nbformat_minor": 4
}
