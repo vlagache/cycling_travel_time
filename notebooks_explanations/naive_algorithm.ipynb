{
 "cells": [
  {
   "cell_type": "code",
   "execution_count": 1,
   "metadata": {},
   "outputs": [],
   "source": [
    "import elasticsearch\n",
    "import pandas as pd\n",
    "import numpy as np\n",
    "from dateutil.relativedelta import relativedelta\n",
    "\n",
    "from sklearn.model_selection import train_test_split\n",
    "from sklearn.metrics import mean_absolute_error, mean_absolute_percentage_error, mean_squared_error"
   ]
  },
  {
   "cell_type": "markdown",
   "metadata": {},
   "source": [
    "### The goal is to make an algorithm that will serve as a baseline . The performance of the future models will have to be superior to this one."
   ]
  },
  {
   "cell_type": "code",
   "execution_count": 2,
   "metadata": {},
   "outputs": [],
   "source": [
    "hosts = [{\"host\": 'localhost', \"port\": 9200}]\n",
    "database = elasticsearch.Elasticsearch(hosts=hosts)"
   ]
  },
  {
   "cell_type": "code",
   "execution_count": 3,
   "metadata": {},
   "outputs": [],
   "source": [
    "def get_datas(database):\n",
    "    query = {\n",
    "        \"query\": {\n",
    "            \"match_all\": {}\n",
    "        }\n",
    "    }\n",
    "\n",
    "    result = database.search(\n",
    "        index=\"index_activity\",\n",
    "        size=1000,\n",
    "        body= query\n",
    "    )\n",
    "    \n",
    "    \n",
    "    activities = result['hits']['hits']\n",
    "    activities_json = [ activity.get(\"_source\") for activity in activities]\n",
    "    activities_df = pd.DataFrame(activities_json)\n",
    "    activities_df = activities_df.drop(columns=['py/object', 'segment_efforts'])\n",
    "    \n",
    "    segments_json = [ segment for activity in activities_json for segment in activity.get(\"segment_efforts\")]\n",
    "    segments_df = pd.DataFrame(segments_json)\n",
    "    segments_df = segments_df.drop(columns=['py/object'])\n",
    "    \n",
    "    return activities_df, segments_df\n",
    "\n",
    "activities_df, segments_df = get_datas(database)"
   ]
  },
  {
   "cell_type": "markdown",
   "metadata": {},
   "source": [
    "### Addition of the average speed for each of the segments"
   ]
  },
  {
   "cell_type": "code",
   "execution_count": 4,
   "metadata": {},
   "outputs": [],
   "source": [
    "segments_df['average_speed'] = segments_df['distance'] / segments_df['elapsed_time']"
   ]
  },
  {
   "cell_type": "code",
   "execution_count": 5,
   "metadata": {},
   "outputs": [
    {
     "data": {
      "text/html": [
       "<div>\n",
       "<style scoped>\n",
       "    .dataframe tbody tr th:only-of-type {\n",
       "        vertical-align: middle;\n",
       "    }\n",
       "\n",
       "    .dataframe tbody tr th {\n",
       "        vertical-align: top;\n",
       "    }\n",
       "\n",
       "    .dataframe thead th {\n",
       "        text-align: right;\n",
       "    }\n",
       "</style>\n",
       "<table border=\"1\" class=\"dataframe\">\n",
       "  <thead>\n",
       "    <tr style=\"text-align: right;\">\n",
       "      <th></th>\n",
       "      <th>id</th>\n",
       "      <th>athlete_id</th>\n",
       "      <th>name</th>\n",
       "      <th>distance</th>\n",
       "      <th>moving_time</th>\n",
       "      <th>elapsed_time</th>\n",
       "      <th>total_elevation_gain</th>\n",
       "      <th>type</th>\n",
       "      <th>start_date_local</th>\n",
       "      <th>average_speed</th>\n",
       "      <th>average_cadence</th>\n",
       "      <th>average_watts</th>\n",
       "      <th>max_watts</th>\n",
       "      <th>suffer_score</th>\n",
       "      <th>calories</th>\n",
       "      <th>average_heart_rate</th>\n",
       "      <th>max_heart_rate</th>\n",
       "    </tr>\n",
       "  </thead>\n",
       "  <tbody>\n",
       "    <tr>\n",
       "      <th>0</th>\n",
       "      <td>4637673624</td>\n",
       "      <td>10944546</td>\n",
       "      <td>Watopia</td>\n",
       "      <td>20920.4</td>\n",
       "      <td>2463</td>\n",
       "      <td>2463</td>\n",
       "      <td>199.0</td>\n",
       "      <td>VirtualRide</td>\n",
       "      <td>2021-01-17T18:05:42Z</td>\n",
       "      <td>8.494</td>\n",
       "      <td>75.4</td>\n",
       "      <td>169.7</td>\n",
       "      <td>614.0</td>\n",
       "      <td>82.0</td>\n",
       "      <td>399.0</td>\n",
       "      <td>157.9</td>\n",
       "      <td>189.0</td>\n",
       "    </tr>\n",
       "    <tr>\n",
       "      <th>1</th>\n",
       "      <td>4513379684</td>\n",
       "      <td>10944546</td>\n",
       "      <td>Villes-sur-Auzon - Monieux</td>\n",
       "      <td>22359.2</td>\n",
       "      <td>3353</td>\n",
       "      <td>3409</td>\n",
       "      <td>442.0</td>\n",
       "      <td>VirtualRide</td>\n",
       "      <td>2020-12-24T18:16:53Z</td>\n",
       "      <td>6.668</td>\n",
       "      <td>80.5</td>\n",
       "      <td>184.9</td>\n",
       "      <td>382.0</td>\n",
       "      <td>143.0</td>\n",
       "      <td>682.0</td>\n",
       "      <td>166.2</td>\n",
       "      <td>184.0</td>\n",
       "    </tr>\n",
       "    <tr>\n",
       "      <th>2</th>\n",
       "      <td>4801436758</td>\n",
       "      <td>10944546</td>\n",
       "      <td>Yorkshire</td>\n",
       "      <td>23068.3</td>\n",
       "      <td>2931</td>\n",
       "      <td>2931</td>\n",
       "      <td>435.0</td>\n",
       "      <td>VirtualRide</td>\n",
       "      <td>2021-02-17T13:32:49Z</td>\n",
       "      <td>7.870</td>\n",
       "      <td>77.3</td>\n",
       "      <td>179.8</td>\n",
       "      <td>440.0</td>\n",
       "      <td>112.0</td>\n",
       "      <td>502.0</td>\n",
       "      <td>162.9</td>\n",
       "      <td>193.0</td>\n",
       "    </tr>\n",
       "    <tr>\n",
       "      <th>3</th>\n",
       "      <td>4745819775</td>\n",
       "      <td>10944546</td>\n",
       "      <td>Richmond</td>\n",
       "      <td>21435.5</td>\n",
       "      <td>2456</td>\n",
       "      <td>2456</td>\n",
       "      <td>144.0</td>\n",
       "      <td>VirtualRide</td>\n",
       "      <td>2021-02-06T18:12:33Z</td>\n",
       "      <td>8.728</td>\n",
       "      <td>79.4</td>\n",
       "      <td>190.9</td>\n",
       "      <td>916.0</td>\n",
       "      <td>128.0</td>\n",
       "      <td>448.0</td>\n",
       "      <td>171.8</td>\n",
       "      <td>199.0</td>\n",
       "    </tr>\n",
       "    <tr>\n",
       "      <th>4</th>\n",
       "      <td>4713272644</td>\n",
       "      <td>10944546</td>\n",
       "      <td>Richmond</td>\n",
       "      <td>16823.5</td>\n",
       "      <td>1869</td>\n",
       "      <td>1869</td>\n",
       "      <td>136.0</td>\n",
       "      <td>VirtualRide</td>\n",
       "      <td>2021-01-31T18:41:40Z</td>\n",
       "      <td>9.001</td>\n",
       "      <td>79.0</td>\n",
       "      <td>179.5</td>\n",
       "      <td>829.0</td>\n",
       "      <td>85.0</td>\n",
       "      <td>320.0</td>\n",
       "      <td>168.2</td>\n",
       "      <td>196.0</td>\n",
       "    </tr>\n",
       "  </tbody>\n",
       "</table>\n",
       "</div>"
      ],
      "text/plain": [
       "           id  athlete_id                        name  distance  moving_time  \\\n",
       "0  4637673624    10944546                     Watopia   20920.4         2463   \n",
       "1  4513379684    10944546  Villes-sur-Auzon - Monieux   22359.2         3353   \n",
       "2  4801436758    10944546                   Yorkshire   23068.3         2931   \n",
       "3  4745819775    10944546                    Richmond   21435.5         2456   \n",
       "4  4713272644    10944546                    Richmond   16823.5         1869   \n",
       "\n",
       "   elapsed_time  total_elevation_gain         type      start_date_local  \\\n",
       "0          2463                 199.0  VirtualRide  2021-01-17T18:05:42Z   \n",
       "1          3409                 442.0  VirtualRide  2020-12-24T18:16:53Z   \n",
       "2          2931                 435.0  VirtualRide  2021-02-17T13:32:49Z   \n",
       "3          2456                 144.0  VirtualRide  2021-02-06T18:12:33Z   \n",
       "4          1869                 136.0  VirtualRide  2021-01-31T18:41:40Z   \n",
       "\n",
       "   average_speed  average_cadence  average_watts  max_watts  suffer_score  \\\n",
       "0          8.494             75.4          169.7      614.0          82.0   \n",
       "1          6.668             80.5          184.9      382.0         143.0   \n",
       "2          7.870             77.3          179.8      440.0         112.0   \n",
       "3          8.728             79.4          190.9      916.0         128.0   \n",
       "4          9.001             79.0          179.5      829.0          85.0   \n",
       "\n",
       "   calories  average_heart_rate  max_heart_rate  \n",
       "0     399.0               157.9           189.0  \n",
       "1     682.0               166.2           184.0  \n",
       "2     502.0               162.9           193.0  \n",
       "3     448.0               171.8           199.0  \n",
       "4     320.0               168.2           196.0  "
      ]
     },
     "execution_count": 5,
     "metadata": {},
     "output_type": "execute_result"
    }
   ],
   "source": [
    "activities_df.head(5)"
   ]
  },
  {
   "cell_type": "code",
   "execution_count": 6,
   "metadata": {},
   "outputs": [
    {
     "data": {
      "text/html": [
       "<div>\n",
       "<style scoped>\n",
       "    .dataframe tbody tr th:only-of-type {\n",
       "        vertical-align: middle;\n",
       "    }\n",
       "\n",
       "    .dataframe tbody tr th {\n",
       "        vertical-align: top;\n",
       "    }\n",
       "\n",
       "    .dataframe thead th {\n",
       "        text-align: right;\n",
       "    }\n",
       "</style>\n",
       "<table border=\"1\" class=\"dataframe\">\n",
       "  <thead>\n",
       "    <tr style=\"text-align: right;\">\n",
       "      <th></th>\n",
       "      <th>id</th>\n",
       "      <th>activity_id</th>\n",
       "      <th>athlete_id</th>\n",
       "      <th>name</th>\n",
       "      <th>type</th>\n",
       "      <th>elapsed_time</th>\n",
       "      <th>moving_time</th>\n",
       "      <th>start_date_local</th>\n",
       "      <th>distance</th>\n",
       "      <th>average_cadence</th>\n",
       "      <th>average_watts</th>\n",
       "      <th>average_grade</th>\n",
       "      <th>maximum_grade</th>\n",
       "      <th>climb_category</th>\n",
       "      <th>average_heart_rate</th>\n",
       "      <th>max_heart_rate</th>\n",
       "      <th>average_speed</th>\n",
       "    </tr>\n",
       "  </thead>\n",
       "  <tbody>\n",
       "    <tr>\n",
       "      <th>0</th>\n",
       "      <td>14270131</td>\n",
       "      <td>4637673624</td>\n",
       "      <td>10944546</td>\n",
       "      <td>Volcano KOM</td>\n",
       "      <td>VirtualRide</td>\n",
       "      <td>654</td>\n",
       "      <td>654</td>\n",
       "      <td>2021-01-17T18:28:18Z</td>\n",
       "      <td>3753.7</td>\n",
       "      <td>76.8</td>\n",
       "      <td>209.3</td>\n",
       "      <td>3.2</td>\n",
       "      <td>11.3</td>\n",
       "      <td>1</td>\n",
       "      <td>177.9</td>\n",
       "      <td>189.0</td>\n",
       "      <td>5.739602</td>\n",
       "    </tr>\n",
       "    <tr>\n",
       "      <th>1</th>\n",
       "      <td>19970445</td>\n",
       "      <td>4637673624</td>\n",
       "      <td>10944546</td>\n",
       "      <td>Volcano Descent</td>\n",
       "      <td>VirtualRide</td>\n",
       "      <td>281</td>\n",
       "      <td>281</td>\n",
       "      <td>2021-01-17T18:40:17Z</td>\n",
       "      <td>3507.7</td>\n",
       "      <td>64.5</td>\n",
       "      <td>111.1</td>\n",
       "      <td>-3.4</td>\n",
       "      <td>5.9</td>\n",
       "      <td>0</td>\n",
       "      <td>151.6</td>\n",
       "      <td>170.0</td>\n",
       "      <td>12.482918</td>\n",
       "    </tr>\n",
       "    <tr>\n",
       "      <th>2</th>\n",
       "      <td>22513982</td>\n",
       "      <td>4513379684</td>\n",
       "      <td>10944546</td>\n",
       "      <td>Full Ride</td>\n",
       "      <td>VirtualRide</td>\n",
       "      <td>3407</td>\n",
       "      <td>3351</td>\n",
       "      <td>2020-12-24T18:16:53Z</td>\n",
       "      <td>22343.3</td>\n",
       "      <td>80.2</td>\n",
       "      <td>183.4</td>\n",
       "      <td>1.6</td>\n",
       "      <td>7.5</td>\n",
       "      <td>0</td>\n",
       "      <td>165.2</td>\n",
       "      <td>184.0</td>\n",
       "      <td>6.558057</td>\n",
       "    </tr>\n",
       "    <tr>\n",
       "      <th>3</th>\n",
       "      <td>23240825</td>\n",
       "      <td>4513379684</td>\n",
       "      <td>10944546</td>\n",
       "      <td>First 3,5 km</td>\n",
       "      <td>VirtualRide</td>\n",
       "      <td>763</td>\n",
       "      <td>707</td>\n",
       "      <td>2020-12-24T18:16:53Z</td>\n",
       "      <td>3664.3</td>\n",
       "      <td>78.2</td>\n",
       "      <td>179.8</td>\n",
       "      <td>3.3</td>\n",
       "      <td>5.0</td>\n",
       "      <td>1</td>\n",
       "      <td>151.0</td>\n",
       "      <td>171.0</td>\n",
       "      <td>4.802490</td>\n",
       "    </tr>\n",
       "    <tr>\n",
       "      <th>4</th>\n",
       "      <td>22745156</td>\n",
       "      <td>4513379684</td>\n",
       "      <td>10944546</td>\n",
       "      <td>rouby - les gorges de la nesque</td>\n",
       "      <td>VirtualRide</td>\n",
       "      <td>3183</td>\n",
       "      <td>3127</td>\n",
       "      <td>2020-12-24T18:16:53Z</td>\n",
       "      <td>19504.8</td>\n",
       "      <td>80.1</td>\n",
       "      <td>186.8</td>\n",
       "      <td>2.2</td>\n",
       "      <td>7.8</td>\n",
       "      <td>0</td>\n",
       "      <td>165.5</td>\n",
       "      <td>184.0</td>\n",
       "      <td>6.127804</td>\n",
       "    </tr>\n",
       "  </tbody>\n",
       "</table>\n",
       "</div>"
      ],
      "text/plain": [
       "         id  activity_id  athlete_id                             name  \\\n",
       "0  14270131   4637673624    10944546                      Volcano KOM   \n",
       "1  19970445   4637673624    10944546                  Volcano Descent   \n",
       "2  22513982   4513379684    10944546                        Full Ride   \n",
       "3  23240825   4513379684    10944546                     First 3,5 km   \n",
       "4  22745156   4513379684    10944546  rouby - les gorges de la nesque   \n",
       "\n",
       "          type  elapsed_time  moving_time      start_date_local  distance  \\\n",
       "0  VirtualRide           654          654  2021-01-17T18:28:18Z    3753.7   \n",
       "1  VirtualRide           281          281  2021-01-17T18:40:17Z    3507.7   \n",
       "2  VirtualRide          3407         3351  2020-12-24T18:16:53Z   22343.3   \n",
       "3  VirtualRide           763          707  2020-12-24T18:16:53Z    3664.3   \n",
       "4  VirtualRide          3183         3127  2020-12-24T18:16:53Z   19504.8   \n",
       "\n",
       "   average_cadence  average_watts  average_grade  maximum_grade  \\\n",
       "0             76.8          209.3            3.2           11.3   \n",
       "1             64.5          111.1           -3.4            5.9   \n",
       "2             80.2          183.4            1.6            7.5   \n",
       "3             78.2          179.8            3.3            5.0   \n",
       "4             80.1          186.8            2.2            7.8   \n",
       "\n",
       "   climb_category  average_heart_rate  max_heart_rate  average_speed  \n",
       "0               1               177.9           189.0       5.739602  \n",
       "1               0               151.6           170.0      12.482918  \n",
       "2               0               165.2           184.0       6.558057  \n",
       "3               1               151.0           171.0       4.802490  \n",
       "4               0               165.5           184.0       6.127804  "
      ]
     },
     "execution_count": 6,
     "metadata": {},
     "output_type": "execute_result"
    }
   ],
   "source": [
    "segments_df.head(5)"
   ]
  },
  {
   "cell_type": "code",
   "execution_count": 7,
   "metadata": {},
   "outputs": [
    {
     "name": "stdout",
     "output_type": "stream",
     "text": [
      "(215, 17)\n",
      "(2027, 17)\n"
     ]
    }
   ],
   "source": [
    "print(activities_df.shape)\n",
    "print(segments_df.shape)"
   ]
  },
  {
   "cell_type": "code",
   "execution_count": 8,
   "metadata": {},
   "outputs": [
    {
     "data": {
      "text/plain": [
       "id                        int64\n",
       "athlete_id                int64\n",
       "name                     object\n",
       "distance                float64\n",
       "moving_time               int64\n",
       "elapsed_time              int64\n",
       "total_elevation_gain    float64\n",
       "type                     object\n",
       "start_date_local         object\n",
       "average_speed           float64\n",
       "average_cadence         float64\n",
       "average_watts           float64\n",
       "max_watts               float64\n",
       "suffer_score            float64\n",
       "calories                float64\n",
       "average_heart_rate      float64\n",
       "max_heart_rate          float64\n",
       "dtype: object"
      ]
     },
     "execution_count": 8,
     "metadata": {},
     "output_type": "execute_result"
    }
   ],
   "source": [
    "activities_df.dtypes"
   ]
  },
  {
   "cell_type": "code",
   "execution_count": 9,
   "metadata": {},
   "outputs": [
    {
     "data": {
      "text/plain": [
       "id                      int64\n",
       "activity_id             int64\n",
       "athlete_id              int64\n",
       "name                   object\n",
       "type                   object\n",
       "elapsed_time            int64\n",
       "moving_time             int64\n",
       "start_date_local       object\n",
       "distance              float64\n",
       "average_cadence       float64\n",
       "average_watts         float64\n",
       "average_grade         float64\n",
       "maximum_grade         float64\n",
       "climb_category          int64\n",
       "average_heart_rate    float64\n",
       "max_heart_rate        float64\n",
       "average_speed         float64\n",
       "dtype: object"
      ]
     },
     "execution_count": 9,
     "metadata": {},
     "output_type": "execute_result"
    }
   ],
   "source": [
    "segments_df.dtypes"
   ]
  },
  {
   "cell_type": "markdown",
   "metadata": {},
   "source": [
    "## Naive Algo\n",
    "\n",
    "Algo, which predicts travel time over a given distance based on the average speed of all segments of the train."
   ]
  },
  {
   "cell_type": "code",
   "execution_count": 10,
   "metadata": {},
   "outputs": [
    {
     "data": {
      "text/html": [
       "<div>\n",
       "<style scoped>\n",
       "    .dataframe tbody tr th:only-of-type {\n",
       "        vertical-align: middle;\n",
       "    }\n",
       "\n",
       "    .dataframe tbody tr th {\n",
       "        vertical-align: top;\n",
       "    }\n",
       "\n",
       "    .dataframe thead th {\n",
       "        text-align: right;\n",
       "    }\n",
       "</style>\n",
       "<table border=\"1\" class=\"dataframe\">\n",
       "  <thead>\n",
       "    <tr style=\"text-align: right;\">\n",
       "      <th></th>\n",
       "      <th>elapsed_time</th>\n",
       "      <th>distance</th>\n",
       "      <th>average_speed</th>\n",
       "    </tr>\n",
       "  </thead>\n",
       "  <tbody>\n",
       "    <tr>\n",
       "      <th>0</th>\n",
       "      <td>654</td>\n",
       "      <td>3753.7</td>\n",
       "      <td>5.739602</td>\n",
       "    </tr>\n",
       "    <tr>\n",
       "      <th>1</th>\n",
       "      <td>281</td>\n",
       "      <td>3507.7</td>\n",
       "      <td>12.482918</td>\n",
       "    </tr>\n",
       "    <tr>\n",
       "      <th>2</th>\n",
       "      <td>3407</td>\n",
       "      <td>22343.3</td>\n",
       "      <td>6.558057</td>\n",
       "    </tr>\n",
       "    <tr>\n",
       "      <th>3</th>\n",
       "      <td>763</td>\n",
       "      <td>3664.3</td>\n",
       "      <td>4.802490</td>\n",
       "    </tr>\n",
       "    <tr>\n",
       "      <th>4</th>\n",
       "      <td>3183</td>\n",
       "      <td>19504.8</td>\n",
       "      <td>6.127804</td>\n",
       "    </tr>\n",
       "  </tbody>\n",
       "</table>\n",
       "</div>"
      ],
      "text/plain": [
       "   elapsed_time  distance  average_speed\n",
       "0           654    3753.7       5.739602\n",
       "1           281    3507.7      12.482918\n",
       "2          3407   22343.3       6.558057\n",
       "3           763    3664.3       4.802490\n",
       "4          3183   19504.8       6.127804"
      ]
     },
     "execution_count": 10,
     "metadata": {},
     "output_type": "execute_result"
    }
   ],
   "source": [
    "columns = ['elapsed_time','distance','average_speed']\n",
    "data = segments_df[columns]\n",
    "data.head(5)"
   ]
  },
  {
   "cell_type": "code",
   "execution_count": 11,
   "metadata": {},
   "outputs": [
    {
     "name": "stdout",
     "output_type": "stream",
     "text": [
      "(1824,)\n",
      "(1824, 2)\n",
      "(203,)\n",
      "(203, 2)\n"
     ]
    }
   ],
   "source": [
    "train_set , test_set = train_test_split(data, test_size=0.1, random_state=42)\n",
    "\n",
    "y_train = train_set[\"elapsed_time\"]\n",
    "X_train = train_set.drop(\"elapsed_time\", axis=1)\n",
    "y_test  = test_set[\"elapsed_time\"]\n",
    "X_test = test_set.drop(\"elapsed_time\", axis=1)\n",
    "\n",
    "\n",
    "print(y_train.shape)\n",
    "print(X_train.shape)\n",
    "print(y_test.shape)\n",
    "print(X_test.shape)"
   ]
  },
  {
   "cell_type": "markdown",
   "metadata": {},
   "source": [
    "### Calculation of the average speed of the train segments"
   ]
  },
  {
   "cell_type": "code",
   "execution_count": 12,
   "metadata": {},
   "outputs": [
    {
     "data": {
      "text/plain": [
       "5.945320881522815"
      ]
     },
     "execution_count": 12,
     "metadata": {},
     "output_type": "execute_result"
    }
   ],
   "source": [
    "mean_speed_train = X_train['average_speed'].mean()\n",
    "mean_speed_train"
   ]
  },
  {
   "cell_type": "markdown",
   "metadata": {},
   "source": [
    "### Prédiction "
   ]
  },
  {
   "cell_type": "code",
   "execution_count": 13,
   "metadata": {
    "scrolled": true
   },
   "outputs": [],
   "source": [
    "X_test['elapsed_time_pred'] = X_test['distance'] / mean_speed_train\n",
    "y_pred = X_test['elapsed_time_pred'].values"
   ]
  },
  {
   "cell_type": "code",
   "execution_count": 14,
   "metadata": {},
   "outputs": [
    {
     "name": "stdout",
     "output_type": "stream",
     "text": [
      "naive_mae : 258.3308683024614\n",
      "naive_mape: 0.36804839590606236\n",
      "naive_rmse: 559.4760824114861\n"
     ]
    }
   ],
   "source": [
    "mae_naive = mean_absolute_error(y_test,y_pred)\n",
    "mape_naive = mean_absolute_percentage_error(y_test, y_pred)\n",
    "rmse_naive = np.sqrt(mean_squared_error(y_test,y_pred))\n",
    "print(f'naive_mae : {mae_naive}')\n",
    "print(f'naive_mape: {mape_naive}')\n",
    "print(f'naive_rmse: {rmse_naive}')"
   ]
  },
  {
   "cell_type": "markdown",
   "metadata": {},
   "source": [
    "### Prediction of the naive algorithm on the alpe d'huez"
   ]
  },
  {
   "cell_type": "code",
   "execution_count": 15,
   "metadata": {},
   "outputs": [
    {
     "data": {
      "text/html": [
       "<div>\n",
       "<style scoped>\n",
       "    .dataframe tbody tr th:only-of-type {\n",
       "        vertical-align: middle;\n",
       "    }\n",
       "\n",
       "    .dataframe tbody tr th {\n",
       "        vertical-align: top;\n",
       "    }\n",
       "\n",
       "    .dataframe thead th {\n",
       "        text-align: right;\n",
       "    }\n",
       "</style>\n",
       "<table border=\"1\" class=\"dataframe\">\n",
       "  <thead>\n",
       "    <tr style=\"text-align: right;\">\n",
       "      <th></th>\n",
       "      <th>distance</th>\n",
       "      <th>altitude_gain</th>\n",
       "      <th>average_grade</th>\n",
       "      <th>all_points</th>\n",
       "    </tr>\n",
       "  </thead>\n",
       "  <tbody>\n",
       "    <tr>\n",
       "      <th>0</th>\n",
       "      <td>270.55</td>\n",
       "      <td>-0.80</td>\n",
       "      <td>-0.30</td>\n",
       "      <td>[[45.05476, 6.031770000000001], [45.0547500000...</td>\n",
       "    </tr>\n",
       "    <tr>\n",
       "      <th>1</th>\n",
       "      <td>422.22</td>\n",
       "      <td>4.33</td>\n",
       "      <td>1.03</td>\n",
       "      <td>[[45.056370001328915, 6.034199995890939], [45....</td>\n",
       "    </tr>\n",
       "    <tr>\n",
       "      <th>2</th>\n",
       "      <td>427.89</td>\n",
       "      <td>-5.51</td>\n",
       "      <td>-1.29</td>\n",
       "      <td>[[45.059050000000006, 6.0379000000000005], [45...</td>\n",
       "    </tr>\n",
       "    <tr>\n",
       "      <th>3</th>\n",
       "      <td>12615.51</td>\n",
       "      <td>1063.27</td>\n",
       "      <td>8.43</td>\n",
       "      <td>[[45.062720000000006, 6.03701], [45.0628500000...</td>\n",
       "    </tr>\n",
       "  </tbody>\n",
       "</table>\n",
       "</div>"
      ],
      "text/plain": [
       "   distance  altitude_gain  average_grade  \\\n",
       "0    270.55          -0.80          -0.30   \n",
       "1    422.22           4.33           1.03   \n",
       "2    427.89          -5.51          -1.29   \n",
       "3  12615.51        1063.27           8.43   \n",
       "\n",
       "                                          all_points  \n",
       "0  [[45.05476, 6.031770000000001], [45.0547500000...  \n",
       "1  [[45.056370001328915, 6.034199995890939], [45....  \n",
       "2  [[45.059050000000006, 6.0379000000000005], [45...  \n",
       "3  [[45.062720000000006, 6.03701], [45.0628500000...  "
      ]
     },
     "execution_count": 15,
     "metadata": {},
     "output_type": "execute_result"
    }
   ],
   "source": [
    "query = {\n",
    "    \"query\": {\n",
    "        \"match\": {\n",
    "            \"_id\": 2787335981548134218\n",
    "        }\n",
    "    }\n",
    "}\n",
    "\n",
    "result = database.search(\n",
    "    index=\"index_route\",\n",
    "    size=1000,\n",
    "    body= query\n",
    ")\n",
    "\n",
    "route_alpe = result['hits']['hits'][0]['_source']\n",
    "segments_alpe = route_alpe.get(\"segmentation\")\n",
    "segments_alpe_df = pd.DataFrame(segments_alpe)\n",
    "segments_alpe_df"
   ]
  },
  {
   "cell_type": "code",
   "execution_count": 16,
   "metadata": {},
   "outputs": [
    {
     "data": {
      "text/html": [
       "<div>\n",
       "<style scoped>\n",
       "    .dataframe tbody tr th:only-of-type {\n",
       "        vertical-align: middle;\n",
       "    }\n",
       "\n",
       "    .dataframe tbody tr th {\n",
       "        vertical-align: top;\n",
       "    }\n",
       "\n",
       "    .dataframe thead th {\n",
       "        text-align: right;\n",
       "    }\n",
       "</style>\n",
       "<table border=\"1\" class=\"dataframe\">\n",
       "  <thead>\n",
       "    <tr style=\"text-align: right;\">\n",
       "      <th></th>\n",
       "      <th>distance</th>\n",
       "      <th>altitude_gain</th>\n",
       "      <th>average_grade</th>\n",
       "      <th>all_points</th>\n",
       "      <th>elapsed_time_pred</th>\n",
       "    </tr>\n",
       "  </thead>\n",
       "  <tbody>\n",
       "    <tr>\n",
       "      <th>0</th>\n",
       "      <td>270.55</td>\n",
       "      <td>-0.80</td>\n",
       "      <td>-0.30</td>\n",
       "      <td>[[45.05476, 6.031770000000001], [45.0547500000...</td>\n",
       "      <td>45.506375</td>\n",
       "    </tr>\n",
       "    <tr>\n",
       "      <th>1</th>\n",
       "      <td>422.22</td>\n",
       "      <td>4.33</td>\n",
       "      <td>1.03</td>\n",
       "      <td>[[45.056370001328915, 6.034199995890939], [45....</td>\n",
       "      <td>71.017193</td>\n",
       "    </tr>\n",
       "    <tr>\n",
       "      <th>2</th>\n",
       "      <td>427.89</td>\n",
       "      <td>-5.51</td>\n",
       "      <td>-1.29</td>\n",
       "      <td>[[45.059050000000006, 6.0379000000000005], [45...</td>\n",
       "      <td>71.970884</td>\n",
       "    </tr>\n",
       "    <tr>\n",
       "      <th>3</th>\n",
       "      <td>12615.51</td>\n",
       "      <td>1063.27</td>\n",
       "      <td>8.43</td>\n",
       "      <td>[[45.062720000000006, 6.03701], [45.0628500000...</td>\n",
       "      <td>2121.922475</td>\n",
       "    </tr>\n",
       "  </tbody>\n",
       "</table>\n",
       "</div>"
      ],
      "text/plain": [
       "   distance  altitude_gain  average_grade  \\\n",
       "0    270.55          -0.80          -0.30   \n",
       "1    422.22           4.33           1.03   \n",
       "2    427.89          -5.51          -1.29   \n",
       "3  12615.51        1063.27           8.43   \n",
       "\n",
       "                                          all_points  elapsed_time_pred  \n",
       "0  [[45.05476, 6.031770000000001], [45.0547500000...          45.506375  \n",
       "1  [[45.056370001328915, 6.034199995890939], [45....          71.017193  \n",
       "2  [[45.059050000000006, 6.0379000000000005], [45...          71.970884  \n",
       "3  [[45.062720000000006, 6.03701], [45.0628500000...        2121.922475  "
      ]
     },
     "execution_count": 16,
     "metadata": {},
     "output_type": "execute_result"
    }
   ],
   "source": [
    "segments_alpe_df['elapsed_time_pred'] = segments_alpe_df['distance'] / mean_speed_train\n",
    "segments_alpe_df"
   ]
  },
  {
   "cell_type": "code",
   "execution_count": 17,
   "metadata": {},
   "outputs": [
    {
     "data": {
      "text/plain": [
       "2310.4169268121427"
      ]
     },
     "execution_count": 17,
     "metadata": {},
     "output_type": "execute_result"
    }
   ],
   "source": [
    "segments_alpe_df['elapsed_time_pred'].sum()"
   ]
  },
  {
   "cell_type": "code",
   "execution_count": 18,
   "metadata": {},
   "outputs": [
    {
     "data": {
      "text/plain": [
       "21.403155173482137"
      ]
     },
     "execution_count": 18,
     "metadata": {},
     "output_type": "execute_result"
    }
   ],
   "source": [
    "mean_speed_train*3.6"
   ]
  },
  {
   "cell_type": "code",
   "execution_count": 19,
   "metadata": {},
   "outputs": [],
   "source": [
    "elapsed_time_naive = relativedelta(seconds=segments_alpe_df['elapsed_time_pred'].sum())"
   ]
  },
  {
   "cell_type": "code",
   "execution_count": 20,
   "metadata": {},
   "outputs": [
    {
     "name": "stdout",
     "output_type": "stream",
     "text": [
      "Prediction 0h38m30sec\n"
     ]
    }
   ],
   "source": [
    "hour = elapsed_time_naive.hours\n",
    "minutes = int(elapsed_time_naive.minutes)\n",
    "seconds = int(elapsed_time_naive.seconds)\n",
    "print(f'Prediction {hour}h{minutes}m{seconds}sec')"
   ]
  },
  {
   "cell_type": "code",
   "execution_count": 21,
   "metadata": {},
   "outputs": [
    {
     "data": {
      "text/plain": [
       "2310.4169268121427"
      ]
     },
     "execution_count": 21,
     "metadata": {},
     "output_type": "execute_result"
    }
   ],
   "source": [
    "elapsed_time_pred_naive_sec = segments_alpe_df['elapsed_time_pred'].sum()\n",
    "elapsed_time_pred_naive_sec"
   ]
  },
  {
   "cell_type": "markdown",
   "metadata": {},
   "source": [
    "### The prediction of our naive algorithm looks just as wrong as the prediction we got from Strava (31:39)... The goal will be to train a model making more realistic predictions."
   ]
  },
  {
   "cell_type": "code",
   "execution_count": null,
   "metadata": {},
   "outputs": [],
   "source": []
  }
 ],
 "metadata": {
  "kernelspec": {
   "display_name": "cycling_travel_time",
   "language": "python",
   "name": "cycling_travel_time"
  },
  "language_info": {
   "codemirror_mode": {
    "name": "ipython",
    "version": 3
   },
   "file_extension": ".py",
   "mimetype": "text/x-python",
   "name": "python",
   "nbconvert_exporter": "python",
   "pygments_lexer": "ipython3",
   "version": "3.7.6"
  }
 },
 "nbformat": 4,
 "nbformat_minor": 4
}
