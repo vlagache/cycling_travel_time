{
 "cells": [
  {
   "cell_type": "code",
   "execution_count": 1,
   "metadata": {},
   "outputs": [],
   "source": [
    "import elasticsearch\n",
    "import pandas as pd\n",
    "from dateutil.relativedelta import relativedelta\n",
    "\n",
    "from sklearn.model_selection import train_test_split\n",
    "from sklearn.metrics import mean_absolute_error, mean_absolute_percentage_error"
   ]
  },
  {
   "cell_type": "markdown",
   "metadata": {},
   "source": [
    "### The goal is to make an algorithm that will serve as a baseline . The performance of the future models will have to be superior to this one."
   ]
  },
  {
   "cell_type": "code",
   "execution_count": 2,
   "metadata": {},
   "outputs": [],
   "source": [
    "hosts = [{\"host\": 'localhost', \"port\": 9200}]\n",
    "database = elasticsearch.Elasticsearch(hosts=hosts)"
   ]
  },
  {
   "cell_type": "code",
   "execution_count": 3,
   "metadata": {},
   "outputs": [],
   "source": [
    "def get_datas(database):\n",
    "    query = {\n",
    "        \"query\": {\n",
    "            \"match_all\": {}\n",
    "        }\n",
    "    }\n",
    "\n",
    "    result = database.search(\n",
    "        index=\"index_activity\",\n",
    "        size=1000,\n",
    "        body= query\n",
    "    )\n",
    "    \n",
    "    \n",
    "    activities = result['hits']['hits']\n",
    "    activities_json = [ activity.get(\"_source\") for activity in activities]\n",
    "    activities_df = pd.DataFrame(activities_json)\n",
    "    activities_df = activities_df.drop(columns=['py/object', 'segment_efforts'])\n",
    "    \n",
    "    segments_json = [ segment for activity in activities_json for segment in activity.get(\"segment_efforts\")]\n",
    "    segments_df = pd.DataFrame(segments_json)\n",
    "    segments_df = segments_df.drop(columns=['py/object'])\n",
    "    \n",
    "    return activities_df, segments_df\n",
    "\n",
    "activities_df, segments_df = get_datas(database)"
   ]
  },
  {
   "cell_type": "markdown",
   "metadata": {},
   "source": [
    "### Addition of the average speed for each of the segments"
   ]
  },
  {
   "cell_type": "code",
   "execution_count": 4,
   "metadata": {},
   "outputs": [],
   "source": [
    "segments_df['average_speed'] = segments_df['distance'] / segments_df['elapsed_time']"
   ]
  },
  {
   "cell_type": "code",
   "execution_count": 5,
   "metadata": {},
   "outputs": [
    {
     "data": {
      "text/html": [
       "<div>\n",
       "<style scoped>\n",
       "    .dataframe tbody tr th:only-of-type {\n",
       "        vertical-align: middle;\n",
       "    }\n",
       "\n",
       "    .dataframe tbody tr th {\n",
       "        vertical-align: top;\n",
       "    }\n",
       "\n",
       "    .dataframe thead th {\n",
       "        text-align: right;\n",
       "    }\n",
       "</style>\n",
       "<table border=\"1\" class=\"dataframe\">\n",
       "  <thead>\n",
       "    <tr style=\"text-align: right;\">\n",
       "      <th></th>\n",
       "      <th>id</th>\n",
       "      <th>athlete_id</th>\n",
       "      <th>name</th>\n",
       "      <th>distance</th>\n",
       "      <th>moving_time</th>\n",
       "      <th>elapsed_time</th>\n",
       "      <th>total_elevation_gain</th>\n",
       "      <th>type</th>\n",
       "      <th>start_date_local</th>\n",
       "      <th>average_speed</th>\n",
       "      <th>average_cadence</th>\n",
       "      <th>average_watts</th>\n",
       "      <th>max_watts</th>\n",
       "      <th>suffer_score</th>\n",
       "      <th>calories</th>\n",
       "      <th>average_heart_rate</th>\n",
       "      <th>max_heart_rate</th>\n",
       "    </tr>\n",
       "  </thead>\n",
       "  <tbody>\n",
       "    <tr>\n",
       "      <th>0</th>\n",
       "      <td>4801436758</td>\n",
       "      <td>10944546</td>\n",
       "      <td>Yorkshire</td>\n",
       "      <td>23068.3</td>\n",
       "      <td>2931</td>\n",
       "      <td>2931</td>\n",
       "      <td>435.0</td>\n",
       "      <td>VirtualRide</td>\n",
       "      <td>2021-02-17T13:32:49Z</td>\n",
       "      <td>7.870</td>\n",
       "      <td>77.3</td>\n",
       "      <td>179.8</td>\n",
       "      <td>440.0</td>\n",
       "      <td>112.0</td>\n",
       "      <td>502.0</td>\n",
       "      <td>162.9</td>\n",
       "      <td>193.0</td>\n",
       "    </tr>\n",
       "    <tr>\n",
       "      <th>1</th>\n",
       "      <td>4776486085</td>\n",
       "      <td>10944546</td>\n",
       "      <td>NYC</td>\n",
       "      <td>20694.8</td>\n",
       "      <td>2740</td>\n",
       "      <td>2740</td>\n",
       "      <td>377.0</td>\n",
       "      <td>VirtualRide</td>\n",
       "      <td>2021-02-12T18:36:15Z</td>\n",
       "      <td>7.553</td>\n",
       "      <td>77.6</td>\n",
       "      <td>171.0</td>\n",
       "      <td>335.0</td>\n",
       "      <td>128.0</td>\n",
       "      <td>447.0</td>\n",
       "      <td>169.0</td>\n",
       "      <td>194.0</td>\n",
       "    </tr>\n",
       "    <tr>\n",
       "      <th>2</th>\n",
       "      <td>4745819775</td>\n",
       "      <td>10944546</td>\n",
       "      <td>Richmond</td>\n",
       "      <td>21435.5</td>\n",
       "      <td>2456</td>\n",
       "      <td>2456</td>\n",
       "      <td>144.0</td>\n",
       "      <td>VirtualRide</td>\n",
       "      <td>2021-02-06T18:12:33Z</td>\n",
       "      <td>8.728</td>\n",
       "      <td>79.4</td>\n",
       "      <td>190.9</td>\n",
       "      <td>916.0</td>\n",
       "      <td>128.0</td>\n",
       "      <td>448.0</td>\n",
       "      <td>171.8</td>\n",
       "      <td>199.0</td>\n",
       "    </tr>\n",
       "    <tr>\n",
       "      <th>3</th>\n",
       "      <td>4713272644</td>\n",
       "      <td>10944546</td>\n",
       "      <td>Richmond</td>\n",
       "      <td>16823.5</td>\n",
       "      <td>1869</td>\n",
       "      <td>1869</td>\n",
       "      <td>136.0</td>\n",
       "      <td>VirtualRide</td>\n",
       "      <td>2021-01-31T18:41:40Z</td>\n",
       "      <td>9.001</td>\n",
       "      <td>79.0</td>\n",
       "      <td>179.5</td>\n",
       "      <td>829.0</td>\n",
       "      <td>85.0</td>\n",
       "      <td>320.0</td>\n",
       "      <td>168.2</td>\n",
       "      <td>196.0</td>\n",
       "    </tr>\n",
       "    <tr>\n",
       "      <th>4</th>\n",
       "      <td>4759444106</td>\n",
       "      <td>10944546</td>\n",
       "      <td>Innsbruck</td>\n",
       "      <td>17570.4</td>\n",
       "      <td>2835</td>\n",
       "      <td>2835</td>\n",
       "      <td>428.0</td>\n",
       "      <td>VirtualRide</td>\n",
       "      <td>2021-02-09T12:27:56Z</td>\n",
       "      <td>6.198</td>\n",
       "      <td>72.2</td>\n",
       "      <td>169.1</td>\n",
       "      <td>318.0</td>\n",
       "      <td>134.0</td>\n",
       "      <td>457.0</td>\n",
       "      <td>168.8</td>\n",
       "      <td>187.0</td>\n",
       "    </tr>\n",
       "  </tbody>\n",
       "</table>\n",
       "</div>"
      ],
      "text/plain": [
       "           id  athlete_id       name  distance  moving_time  elapsed_time  \\\n",
       "0  4801436758    10944546  Yorkshire   23068.3         2931          2931   \n",
       "1  4776486085    10944546        NYC   20694.8         2740          2740   \n",
       "2  4745819775    10944546   Richmond   21435.5         2456          2456   \n",
       "3  4713272644    10944546   Richmond   16823.5         1869          1869   \n",
       "4  4759444106    10944546  Innsbruck   17570.4         2835          2835   \n",
       "\n",
       "   total_elevation_gain         type      start_date_local  average_speed  \\\n",
       "0                 435.0  VirtualRide  2021-02-17T13:32:49Z          7.870   \n",
       "1                 377.0  VirtualRide  2021-02-12T18:36:15Z          7.553   \n",
       "2                 144.0  VirtualRide  2021-02-06T18:12:33Z          8.728   \n",
       "3                 136.0  VirtualRide  2021-01-31T18:41:40Z          9.001   \n",
       "4                 428.0  VirtualRide  2021-02-09T12:27:56Z          6.198   \n",
       "\n",
       "   average_cadence  average_watts  max_watts  suffer_score  calories  \\\n",
       "0             77.3          179.8      440.0         112.0     502.0   \n",
       "1             77.6          171.0      335.0         128.0     447.0   \n",
       "2             79.4          190.9      916.0         128.0     448.0   \n",
       "3             79.0          179.5      829.0          85.0     320.0   \n",
       "4             72.2          169.1      318.0         134.0     457.0   \n",
       "\n",
       "   average_heart_rate  max_heart_rate  \n",
       "0               162.9           193.0  \n",
       "1               169.0           194.0  \n",
       "2               171.8           199.0  \n",
       "3               168.2           196.0  \n",
       "4               168.8           187.0  "
      ]
     },
     "execution_count": 5,
     "metadata": {},
     "output_type": "execute_result"
    }
   ],
   "source": [
    "activities_df.head(5)"
   ]
  },
  {
   "cell_type": "code",
   "execution_count": 6,
   "metadata": {},
   "outputs": [
    {
     "data": {
      "text/html": [
       "<div>\n",
       "<style scoped>\n",
       "    .dataframe tbody tr th:only-of-type {\n",
       "        vertical-align: middle;\n",
       "    }\n",
       "\n",
       "    .dataframe tbody tr th {\n",
       "        vertical-align: top;\n",
       "    }\n",
       "\n",
       "    .dataframe thead th {\n",
       "        text-align: right;\n",
       "    }\n",
       "</style>\n",
       "<table border=\"1\" class=\"dataframe\">\n",
       "  <thead>\n",
       "    <tr style=\"text-align: right;\">\n",
       "      <th></th>\n",
       "      <th>id</th>\n",
       "      <th>activity_id</th>\n",
       "      <th>athlete_id</th>\n",
       "      <th>name</th>\n",
       "      <th>type</th>\n",
       "      <th>elapsed_time</th>\n",
       "      <th>moving_time</th>\n",
       "      <th>start_date_local</th>\n",
       "      <th>distance</th>\n",
       "      <th>average_cadence</th>\n",
       "      <th>average_watts</th>\n",
       "      <th>average_grade</th>\n",
       "      <th>maximum_grade</th>\n",
       "      <th>climb_category</th>\n",
       "      <th>average_heart_rate</th>\n",
       "      <th>max_heart_rate</th>\n",
       "      <th>average_speed</th>\n",
       "    </tr>\n",
       "  </thead>\n",
       "  <tbody>\n",
       "    <tr>\n",
       "      <th>0</th>\n",
       "      <td>27180136</td>\n",
       "      <td>4801436758</td>\n",
       "      <td>10944546</td>\n",
       "      <td>Kent Rd Climb to Sprint Banner (Zwift Insider ...</td>\n",
       "      <td>VirtualRide</td>\n",
       "      <td>176</td>\n",
       "      <td>176</td>\n",
       "      <td>2021-02-17T13:36:00Z</td>\n",
       "      <td>1137.3</td>\n",
       "      <td>81.4</td>\n",
       "      <td>183.4</td>\n",
       "      <td>2.6</td>\n",
       "      <td>7.0</td>\n",
       "      <td>0</td>\n",
       "      <td>149.4</td>\n",
       "      <td>156.0</td>\n",
       "      <td>6.461932</td>\n",
       "    </tr>\n",
       "    <tr>\n",
       "      <th>1</th>\n",
       "      <td>21748007</td>\n",
       "      <td>4801436758</td>\n",
       "      <td>10944546</td>\n",
       "      <td>Yorkshire Sprint Reverse</td>\n",
       "      <td>VirtualRide</td>\n",
       "      <td>63</td>\n",
       "      <td>63</td>\n",
       "      <td>2021-02-17T13:37:53Z</td>\n",
       "      <td>394.3</td>\n",
       "      <td>79.9</td>\n",
       "      <td>182.9</td>\n",
       "      <td>2.1</td>\n",
       "      <td>5.7</td>\n",
       "      <td>0</td>\n",
       "      <td>153.4</td>\n",
       "      <td>156.0</td>\n",
       "      <td>6.258730</td>\n",
       "    </tr>\n",
       "    <tr>\n",
       "      <th>2</th>\n",
       "      <td>27207377</td>\n",
       "      <td>4801436758</td>\n",
       "      <td>10944546</td>\n",
       "      <td>Finishing Straightaway (Zwift Insider verified)</td>\n",
       "      <td>VirtualRide</td>\n",
       "      <td>99</td>\n",
       "      <td>99</td>\n",
       "      <td>2021-02-17T13:40:47Z</td>\n",
       "      <td>611.1</td>\n",
       "      <td>78.4</td>\n",
       "      <td>192.3</td>\n",
       "      <td>3.3</td>\n",
       "      <td>10.2</td>\n",
       "      <td>0</td>\n",
       "      <td>156.7</td>\n",
       "      <td>162.0</td>\n",
       "      <td>6.172727</td>\n",
       "    </tr>\n",
       "    <tr>\n",
       "      <th>3</th>\n",
       "      <td>27180001</td>\n",
       "      <td>4801436758</td>\n",
       "      <td>10944546</td>\n",
       "      <td>Otley Rd Climb (Zwift Insider verified)</td>\n",
       "      <td>VirtualRide</td>\n",
       "      <td>285</td>\n",
       "      <td>285</td>\n",
       "      <td>2021-02-17T13:43:02Z</td>\n",
       "      <td>1641.6</td>\n",
       "      <td>75.5</td>\n",
       "      <td>204.1</td>\n",
       "      <td>3.4</td>\n",
       "      <td>6.6</td>\n",
       "      <td>0</td>\n",
       "      <td>164.7</td>\n",
       "      <td>172.0</td>\n",
       "      <td>5.760000</td>\n",
       "    </tr>\n",
       "    <tr>\n",
       "      <th>4</th>\n",
       "      <td>20837686</td>\n",
       "      <td>4801436758</td>\n",
       "      <td>10944546</td>\n",
       "      <td>Beckwithshaw to Penny Pot - Fulgaz</td>\n",
       "      <td>VirtualRide</td>\n",
       "      <td>256</td>\n",
       "      <td>256</td>\n",
       "      <td>2021-02-17T13:51:25Z</td>\n",
       "      <td>2323.4</td>\n",
       "      <td>75.5</td>\n",
       "      <td>189.3</td>\n",
       "      <td>-1.1</td>\n",
       "      <td>10.9</td>\n",
       "      <td>0</td>\n",
       "      <td>167.3</td>\n",
       "      <td>177.0</td>\n",
       "      <td>9.075781</td>\n",
       "    </tr>\n",
       "  </tbody>\n",
       "</table>\n",
       "</div>"
      ],
      "text/plain": [
       "         id  activity_id  athlete_id  \\\n",
       "0  27180136   4801436758    10944546   \n",
       "1  21748007   4801436758    10944546   \n",
       "2  27207377   4801436758    10944546   \n",
       "3  27180001   4801436758    10944546   \n",
       "4  20837686   4801436758    10944546   \n",
       "\n",
       "                                                name         type  \\\n",
       "0  Kent Rd Climb to Sprint Banner (Zwift Insider ...  VirtualRide   \n",
       "1                           Yorkshire Sprint Reverse  VirtualRide   \n",
       "2    Finishing Straightaway (Zwift Insider verified)  VirtualRide   \n",
       "3            Otley Rd Climb (Zwift Insider verified)  VirtualRide   \n",
       "4                 Beckwithshaw to Penny Pot - Fulgaz  VirtualRide   \n",
       "\n",
       "   elapsed_time  moving_time      start_date_local  distance  average_cadence  \\\n",
       "0           176          176  2021-02-17T13:36:00Z    1137.3             81.4   \n",
       "1            63           63  2021-02-17T13:37:53Z     394.3             79.9   \n",
       "2            99           99  2021-02-17T13:40:47Z     611.1             78.4   \n",
       "3           285          285  2021-02-17T13:43:02Z    1641.6             75.5   \n",
       "4           256          256  2021-02-17T13:51:25Z    2323.4             75.5   \n",
       "\n",
       "   average_watts  average_grade  maximum_grade  climb_category  \\\n",
       "0          183.4            2.6            7.0               0   \n",
       "1          182.9            2.1            5.7               0   \n",
       "2          192.3            3.3           10.2               0   \n",
       "3          204.1            3.4            6.6               0   \n",
       "4          189.3           -1.1           10.9               0   \n",
       "\n",
       "   average_heart_rate  max_heart_rate  average_speed  \n",
       "0               149.4           156.0       6.461932  \n",
       "1               153.4           156.0       6.258730  \n",
       "2               156.7           162.0       6.172727  \n",
       "3               164.7           172.0       5.760000  \n",
       "4               167.3           177.0       9.075781  "
      ]
     },
     "execution_count": 6,
     "metadata": {},
     "output_type": "execute_result"
    }
   ],
   "source": [
    "segments_df.head(5)"
   ]
  },
  {
   "cell_type": "code",
   "execution_count": 7,
   "metadata": {},
   "outputs": [
    {
     "name": "stdout",
     "output_type": "stream",
     "text": [
      "(211, 17)\n",
      "(1992, 17)\n"
     ]
    }
   ],
   "source": [
    "print(activities_df.shape)\n",
    "print(segments_df.shape)"
   ]
  },
  {
   "cell_type": "code",
   "execution_count": 8,
   "metadata": {},
   "outputs": [
    {
     "data": {
      "text/plain": [
       "id                        int64\n",
       "athlete_id                int64\n",
       "name                     object\n",
       "distance                float64\n",
       "moving_time               int64\n",
       "elapsed_time              int64\n",
       "total_elevation_gain    float64\n",
       "type                     object\n",
       "start_date_local         object\n",
       "average_speed           float64\n",
       "average_cadence         float64\n",
       "average_watts           float64\n",
       "max_watts               float64\n",
       "suffer_score            float64\n",
       "calories                float64\n",
       "average_heart_rate      float64\n",
       "max_heart_rate          float64\n",
       "dtype: object"
      ]
     },
     "execution_count": 8,
     "metadata": {},
     "output_type": "execute_result"
    }
   ],
   "source": [
    "activities_df.dtypes"
   ]
  },
  {
   "cell_type": "code",
   "execution_count": 9,
   "metadata": {},
   "outputs": [
    {
     "data": {
      "text/plain": [
       "id                      int64\n",
       "activity_id             int64\n",
       "athlete_id              int64\n",
       "name                   object\n",
       "type                   object\n",
       "elapsed_time            int64\n",
       "moving_time             int64\n",
       "start_date_local       object\n",
       "distance              float64\n",
       "average_cadence       float64\n",
       "average_watts         float64\n",
       "average_grade         float64\n",
       "maximum_grade         float64\n",
       "climb_category          int64\n",
       "average_heart_rate    float64\n",
       "max_heart_rate        float64\n",
       "average_speed         float64\n",
       "dtype: object"
      ]
     },
     "execution_count": 9,
     "metadata": {},
     "output_type": "execute_result"
    }
   ],
   "source": [
    "segments_df.dtypes"
   ]
  },
  {
   "cell_type": "markdown",
   "metadata": {},
   "source": [
    "## Naive Algo\n",
    "\n",
    "Algo, which predicts travel time over a given distance based on the average speed of all segments of the train."
   ]
  },
  {
   "cell_type": "code",
   "execution_count": 10,
   "metadata": {},
   "outputs": [
    {
     "data": {
      "text/html": [
       "<div>\n",
       "<style scoped>\n",
       "    .dataframe tbody tr th:only-of-type {\n",
       "        vertical-align: middle;\n",
       "    }\n",
       "\n",
       "    .dataframe tbody tr th {\n",
       "        vertical-align: top;\n",
       "    }\n",
       "\n",
       "    .dataframe thead th {\n",
       "        text-align: right;\n",
       "    }\n",
       "</style>\n",
       "<table border=\"1\" class=\"dataframe\">\n",
       "  <thead>\n",
       "    <tr style=\"text-align: right;\">\n",
       "      <th></th>\n",
       "      <th>elapsed_time</th>\n",
       "      <th>distance</th>\n",
       "      <th>average_speed</th>\n",
       "    </tr>\n",
       "  </thead>\n",
       "  <tbody>\n",
       "    <tr>\n",
       "      <th>0</th>\n",
       "      <td>176</td>\n",
       "      <td>1137.3</td>\n",
       "      <td>6.461932</td>\n",
       "    </tr>\n",
       "    <tr>\n",
       "      <th>1</th>\n",
       "      <td>63</td>\n",
       "      <td>394.3</td>\n",
       "      <td>6.258730</td>\n",
       "    </tr>\n",
       "    <tr>\n",
       "      <th>2</th>\n",
       "      <td>99</td>\n",
       "      <td>611.1</td>\n",
       "      <td>6.172727</td>\n",
       "    </tr>\n",
       "    <tr>\n",
       "      <th>3</th>\n",
       "      <td>285</td>\n",
       "      <td>1641.6</td>\n",
       "      <td>5.760000</td>\n",
       "    </tr>\n",
       "    <tr>\n",
       "      <th>4</th>\n",
       "      <td>256</td>\n",
       "      <td>2323.4</td>\n",
       "      <td>9.075781</td>\n",
       "    </tr>\n",
       "  </tbody>\n",
       "</table>\n",
       "</div>"
      ],
      "text/plain": [
       "   elapsed_time  distance  average_speed\n",
       "0           176    1137.3       6.461932\n",
       "1            63     394.3       6.258730\n",
       "2            99     611.1       6.172727\n",
       "3           285    1641.6       5.760000\n",
       "4           256    2323.4       9.075781"
      ]
     },
     "execution_count": 10,
     "metadata": {},
     "output_type": "execute_result"
    }
   ],
   "source": [
    "columns = ['elapsed_time','distance','average_speed']\n",
    "data = segments_df[columns]\n",
    "data.head(5)"
   ]
  },
  {
   "cell_type": "code",
   "execution_count": 11,
   "metadata": {},
   "outputs": [
    {
     "name": "stdout",
     "output_type": "stream",
     "text": [
      "(1792,)\n",
      "(1792, 2)\n",
      "(200,)\n",
      "(200, 2)\n"
     ]
    }
   ],
   "source": [
    "train_set , test_set = train_test_split(data, test_size=0.1, random_state=42)\n",
    "\n",
    "y_train = train_set[\"elapsed_time\"]\n",
    "X_train = train_set.drop(\"elapsed_time\", axis=1)\n",
    "y_test  = test_set[\"elapsed_time\"]\n",
    "X_test = test_set.drop(\"elapsed_time\", axis=1)\n",
    "\n",
    "\n",
    "print(y_train.shape)\n",
    "print(X_train.shape)\n",
    "print(y_test.shape)\n",
    "print(X_test.shape)"
   ]
  },
  {
   "cell_type": "markdown",
   "metadata": {},
   "source": [
    "### Calculation of the average speed of the train segments"
   ]
  },
  {
   "cell_type": "code",
   "execution_count": 12,
   "metadata": {},
   "outputs": [
    {
     "data": {
      "text/plain": [
       "5.941024411590056"
      ]
     },
     "execution_count": 12,
     "metadata": {},
     "output_type": "execute_result"
    }
   ],
   "source": [
    "mean_speed_train = X_train['average_speed'].mean()\n",
    "mean_speed_train"
   ]
  },
  {
   "cell_type": "markdown",
   "metadata": {},
   "source": [
    "### Prédiction "
   ]
  },
  {
   "cell_type": "code",
   "execution_count": 13,
   "metadata": {
    "scrolled": true
   },
   "outputs": [],
   "source": [
    "X_test['elapsed_time_pred'] = X_test['distance'] / mean_speed_train\n",
    "y_pred = X_test['elapsed_time_pred'].values"
   ]
  },
  {
   "cell_type": "code",
   "execution_count": 14,
   "metadata": {},
   "outputs": [
    {
     "name": "stdout",
     "output_type": "stream",
     "text": [
      "naive_mae : 257.7311365999788\n",
      "naive_mape: 0.3743327293974932\n"
     ]
    }
   ],
   "source": [
    "naive_mae = mean_absolute_error(y_test,y_pred)\n",
    "naive_mape = mean_absolute_percentage_error(y_test, y_pred)\n",
    "print(f'naive_mae : {naive_mae}')\n",
    "print(f'naive_mape: {naive_mape}')"
   ]
  },
  {
   "cell_type": "markdown",
   "metadata": {},
   "source": [
    "### Prediction of the naive algorithm on the alpe d'huez"
   ]
  },
  {
   "cell_type": "code",
   "execution_count": 19,
   "metadata": {},
   "outputs": [
    {
     "data": {
      "text/html": [
       "<div>\n",
       "<style scoped>\n",
       "    .dataframe tbody tr th:only-of-type {\n",
       "        vertical-align: middle;\n",
       "    }\n",
       "\n",
       "    .dataframe tbody tr th {\n",
       "        vertical-align: top;\n",
       "    }\n",
       "\n",
       "    .dataframe thead th {\n",
       "        text-align: right;\n",
       "    }\n",
       "</style>\n",
       "<table border=\"1\" class=\"dataframe\">\n",
       "  <thead>\n",
       "    <tr style=\"text-align: right;\">\n",
       "      <th></th>\n",
       "      <th>distance</th>\n",
       "      <th>altitude_gain</th>\n",
       "      <th>vertical_drop</th>\n",
       "      <th>all_points</th>\n",
       "    </tr>\n",
       "  </thead>\n",
       "  <tbody>\n",
       "    <tr>\n",
       "      <th>0</th>\n",
       "      <td>270.55</td>\n",
       "      <td>-0.80</td>\n",
       "      <td>-0.30</td>\n",
       "      <td>[[45.05476, 6.031770000000001], [45.0547500000...</td>\n",
       "    </tr>\n",
       "    <tr>\n",
       "      <th>1</th>\n",
       "      <td>422.22</td>\n",
       "      <td>4.33</td>\n",
       "      <td>1.03</td>\n",
       "      <td>[[45.056370001328915, 6.034199995890939], [45....</td>\n",
       "    </tr>\n",
       "    <tr>\n",
       "      <th>2</th>\n",
       "      <td>427.89</td>\n",
       "      <td>-5.51</td>\n",
       "      <td>-1.29</td>\n",
       "      <td>[[45.059050000000006, 6.0379000000000005], [45...</td>\n",
       "    </tr>\n",
       "    <tr>\n",
       "      <th>3</th>\n",
       "      <td>12615.51</td>\n",
       "      <td>1063.27</td>\n",
       "      <td>8.43</td>\n",
       "      <td>[[45.062720000000006, 6.03701], [45.0628500000...</td>\n",
       "    </tr>\n",
       "  </tbody>\n",
       "</table>\n",
       "</div>"
      ],
      "text/plain": [
       "   distance  altitude_gain  vertical_drop  \\\n",
       "0    270.55          -0.80          -0.30   \n",
       "1    422.22           4.33           1.03   \n",
       "2    427.89          -5.51          -1.29   \n",
       "3  12615.51        1063.27           8.43   \n",
       "\n",
       "                                          all_points  \n",
       "0  [[45.05476, 6.031770000000001], [45.0547500000...  \n",
       "1  [[45.056370001328915, 6.034199995890939], [45....  \n",
       "2  [[45.059050000000006, 6.0379000000000005], [45...  \n",
       "3  [[45.062720000000006, 6.03701], [45.0628500000...  "
      ]
     },
     "execution_count": 19,
     "metadata": {},
     "output_type": "execute_result"
    }
   ],
   "source": [
    "query = {\n",
    "    \"query\": {\n",
    "        \"match\": {\n",
    "            \"_id\": 2787335981548134218\n",
    "        }\n",
    "    }\n",
    "}\n",
    "\n",
    "result = database.search(\n",
    "    index=\"index_route\",\n",
    "    size=1000,\n",
    "    body= query\n",
    ")\n",
    "\n",
    "route_alpe = result['hits']['hits'][0]['_source']\n",
    "segments_alpe = route_alpe.get(\"segmentation\")\n",
    "segments_alpe_df = pd.DataFrame(segments_alpe)\n",
    "segments_alpe_df"
   ]
  },
  {
   "cell_type": "code",
   "execution_count": 20,
   "metadata": {},
   "outputs": [
    {
     "data": {
      "text/html": [
       "<div>\n",
       "<style scoped>\n",
       "    .dataframe tbody tr th:only-of-type {\n",
       "        vertical-align: middle;\n",
       "    }\n",
       "\n",
       "    .dataframe tbody tr th {\n",
       "        vertical-align: top;\n",
       "    }\n",
       "\n",
       "    .dataframe thead th {\n",
       "        text-align: right;\n",
       "    }\n",
       "</style>\n",
       "<table border=\"1\" class=\"dataframe\">\n",
       "  <thead>\n",
       "    <tr style=\"text-align: right;\">\n",
       "      <th></th>\n",
       "      <th>distance</th>\n",
       "      <th>altitude_gain</th>\n",
       "      <th>vertical_drop</th>\n",
       "      <th>all_points</th>\n",
       "      <th>elapsed_time_pred</th>\n",
       "    </tr>\n",
       "  </thead>\n",
       "  <tbody>\n",
       "    <tr>\n",
       "      <th>0</th>\n",
       "      <td>270.55</td>\n",
       "      <td>-0.80</td>\n",
       "      <td>-0.30</td>\n",
       "      <td>[[45.05476, 6.031770000000001], [45.0547500000...</td>\n",
       "      <td>45.539284</td>\n",
       "    </tr>\n",
       "    <tr>\n",
       "      <th>1</th>\n",
       "      <td>422.22</td>\n",
       "      <td>4.33</td>\n",
       "      <td>1.03</td>\n",
       "      <td>[[45.056370001328915, 6.034199995890939], [45....</td>\n",
       "      <td>71.068552</td>\n",
       "    </tr>\n",
       "    <tr>\n",
       "      <th>2</th>\n",
       "      <td>427.89</td>\n",
       "      <td>-5.51</td>\n",
       "      <td>-1.29</td>\n",
       "      <td>[[45.059050000000006, 6.0379000000000005], [45...</td>\n",
       "      <td>72.022932</td>\n",
       "    </tr>\n",
       "    <tr>\n",
       "      <th>3</th>\n",
       "      <td>12615.51</td>\n",
       "      <td>1063.27</td>\n",
       "      <td>8.43</td>\n",
       "      <td>[[45.062720000000006, 6.03701], [45.0628500000...</td>\n",
       "      <td>2123.457021</td>\n",
       "    </tr>\n",
       "  </tbody>\n",
       "</table>\n",
       "</div>"
      ],
      "text/plain": [
       "   distance  altitude_gain  vertical_drop  \\\n",
       "0    270.55          -0.80          -0.30   \n",
       "1    422.22           4.33           1.03   \n",
       "2    427.89          -5.51          -1.29   \n",
       "3  12615.51        1063.27           8.43   \n",
       "\n",
       "                                          all_points  elapsed_time_pred  \n",
       "0  [[45.05476, 6.031770000000001], [45.0547500000...          45.539284  \n",
       "1  [[45.056370001328915, 6.034199995890939], [45....          71.068552  \n",
       "2  [[45.059050000000006, 6.0379000000000005], [45...          72.022932  \n",
       "3  [[45.062720000000006, 6.03701], [45.0628500000...        2123.457021  "
      ]
     },
     "execution_count": 20,
     "metadata": {},
     "output_type": "execute_result"
    }
   ],
   "source": [
    "segments_alpe_df['elapsed_time_pred'] = segments_alpe_df['distance'] / mean_speed_train\n",
    "segments_alpe_df"
   ]
  },
  {
   "cell_type": "code",
   "execution_count": 21,
   "metadata": {},
   "outputs": [
    {
     "data": {
      "text/plain": [
       "2312.087789641593"
      ]
     },
     "execution_count": 21,
     "metadata": {},
     "output_type": "execute_result"
    }
   ],
   "source": [
    "segments_alpe_df['elapsed_time_pred'].sum()"
   ]
  },
  {
   "cell_type": "code",
   "execution_count": 22,
   "metadata": {},
   "outputs": [
    {
     "data": {
      "text/plain": [
       "21.3876878817242"
      ]
     },
     "execution_count": 22,
     "metadata": {},
     "output_type": "execute_result"
    }
   ],
   "source": [
    "mean_speed_train*3.6"
   ]
  },
  {
   "cell_type": "code",
   "execution_count": 23,
   "metadata": {},
   "outputs": [],
   "source": [
    "elapsed_time = relativedelta(seconds=segments_alpe_df['elapsed_time_pred'].sum())"
   ]
  },
  {
   "cell_type": "code",
   "execution_count": 24,
   "metadata": {},
   "outputs": [
    {
     "name": "stdout",
     "output_type": "stream",
     "text": [
      "Prediction 0h38m32sec\n"
     ]
    }
   ],
   "source": [
    "hour = elapsed_time.hours\n",
    "minutes = int(elapsed_time.minutes)\n",
    "seconds = int(elapsed_time.seconds)\n",
    "print(f'Prediction {hour}h{minutes}m{seconds}sec')"
   ]
  },
  {
   "cell_type": "markdown",
   "metadata": {},
   "source": [
    "### The prediction of our naive algorithm looks just as wrong as the prediction we got from Strava... The goal will be to train a model making more realistic predictions."
   ]
  },
  {
   "cell_type": "markdown",
   "metadata": {},
   "source": [
    "![alpe](https://github.com/vlagache/cycling_travel_time/blob/model/notebooks_explanations/datas/images/alpe_pred.PNG)"
   ]
  },
  {
   "cell_type": "code",
   "execution_count": null,
   "metadata": {},
   "outputs": [],
   "source": []
  }
 ],
 "metadata": {
  "kernelspec": {
   "display_name": "cycling_travel_time",
   "language": "python",
   "name": "cycling_travel_time"
  },
  "language_info": {
   "codemirror_mode": {
    "name": "ipython",
    "version": 3
   },
   "file_extension": ".py",
   "mimetype": "text/x-python",
   "name": "python",
   "nbconvert_exporter": "python",
   "pygments_lexer": "ipython3",
   "version": "3.6.11"
  }
 },
 "nbformat": 4,
 "nbformat_minor": 4
}
